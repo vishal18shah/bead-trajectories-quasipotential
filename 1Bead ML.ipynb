{
 "cells": [
  {
   "cell_type": "code",
   "execution_count": null,
   "id": "17d34f05",
   "metadata": {},
   "outputs": [],
   "source": [
    "#! nvidia-smi"
   ]
  },
  {
   "cell_type": "code",
   "execution_count": 81,
   "id": "66f3121e-b0e4-46b0-ab2a-09540cec3cab",
   "metadata": {},
   "outputs": [
    {
     "ename": "SyntaxError",
     "evalue": "invalid syntax (1301303582.py, line 2)",
     "output_type": "error",
     "traceback": [
      "\u001b[0;36m  Cell \u001b[0;32mIn[81], line 2\u001b[0;36m\u001b[0m\n\u001b[0;31m    conda install scipy\u001b[0m\n\u001b[0m          ^\u001b[0m\n\u001b[0;31mSyntaxError\u001b[0m\u001b[0;31m:\u001b[0m invalid syntax\n"
     ]
    }
   ],
   "source": [
    "#conda install pytorch torchvision -c pytorch"
   ]
  },
  {
   "cell_type": "code",
   "execution_count": 85,
   "id": "b280ca44",
   "metadata": {},
   "outputs": [],
   "source": [
    "import os\n",
    "def EXIT_NOTEBOOK(): os._exit(00)\n",
    "#os.environ['CUDA_VISIBLE_DEVICES'] = '3'\n",
    "os.environ['TF_CPP_MIN_LOG_LEVEL'] = '3' "
   ]
  },
  {
   "cell_type": "code",
   "execution_count": 87,
   "id": "36ba82b5",
   "metadata": {},
   "outputs": [],
   "source": [
    "import numpy as np\n",
    "import matplotlib.pyplot as plt\n",
    "from tqdm.notebook import tqdm\n",
    "import random\n",
    "import torch \n",
    "from torch import nn\n",
    "import torch.nn.functional as func\n",
    "import seaborn as sns\n",
    "import matplotlib.ticker\n",
    "\n",
    "# # ps\n",
    "# import pysindy as ps\n",
    "\n",
    "# sns.set_theme()\n",
    "torch.set_default_dtype(torch.float64)\n",
    "plt.rcParams['text.usetex'] = True"
   ]
  },
  {
   "cell_type": "markdown",
   "id": "e265ae5e",
   "metadata": {},
   "source": [
    "# Set the vector field"
   ]
  },
  {
   "cell_type": "code",
   "execution_count": 90,
   "id": "fb5d2cd6",
   "metadata": {
    "code_folding": []
   },
   "outputs": [],
   "source": [
    "def get_v(x):\n",
    "    x = x[...,-1]\n",
    "    return np.stack([3*x*np.exp(-2*x**2),3*x*np.exp(-2*x**2)-5*x],axis=-1)"
   ]
  },
  {
   "cell_type": "code",
   "execution_count": 92,
   "id": "a9a3b215",
   "metadata": {},
   "outputs": [],
   "source": [
    "dim = 1"
   ]
  },
  {
   "cell_type": "markdown",
   "id": "6f339b9d",
   "metadata": {},
   "source": [
    "# Dataset for X"
   ]
  },
  {
   "cell_type": "code",
   "execution_count": 95,
   "id": "818019ae",
   "metadata": {},
   "outputs": [
    {
     "data": {
      "text/plain": [
       "(array([-0.21002205,  5.74113648]),\n",
       " array([[-0.21002205,  5.74113648],\n",
       "        [-0.55764439,  3.85493302]]))"
      ]
     },
     "execution_count": 95,
     "metadata": {},
     "output_type": "execute_result"
    }
   ],
   "source": [
    "X = np.random.uniform(-3,3,(10000,1))\n",
    "get_v(X[0]),get_v(X[:2])"
   ]
  },
  {
   "cell_type": "markdown",
   "id": "d9cbd757",
   "metadata": {},
   "source": [
    "# Set the NN model and Solver with training process"
   ]
  },
  {
   "cell_type": "code",
   "execution_count": 98,
   "id": "606412e9",
   "metadata": {
    "code_folding": [
     2,
     18,
     19,
     28,
     42,
     45
    ]
   },
   "outputs": [],
   "source": [
    "def relu2(X): return func.relu(X)**2\n",
    "def tanh(X): return func.tanh(X)\n",
    "class FCNN(nn.Module):\n",
    "    def __init__(self,input_dim=2,output_dim=1,num_hidden=2,hidden_dim=10,act=func.tanh,transform=None):\n",
    "        super().__init__()\n",
    "         \n",
    "        self.input_dim = input_dim\n",
    "        self.output_dim = output_dim\n",
    "        self.layers  = nn.ModuleList([nn.Linear(input_dim,hidden_dim)])\n",
    "        for _ in range(num_hidden-1): self.layers.append(nn.Linear(hidden_dim,hidden_dim))\n",
    "        self.act     = act\n",
    "        self.out     = nn.Linear(hidden_dim,output_dim)\n",
    "        self.transform = transform\n",
    "    def forward(self,X):\n",
    "        if self.transform is not None: X = self.transform(X)\n",
    "        for layer in self.layers: X = self.act(layer(X))\n",
    "        Y = self.out(X)\n",
    "        return Y\n",
    "class Model(nn.Module):\n",
    "    def __init__(self,dim,model_U,unit_len=int(5e3)):\n",
    "        super().__init__()\n",
    "        self.dim      = dim\n",
    "        self.model_U  = model_U\n",
    "        self.unit_len = unit_len\n",
    "        self.mu       = nn.Parameter(torch.tensor([0.]*dim),requires_grad=False) \n",
    "        self.sigma    = nn.Parameter(torch.tensor([1.]*dim),requires_grad=False)\n",
    "        #above two lines should work, but if something doesn't work, check here! Does current self.mu and self.sigma code work if dim>1. Should return a vector since what we're trying to do is calculate mu\n",
    "        #and sigma separately for each imnputted feature. mu is parameter[0] for each row.\n",
    "        self.coef_U   = nn.Parameter(torch.tensor(1.),requires_grad=False)\n",
    "        #self.mu       = nn.Parameter(torch.tensor([0.]*dim).cuda(),requires_grad=False)\n",
    "        #self.sigma    = nn.Parameter(torch.tensor([1.]*dim).cuda(),requires_grad=False)\n",
    "        #self.coef_U   = nn.Parameter(torch.tensor(1.).cuda(),requires_grad=False)\n",
    "    def get_U_harmonic(self,X): return torch.sum(X**2,axis=-1)\n",
    "\n",
    "\n",
    "    def get_U_dU(self,X): #X is all data aka all positions\n",
    "        I = int(np.ceil(len(X)/self.unit_len)) #will have to change the evenness of the split eventually. this is dividing up the data\n",
    "        U,dU = [],[]\n",
    "        for i in range(I):\n",
    "            X_sub = X[i*self.unit_len:(i+1)*self.unit_len] #**needs changing for dimensionality. 1bead to 3bead\n",
    "            if not torch.is_tensor(X_sub): X_sub = torch.tensor(X_sub,requires_grad=True)#.cuda()\n",
    "            X_    = (X_sub-self.mu)/self.sigma\n",
    "            U_    = self.coef_U*(self.model_U(X_).view(-1) + self.get_U_harmonic(X_))\n",
    "            dU_   = torch.autograd.grad(U_,X_sub,torch.ones_like(U_),create_graph=True)[0] # it is X_sub!!!\n",
    "            U.append(U_)\n",
    "            dU.append(dU_)\n",
    "        U = torch.hstack(U) #if U is a matrix instead of a scalar, will torch.hstack(U) stack the list that is in each element in U? Or something else.\n",
    "        dU = torch.vstack(dU)\n",
    "        return U,dU\n",
    "    \n",
    "    \n",
    "    def get_U_np(self,X): \n",
    "        U,_ = self.get_U_dU(X);\n",
    "        return U.cpu().data.numpy()\n",
    "class Solver():\n",
    "    def __init__(self,model):\n",
    "        self.model=model\n",
    "    def train_model(self,data_train,data_test,get_loss,optimizer,\n",
    "                    n_steps,batch_size,scheduler=None,n_show_loss=100,error_model=None,use_tqdm=True):\n",
    "        if use_tqdm: step_range = tqdm(range(n_steps))\n",
    "        else: step_range = range(n_steps)\n",
    "        loss_step = []\n",
    "        for i_step in step_range:\n",
    "            if i_step%n_show_loss==0:\n",
    "                loss_train,loss_test = get_loss(self.model,data_train)[:-1],\\\n",
    "                                       get_loss(self.model,data_test)[:-1]\n",
    "                \n",
    "                def show_num(x): \n",
    "                    if abs(x)<100 and abs(x)>.01: return '%0.5f'%x\n",
    "                    else: return '%0.2e'%x\n",
    "                item1 = '%2dk'%np.int_(i_step/1000)\n",
    "                item2 = 'Loss: '+' '.join([show_num(k) for k in loss_train])\n",
    "                item3 = ' '.join([show_num(k) for k in loss_test])\n",
    "                item4 = ''\n",
    "                if error_model is not None: item4 = 'E(QP): %0.4f' % (error_model(self.model))\n",
    "                print(', '.join([item1,item2,item3,item4]))\n",
    "                loss_step = loss_step + [i_step] + [k.cpu().data.numpy() for k in loss_train]\\\n",
    "                                                 + [k.cpu().data.numpy() for k in loss_train]\n",
    "            data_batch = data_train[random.sample(range(len(data_train)),\n",
    "                                                  min(batch_size,len(data_train)))]\n",
    "#             print(i_step,data_batch.shape)\n",
    "            loss = get_loss(self.model,data_batch)[-1]\n",
    "            optimizer.zero_grad()\n",
    "            loss.backward()\n",
    "            optimizer.step()\n",
    "            if scheduler is not None: scheduler.step()\n",
    "        if error_model is not None: \n",
    "            print(\"Error: %0.5f\" % (error_model(self.model)))\n",
    "        return loss_step"
   ]
  },
  {
   "cell_type": "code",
   "execution_count": 100,
   "id": "5786a635",
   "metadata": {
    "code_folding": []
   },
   "outputs": [],
   "source": [
    "model_U = FCNN(input_dim=dim,output_dim=1,num_hidden=3,hidden_dim=10,act=tanh)#.cuda()\n",
    "model   = Model(dim,model_U=model_U)#.cuda();\n",
    "SOL     = Solver(model)"
   ]
  },
  {
   "cell_type": "code",
   "execution_count": 102,
   "id": "fd4f4a11",
   "metadata": {},
   "outputs": [
    {
     "data": {
      "text/plain": [
       "(tensor([1.4081, 0.7709, 7.9047], grad_fn=<CatBackward0>),\n",
       " tensor([[-2.3792],\n",
       "         [-1.7618],\n",
       "         [ 5.6140]], grad_fn=<CatBackward0>))"
      ]
     },
     "execution_count": 102,
     "metadata": {},
     "output_type": "execute_result"
    }
   ],
   "source": [
    "model.get_U_dU(X[:3])"
   ]
  },
  {
   "cell_type": "markdown",
   "id": "6d82dfe6",
   "metadata": {},
   "source": [
    "# Set the loss function and Train the model for differen a_k(x)"
   ]
  },
  {
   "cell_type": "code",
   "execution_count": 105,
   "id": "69c4eeaf",
   "metadata": {
    "code_folding": [
     0,
     12,
     16
    ]
   },
   "outputs": [
    {
     "data": {
      "image/png": "[encoded data removed]",
      "text/plain": [
       "<Figure size 1000x600 with 1 Axes>"
      ]
     },
     "metadata": {},
     "output_type": "display_data"
    },
    {
     "data": {
      "text/plain": [
       "(tensor(788069.6223, grad_fn=<MeanBackward0>),\n",
       " tensor(788069.6223, grad_fn=<MeanBackward0>))"
      ]
     },
     "execution_count": 105,
     "metadata": {},
     "output_type": "execute_result"
    }
   ],
   "source": [
    "def plot_model(model,cmap='terrain',max_V = 10):\n",
    "    \n",
    "    xx     = np.linspace(0,2,1000).reshape(-1,1)\n",
    "    U_NN   = model.get_U_np(xx)\n",
    "    U_NN_min = U_NN.min()\n",
    "    U_NN  = U_NN-U_NN_min\n",
    "\n",
    "    fig, ax    = plt.subplots(1,1,figsize=(5,3),dpi=200,constrained_layout=True)\n",
    "    c      = ax.plot(xx[:,0],U_NN,'-',lw=1.5,)\n",
    "\n",
    "    ax.tick_params(axis=\"both\", labelsize=10)\n",
    "    plt.show()\n",
    "#def get_a(X,k=choose_id):\n",
    "#    if choose_id==1: return 2*torch.exp(-3*X**2)\n",
    "#    if choose_id==2: return 2/(1+torch.exp(20*(torch.abs(X)-0.75)))\n",
    "#    if choose_id==3: return 4/(1+torch.exp(20*(torch.abs(X)-0.75)))\n",
    "def get_loss(model,data):\n",
    "\n",
    "    X = data\n",
    "    X = torch.tensor(X,requires_grad=True)#.cuda()\n",
    "    _,dU = model.get_U_dU(X)\n",
    "\n",
    "    #CTMC\n",
    "    param = 3\n",
    "    c = 0.5*param\n",
    "    \n",
    "    tmp1 = torch.detach(3*X*torch.exp(-2*X**2)) #common part of v1 and v2, aka v1\n",
    "    tmp2 = torch.detach(-2*param/(1+torch.exp(20*(torch.abs(X)-0.75)))) #affinity fucntion\n",
    "    #tmp2 = torch.detach(-get_a(X))\n",
    "    tmp3 = torch.detach(-tmp2)\n",
    "    tmp4 = torch.detach(tmp1-5*X) #v2\n",
    "    Res = ( dU*(dU+tmp1)+tmp2 ) * (dU*(dU+tmp4)-c) - c*tmp3 #determinant \n",
    "    loss = torch.mean( Res**2 ) #norm of determinant -> loss function\n",
    "    \n",
    "    return loss#,loss\n",
    "plot_model(model)\n",
    "get_loss(model,X[:3])"
   ]
  },
  {
   "cell_type": "code",
   "execution_count": 107,
   "id": "65d4b29e",
   "metadata": {
    "code_folding": []
   },
   "outputs": [
    {
     "name": "stdout",
     "output_type": "stream",
     "text": [
      "Parameter containing:\n",
      "tensor([0.]) Parameter containing:\n",
      "tensor([1.]) Parameter containing:\n",
      "tensor(1.)\n"
     ]
    },
    {
     "data": {
      "application/vnd.jupyter.widget-view+json": {
       "model_id": "9459ec9c23e04423b599a7eb65446870",
       "version_major": 2,
       "version_minor": 0
      },
      "text/plain": [
       "  0%|          | 0/50001 [00:00<?, ?it/s]"
      ]
     },
     "metadata": {},
     "output_type": "display_data"
    },
    {
     "name": "stdout",
     "output_type": "stream",
     "text": [
      " 0k, Loss: 4.52e+05, 4.52e+05, \n",
      " 1k, Loss: 6.99e+02, 6.99e+02, \n",
      " 2k, Loss: 1.74e+02, 1.74e+02, \n",
      " 3k, Loss: 53.86561, 53.86561, \n",
      " 4k, Loss: 18.64283, 18.64283, \n",
      " 5k, Loss: 7.44694, 7.44694, \n",
      " 6k, Loss: 3.59940, 3.59940, \n",
      " 7k, Loss: 2.11037, 2.11037, \n",
      " 8k, Loss: 1.46065, 1.46065, \n",
      " 9k, Loss: 1.14332, 1.14332, \n",
      "10k, Loss: 0.96134, 0.96134, \n",
      "11k, Loss: 0.66976, 0.66976, \n",
      "12k, Loss: 0.45222, 0.45222, \n",
      "13k, Loss: 0.37754, 0.37754, \n",
      "14k, Loss: 0.31051, 0.31051, \n",
      "15k, Loss: 0.21163, 0.21163, \n",
      "16k, Loss: 0.10299, 0.10299, \n",
      "17k, Loss: 0.02543, 0.02543, \n",
      "18k, Loss: 3.58e-03, 3.58e-03, \n",
      "19k, Loss: 2.55e-03, 2.55e-03, \n",
      "20k, Loss: 2.19e-03, 2.19e-03, \n",
      "21k, Loss: 1.77e-03, 1.77e-03, \n",
      "22k, Loss: 1.49e-03, 1.49e-03, \n",
      "23k, Loss: 1.38e-03, 1.38e-03, \n",
      "24k, Loss: 1.21e-03, 1.21e-03, \n",
      "25k, Loss: 1.04e-03, 1.04e-03, \n",
      "26k, Loss: 7.97e-04, 7.97e-04, \n",
      "27k, Loss: 6.00e-04, 6.00e-04, \n",
      "28k, Loss: 5.81e-04, 5.81e-04, \n",
      "29k, Loss: 2.62e-03, 2.62e-03, \n",
      "30k, Loss: 4.05e-04, 4.05e-04, \n",
      "31k, Loss: 4.85e-04, 4.85e-04, \n",
      "32k, Loss: 3.65e-04, 3.65e-04, \n",
      "33k, Loss: 4.72e-04, 4.72e-04, \n",
      "34k, Loss: 2.70e-04, 2.70e-04, \n",
      "35k, Loss: 3.06e-04, 3.06e-04, \n",
      "36k, Loss: 5.35e-04, 5.35e-04, \n",
      "37k, Loss: 2.80e-04, 2.80e-04, \n",
      "38k, Loss: 2.36e-04, 2.36e-04, \n",
      "39k, Loss: 3.40e-04, 3.40e-04, \n",
      "40k, Loss: 1.69e-04, 1.69e-04, \n",
      "41k, Loss: 3.53e-04, 3.53e-04, \n",
      "42k, Loss: 1.65e-04, 1.65e-04, \n",
      "43k, Loss: 1.49e-04, 1.49e-04, \n",
      "44k, Loss: 1.55e-04, 1.55e-04, \n",
      "45k, Loss: 1.70e-04, 1.70e-04, \n",
      "46k, Loss: 1.38e-04, 1.38e-04, \n",
      "47k, Loss: 2.29e-04, 2.29e-04, \n",
      "48k, Loss: 1.36e-04, 1.36e-04, \n",
      "49k, Loss: 1.73e-04, 1.73e-04, \n",
      "50k, Loss: 1.17e-04, 1.17e-04, \n"
     ]
    },
    {
     "data": {
      "image/png": "[encoded data removed]",
      "text/plain": [
       "<Figure size 1000x600 with 1 Axes>"
      ]
     },
     "metadata": {},
     "output_type": "display_data"
    }
   ],
   "source": [
    "#for choose_id in [1,2,3]:\n",
    "model_U = FCNN(input_dim=dim,output_dim=1,num_hidden=3,hidden_dim=10,act=tanh)#.cuda()\n",
    "model   = Model(dim,model_U=model_U)#.cuda();\n",
    "SOL     = Solver(model)\n",
    "\n",
    "print(model.mu,model.sigma,model.coef_U)\n",
    "    #optimizer = torch.optim.Adam(model.parameters(), lr=torch.tensor(0.001).cuda())\n",
    "optimizer = torch.optim.Adam(model.parameters(), lr=torch.tensor(0.001))\n",
    "scheduler = None\n",
    "_loss_step = SOL.train_model(data_train=X,data_test=X,\n",
    "                             get_loss=get_loss,optimizer=optimizer,scheduler=scheduler,\n",
    "                             n_steps=int(5e4+1),batch_size=500,n_show_loss=1000,use_tqdm=True)\n",
    "torch.cuda.empty_cache()\n",
    "plot_model(model)\n",
    "   # torch.save(model.state_dict(), \"savee/model_\"+str(choose_id))\n",
    "#torch.save(model.state_dict(),\"savee/model_anaconda3\")"
   ]
  },
  {
   "cell_type": "code",
   "execution_count": 108,
   "id": "77f2b8b6-9f6d-4fae-ae29-87c4a6cb97ff",
   "metadata": {},
   "outputs": [],
   "source": [
    "#torch.save(model.state_dict(), \"savee/model_99\")\n",
    "#model.state_dict()"
   ]
  },
  {
   "cell_type": "code",
   "execution_count": 109,
   "id": "44b07f7a-fb98-4405-8790-18bc4afbc514",
   "metadata": {},
   "outputs": [
    {
     "name": "stderr",
     "output_type": "stream",
     "text": [
      "No artists with labels found to put in legend.  Note that artists whose label start with an underscore are ignored when legend() is called with no argument.\n"
     ]
    },
    {
     "data": {
      "image/png": "[encoded data removed]",
      "text/plain": [
       "<Figure size 800x600 with 1 Axes>"
      ]
     },
     "metadata": {},
     "output_type": "display_data"
    }
   ],
   "source": [
    "fig, ax  = plt.subplots(1,1,figsize=(4,3),dpi=200,constrained_layout=True)\n",
    "xx       = np.linspace(0,2,1000).reshape(-1,1)\n",
    "U_NN     = model.get_U_np(xx)\n",
    "U_NN_min = U_NN.min()\n",
    "U_NN     = U_NN-U_NN_min\n",
    "c        = ax.plot(xx[:,0],U_NN,'-',lw=1.5)\n",
    "ax.legend(fontsize=10)\n",
    "ax.set_xlabel('$x$',fontsize=10)\n",
    "ax.set_ylabel('$U(x)$',fontsize=10)\n",
    "ax.set_xlim([0,2])\n",
    "ax.set_yticks([0,0.2,0.4,0.6,0.8,1,1.2])\n",
    "ax.set_xticks([0,.5,1.,1.5,2])\n",
    "ax.yaxis.grid(linestyle='--')\n",
    "ax.tick_params(axis=\"both\", labelsize=10)\n",
    "plt.show()"
   ]
  },
  {
   "cell_type": "code",
   "execution_count": 113,
   "id": "bc4b4d82-80a8-422e-a7d9-d2623106808b",
   "metadata": {},
   "outputs": [
    {
     "data": {
      "text/plain": [
       "array([0.00000000e+00, 6.51119130e-05, 1.32658346e-04, 2.02677707e-04,\n",
       "       2.75208498e-04, 3.50289310e-04, 4.27958826e-04, 5.08255811e-04,\n",
       "       5.91219115e-04, 6.76887663e-04, 7.65300459e-04, 8.56496578e-04,\n",
       "       9.50515163e-04, 1.04739543e-03, 1.14717665e-03, 1.24989815e-03,\n",
       "       1.35559935e-03, 1.46431967e-03, 1.57609864e-03, 1.69097579e-03,\n",
       "       1.80899073e-03, 1.93018311e-03, 2.05459260e-03, 2.18225895e-03,\n",
       "       2.31322190e-03, 2.44752127e-03, 2.58519688e-03, 2.72628860e-03,\n",
       "       2.87083631e-03, 3.01887993e-03, 3.17045941e-03, 3.32561471e-03,\n",
       "       3.48438580e-03, 3.64681269e-03, 3.81293540e-03, 3.98279395e-03,\n",
       "       4.15642838e-03, 4.33387875e-03, 4.51518511e-03, 4.70038754e-03,\n",
       "       4.88952610e-03, 5.08264087e-03, 5.27977193e-03, 5.48095934e-03,\n",
       "       5.68624320e-03, 5.89566356e-03, 6.10926051e-03, 6.32707410e-03,\n",
       "       6.54914438e-03, 6.77551142e-03, 7.00621524e-03, 7.24129587e-03,\n",
       "       7.48079334e-03, 7.72474763e-03, 7.97319876e-03, 8.22618668e-03,\n",
       "       8.48375135e-03, 8.74593273e-03, 9.01277073e-03, 9.28430526e-03,\n",
       "       9.56057620e-03, 9.84162343e-03, 1.01274868e-02, 1.04182061e-02,\n",
       "       1.07138211e-02, 1.10143717e-02, 1.13198975e-02, 1.16304384e-02,\n",
       "       1.19460339e-02, 1.22667239e-02, 1.25925479e-02, 1.29235456e-02,\n",
       "       1.32597565e-02, 1.36012203e-02, 1.39479765e-02, 1.43000646e-02,\n",
       "       1.46575241e-02, 1.50203945e-02, 1.53887151e-02, 1.57625255e-02,\n",
       "       1.61418650e-02, 1.65267729e-02, 1.69172885e-02, 1.73134512e-02,\n",
       "       1.77153002e-02, 1.81228748e-02, 1.85362141e-02, 1.89553573e-02,\n",
       "       1.93803436e-02, 1.98112121e-02, 2.02480019e-02, 2.06907521e-02,\n",
       "       2.11395016e-02, 2.15942895e-02, 2.20551548e-02, 2.25221364e-02,\n",
       "       2.29952733e-02, 2.34746043e-02, 2.39601683e-02, 2.44520042e-02,\n",
       "       2.49501508e-02, 2.54546469e-02, 2.59655312e-02, 2.64828425e-02,\n",
       "       2.70066196e-02, 2.75369010e-02, 2.80737255e-02, 2.86171318e-02,\n",
       "       2.91671584e-02, 2.97238440e-02, 3.02872271e-02, 3.08573464e-02,\n",
       "       3.14342403e-02, 3.20179474e-02, 3.26085062e-02, 3.32059551e-02,\n",
       "       3.38103327e-02, 3.44216773e-02, 3.50400274e-02, 3.56654215e-02,\n",
       "       3.62978978e-02, 3.69374948e-02, 3.75842509e-02, 3.82382044e-02,\n",
       "       3.88993936e-02, 3.95678569e-02, 4.02436325e-02, 4.09267587e-02,\n",
       "       4.16172739e-02, 4.23152163e-02, 4.30206241e-02, 4.37335356e-02,\n",
       "       4.44539890e-02, 4.51820226e-02, 4.59176745e-02, 4.66609830e-02,\n",
       "       4.74119862e-02, 4.81707224e-02, 4.89372296e-02, 4.97115462e-02,\n",
       "       5.04937101e-02, 5.12837596e-02, 5.20817328e-02, 5.28876678e-02,\n",
       "       5.37016028e-02, 5.45235758e-02, 5.53536250e-02, 5.61917885e-02,\n",
       "       5.70381043e-02, 5.78926105e-02, 5.87553452e-02, 5.96263464e-02,\n",
       "       6.05056523e-02, 6.13933007e-02, 6.22893298e-02, 6.31937776e-02,\n",
       "       6.41066820e-02, 6.50280811e-02, 6.59580128e-02, 6.68965151e-02,\n",
       "       6.78436259e-02, 6.87993831e-02, 6.97638248e-02, 7.07369886e-02,\n",
       "       7.17189126e-02, 7.27096346e-02, 7.37091923e-02, 7.47176237e-02,\n",
       "       7.57349663e-02, 7.67612581e-02, 7.77965367e-02, 7.88408397e-02,\n",
       "       7.98942048e-02, 8.09566697e-02, 8.20282718e-02, 8.31090487e-02,\n",
       "       8.41990378e-02, 8.52982766e-02, 8.64068025e-02, 8.75246526e-02,\n",
       "       8.86518643e-02, 8.97884748e-02, 9.09345211e-02, 9.20900404e-02,\n",
       "       9.32550695e-02, 9.44296453e-02, 9.56138047e-02, 9.68075842e-02,\n",
       "       9.80110206e-02, 9.92241504e-02, 1.00447010e-01, 1.01679635e-01,\n",
       "       1.02922063e-01, 1.04174328e-01, 1.05436468e-01, 1.06708517e-01,\n",
       "       1.07990512e-01, 1.09282488e-01, 1.10584479e-01, 1.11896522e-01,\n",
       "       1.13218650e-01, 1.14550899e-01, 1.15893304e-01, 1.17245898e-01,\n",
       "       1.18608715e-01, 1.19981789e-01, 1.21365155e-01, 1.22758845e-01,\n",
       "       1.24162891e-01, 1.25577328e-01, 1.27002187e-01, 1.28437501e-01,\n",
       "       1.29883300e-01, 1.31339618e-01, 1.32806484e-01, 1.34283930e-01,\n",
       "       1.35771986e-01, 1.37270681e-01, 1.38780045e-01, 1.40300108e-01,\n",
       "       1.41830897e-01, 1.43372442e-01, 1.44924769e-01, 1.46487905e-01,\n",
       "       1.48061877e-01, 1.49646711e-01, 1.51242432e-01, 1.52849065e-01,\n",
       "       1.54466634e-01, 1.56095162e-01, 1.57734672e-01, 1.59385186e-01,\n",
       "       1.61046724e-01, 1.62719308e-01, 1.64402958e-01, 1.66097690e-01,\n",
       "       1.67803524e-01, 1.69520477e-01, 1.71248564e-01, 1.72987800e-01,\n",
       "       1.74738199e-01, 1.76499775e-01, 1.78272538e-01, 1.80056500e-01,\n",
       "       1.81851669e-01, 1.83658055e-01, 1.85475664e-01, 1.87304501e-01,\n",
       "       1.89144571e-01, 1.90995876e-01, 1.92858419e-01, 1.94732198e-01,\n",
       "       1.96617212e-01, 1.98513458e-01, 2.00420931e-01, 2.02339623e-01,\n",
       "       2.04269527e-01, 2.06210631e-01, 2.08162924e-01, 2.10126391e-01,\n",
       "       2.12101016e-01, 2.14086780e-01, 2.16083662e-01, 2.18091640e-01,\n",
       "       2.20110689e-01, 2.22140780e-01, 2.24181885e-01, 2.26233969e-01,\n",
       "       2.28296998e-01, 2.30370934e-01, 2.32455737e-01, 2.34551362e-01,\n",
       "       2.36657763e-01, 2.38774890e-01, 2.40902692e-01, 2.43041111e-01,\n",
       "       2.45190089e-01, 2.47349563e-01, 2.49519467e-01, 2.51699732e-01,\n",
       "       2.53890284e-01, 2.56091046e-01, 2.58301937e-01, 2.60522872e-01,\n",
       "       2.62753762e-01, 2.64994514e-01, 2.67245030e-01, 2.69505208e-01,\n",
       "       2.71774943e-01, 2.74054123e-01, 2.76342632e-01, 2.78640350e-01,\n",
       "       2.80947151e-01, 2.83262905e-01, 2.85587476e-01, 2.87920723e-01,\n",
       "       2.90262500e-01, 2.92612655e-01, 2.94971031e-01, 2.97337464e-01,\n",
       "       2.99711786e-01, 3.02093821e-01, 3.04483389e-01, 3.06880303e-01,\n",
       "       3.09284369e-01, 3.11695388e-01, 3.14113153e-01, 3.16537453e-01,\n",
       "       3.18968066e-01, 3.21404768e-01, 3.23847326e-01, 3.26295499e-01,\n",
       "       3.28749041e-01, 3.31207697e-01, 3.33671207e-01, 3.36139301e-01,\n",
       "       3.38611705e-01, 3.41088134e-01, 3.43568299e-01, 3.46051901e-01,\n",
       "       3.48538634e-01, 3.51028185e-01, 3.53520233e-01, 3.56014449e-01,\n",
       "       3.58510498e-01, 3.61008035e-01, 3.63506708e-01, 3.66006158e-01,\n",
       "       3.68506018e-01, 3.71005913e-01, 3.73505462e-01, 3.76004273e-01,\n",
       "       3.78501950e-01, 3.80998088e-01, 3.83492275e-01, 3.85984090e-01,\n",
       "       3.88473108e-01, 3.90958895e-01, 3.93441009e-01, 3.95919004e-01,\n",
       "       3.98392426e-01, 4.00860813e-01, 4.03323700e-01, 4.05780613e-01,\n",
       "       4.08231073e-01, 4.10674596e-01, 4.13110693e-01, 4.15538868e-01,\n",
       "       4.17958622e-01, 4.20369450e-01, 4.22770845e-01, 4.25162292e-01,\n",
       "       4.27543278e-01, 4.29913281e-01, 4.32271781e-01, 4.34618253e-01,\n",
       "       4.36952170e-01, 4.39273003e-01, 4.41580224e-01, 4.43873302e-01,\n",
       "       4.46151707e-01, 4.48414909e-01, 4.50662377e-01, 4.52893584e-01,\n",
       "       4.55108003e-01, 4.57305109e-01, 4.59484381e-01, 4.61645300e-01,\n",
       "       4.63787351e-01, 4.65910025e-01, 4.68012816e-01, 4.70095225e-01,\n",
       "       4.72156758e-01, 4.74196929e-01, 4.76215259e-01, 4.78211276e-01,\n",
       "       4.80184518e-01, 4.82134531e-01, 4.84060871e-01, 4.85963105e-01,\n",
       "       4.87840810e-01, 4.89693576e-01, 4.91521002e-01, 4.93322703e-01,\n",
       "       4.95098306e-01, 4.96847451e-01, 4.98569793e-01, 5.00265001e-01,\n",
       "       5.01932761e-01, 5.03572774e-01, 5.05184756e-01, 5.06768441e-01,\n",
       "       5.08323580e-01, 5.09849941e-01, 5.11347310e-01, 5.12815492e-01,\n",
       "       5.14254309e-01, 5.15663604e-01, 5.17043238e-01, 5.18393090e-01,\n",
       "       5.19713062e-01, 5.21003072e-01, 5.22263060e-01, 5.23492987e-01,\n",
       "       5.24692832e-01, 5.25862595e-01, 5.27002296e-01, 5.28111976e-01,\n",
       "       5.29191695e-01, 5.30241533e-01, 5.31261592e-01, 5.32251992e-01,\n",
       "       5.33212872e-01, 5.34144391e-01, 5.35046728e-01, 5.35920080e-01,\n",
       "       5.36764663e-01, 5.37580709e-01, 5.38368472e-01, 5.39128219e-01,\n",
       "       5.39860236e-01, 5.40564826e-01, 5.41242308e-01, 5.41893014e-01,\n",
       "       5.42517294e-01, 5.43115510e-01, 5.43688040e-01, 5.44235275e-01,\n",
       "       5.44757616e-01, 5.45255478e-01, 5.45729289e-01, 5.46179484e-01,\n",
       "       5.46606511e-01, 5.47010826e-01, 5.47392893e-01, 5.47753188e-01,\n",
       "       5.48092188e-01, 5.48410383e-01, 5.48708264e-01, 5.48986331e-01,\n",
       "       5.49245086e-01, 5.49485037e-01, 5.49706693e-01, 5.49910567e-01,\n",
       "       5.50097175e-01, 5.50267032e-01, 5.50420655e-01, 5.50558562e-01,\n",
       "       5.50681267e-01, 5.50789287e-01, 5.50883135e-01, 5.50963322e-01,\n",
       "       5.51030356e-01, 5.51084743e-01, 5.51126983e-01, 5.51157573e-01,\n",
       "       5.51177005e-01, 5.51185765e-01, 5.51184336e-01, 5.51173191e-01,\n",
       "       5.51152799e-01, 5.51123622e-01, 5.51086114e-01, 5.51040722e-01,\n",
       "       5.50987884e-01, 5.50928033e-01, 5.50861590e-01, 5.50788969e-01,\n",
       "       5.50710577e-01, 5.50626809e-01, 5.50538052e-01, 5.50444684e-01,\n",
       "       5.50347074e-01, 5.50245580e-01, 5.50140552e-01, 5.50032329e-01,\n",
       "       5.49921241e-01, 5.49807607e-01, 5.49691738e-01, 5.49573933e-01,\n",
       "       5.49454482e-01, 5.49333667e-01, 5.49211757e-01, 5.49089013e-01,\n",
       "       5.48965687e-01, 5.48842018e-01, 5.48718239e-01, 5.48594573e-01,\n",
       "       5.48471231e-01, 5.48348417e-01, 5.48226326e-01, 5.48105143e-01,\n",
       "       5.47985043e-01, 5.47866195e-01, 5.47748758e-01, 5.47632881e-01,\n",
       "       5.47518707e-01, 5.47406370e-01, 5.47295995e-01, 5.47187700e-01,\n",
       "       5.47081597e-01, 5.46977787e-01, 5.46876366e-01, 5.46777423e-01,\n",
       "       5.46681038e-01, 5.46587288e-01, 5.46496238e-01, 5.46407953e-01,\n",
       "       5.46322485e-01, 5.46239886e-01, 5.46160198e-01, 5.46083460e-01,\n",
       "       5.46009702e-01, 5.45938953e-01, 5.45871234e-01, 5.45806562e-01,\n",
       "       5.45744949e-01, 5.45686402e-01, 5.45630923e-01, 5.45578512e-01,\n",
       "       5.45529163e-01, 5.45482865e-01, 5.45439606e-01, 5.45399369e-01,\n",
       "       5.45362132e-01, 5.45327872e-01, 5.45296562e-01, 5.45268170e-01,\n",
       "       5.45242664e-01, 5.45220008e-01, 5.45200162e-01, 5.45183085e-01,\n",
       "       5.45168735e-01, 5.45157063e-01, 5.45148022e-01, 5.45141563e-01,\n",
       "       5.45137631e-01, 5.45136174e-01, 5.45137135e-01, 5.45140456e-01,\n",
       "       5.45146079e-01, 5.45153943e-01, 5.45163987e-01, 5.45176146e-01,\n",
       "       5.45190357e-01, 5.45206554e-01, 5.45224672e-01, 5.45244642e-01,\n",
       "       5.45266396e-01, 5.45289866e-01, 5.45314982e-01, 5.45341674e-01,\n",
       "       5.45369871e-01, 5.45399502e-01, 5.45430495e-01, 5.45462778e-01,\n",
       "       5.45496278e-01, 5.45530924e-01, 5.45566641e-01, 5.45603358e-01,\n",
       "       5.45641000e-01, 5.45679496e-01, 5.45718770e-01, 5.45758752e-01,\n",
       "       5.45799366e-01, 5.45840541e-01, 5.45882203e-01, 5.45924281e-01,\n",
       "       5.45966700e-01, 5.46009390e-01, 5.46052278e-01, 5.46095292e-01,\n",
       "       5.46138362e-01, 5.46181417e-01, 5.46224385e-01, 5.46267198e-01,\n",
       "       5.46309785e-01, 5.46352077e-01, 5.46394006e-01, 5.46435503e-01,\n",
       "       5.46476501e-01, 5.46516933e-01, 5.46556731e-01, 5.46595832e-01,\n",
       "       5.46634168e-01, 5.46671675e-01, 5.46708290e-01, 5.46743949e-01,\n",
       "       5.46778589e-01, 5.46812147e-01, 5.46844564e-01, 5.46875777e-01,\n",
       "       5.46905727e-01, 5.46934354e-01, 5.46961601e-01, 5.46987409e-01,\n",
       "       5.47011720e-01, 5.47034480e-01, 5.47055631e-01, 5.47075120e-01,\n",
       "       5.47092892e-01, 5.47108894e-01, 5.47123073e-01, 5.47135378e-01,\n",
       "       5.47145758e-01, 5.47154162e-01, 5.47160541e-01, 5.47164847e-01,\n",
       "       5.47167032e-01, 5.47167049e-01, 5.47164852e-01, 5.47160396e-01,\n",
       "       5.47153635e-01, 5.47144527e-01, 5.47133029e-01, 5.47119098e-01,\n",
       "       5.47102694e-01, 5.47083776e-01, 5.47062304e-01, 5.47038241e-01,\n",
       "       5.47011547e-01, 5.46982187e-01, 5.46950123e-01, 5.46915321e-01,\n",
       "       5.46877746e-01, 5.46837364e-01, 5.46794143e-01, 5.46748050e-01,\n",
       "       5.46699054e-01, 5.46647126e-01, 5.46592235e-01, 5.46534353e-01,\n",
       "       5.46473451e-01, 5.46409504e-01, 5.46342485e-01, 5.46272369e-01,\n",
       "       5.46199130e-01, 5.46122746e-01, 5.46043194e-01, 5.45960451e-01,\n",
       "       5.45874497e-01, 5.45785311e-01, 5.45692874e-01, 5.45597167e-01,\n",
       "       5.45498173e-01, 5.45395873e-01, 5.45290253e-01, 5.45181296e-01,\n",
       "       5.45068988e-01, 5.44953316e-01, 5.44834266e-01, 5.44711827e-01,\n",
       "       5.44585986e-01, 5.44456735e-01, 5.44324062e-01, 5.44187959e-01,\n",
       "       5.44048419e-01, 5.43905433e-01, 5.43758995e-01, 5.43609101e-01,\n",
       "       5.43455744e-01, 5.43298920e-01, 5.43138628e-01, 5.42974863e-01,\n",
       "       5.42807625e-01, 5.42636912e-01, 5.42462724e-01, 5.42285062e-01,\n",
       "       5.42103928e-01, 5.41919323e-01, 5.41731250e-01, 5.41539714e-01,\n",
       "       5.41344718e-01, 5.41146268e-01, 5.40944371e-01, 5.40739032e-01,\n",
       "       5.40530259e-01, 5.40318060e-01, 5.40102445e-01, 5.39883423e-01,\n",
       "       5.39661005e-01, 5.39435201e-01, 5.39206024e-01, 5.38973487e-01,\n",
       "       5.38737602e-01, 5.38498384e-01, 5.38255848e-01, 5.38010008e-01,\n",
       "       5.37760882e-01, 5.37508486e-01, 5.37252838e-01, 5.36993955e-01,\n",
       "       5.36731858e-01, 5.36466565e-01, 5.36198096e-01, 5.35926474e-01,\n",
       "       5.35651719e-01, 5.35373853e-01, 5.35092900e-01, 5.34808883e-01,\n",
       "       5.34521826e-01, 5.34231755e-01, 5.33938694e-01, 5.33642670e-01,\n",
       "       5.33343710e-01, 5.33041840e-01, 5.32737088e-01, 5.32429484e-01,\n",
       "       5.32119057e-01, 5.31805835e-01, 5.31489850e-01, 5.31171131e-01,\n",
       "       5.30849711e-01, 5.30525622e-01, 5.30198896e-01, 5.29869565e-01,\n",
       "       5.29537665e-01, 5.29203228e-01, 5.28866290e-01, 5.28526885e-01,\n",
       "       5.28185049e-01, 5.27840819e-01, 5.27494231e-01, 5.27145323e-01,\n",
       "       5.26794131e-01, 5.26440694e-01, 5.26085051e-01, 5.25727240e-01,\n",
       "       5.25367301e-01, 5.25005274e-01, 5.24641199e-01, 5.24275117e-01,\n",
       "       5.23907070e-01, 5.23537097e-01, 5.23165243e-01, 5.22791548e-01,\n",
       "       5.22416055e-01, 5.22038808e-01, 5.21659850e-01, 5.21279225e-01,\n",
       "       5.20896976e-01, 5.20513149e-01, 5.20127788e-01, 5.19740938e-01,\n",
       "       5.19352644e-01, 5.18962952e-01, 5.18571908e-01, 5.18179558e-01,\n",
       "       5.17785949e-01, 5.17391128e-01, 5.16995140e-01, 5.16598034e-01,\n",
       "       5.16199856e-01, 5.15800656e-01, 5.15400479e-01, 5.14999375e-01,\n",
       "       5.14597391e-01, 5.14194576e-01, 5.13790978e-01, 5.13386646e-01,\n",
       "       5.12981629e-01, 5.12575976e-01, 5.12169736e-01, 5.11762957e-01,\n",
       "       5.11355690e-01, 5.10947983e-01, 5.10539887e-01, 5.10131449e-01,\n",
       "       5.09722721e-01, 5.09313752e-01, 5.08904590e-01, 5.08495287e-01,\n",
       "       5.08085891e-01, 5.07676453e-01, 5.07267021e-01, 5.06857646e-01,\n",
       "       5.06448377e-01, 5.06039263e-01, 5.05630355e-01, 5.05221701e-01,\n",
       "       5.04813352e-01, 5.04405356e-01, 5.03997762e-01, 5.03590620e-01,\n",
       "       5.03183979e-01, 5.02777887e-01, 5.02372393e-01, 5.01967547e-01,\n",
       "       5.01563395e-01, 5.01159987e-01, 5.00757370e-01, 5.00355593e-01,\n",
       "       4.99954704e-01, 4.99554748e-01, 4.99155775e-01, 4.98757831e-01,\n",
       "       4.98360962e-01, 4.97965216e-01, 4.97570638e-01, 4.97177275e-01,\n",
       "       4.96785172e-01, 4.96394375e-01, 4.96004929e-01, 4.95616879e-01,\n",
       "       4.95230270e-01, 4.94845145e-01, 4.94461549e-01, 4.94079524e-01,\n",
       "       4.93699115e-01, 4.93320364e-01, 4.92943314e-01, 4.92568006e-01,\n",
       "       4.92194482e-01, 4.91822784e-01, 4.91452953e-01, 4.91085028e-01,\n",
       "       4.90719050e-01, 4.90355059e-01, 4.89993094e-01, 4.89633192e-01,\n",
       "       4.89275394e-01, 4.88919736e-01, 4.88566256e-01, 4.88214991e-01,\n",
       "       4.87865976e-01, 4.87519249e-01, 4.87174843e-01, 4.86832795e-01,\n",
       "       4.86493139e-01, 4.86155907e-01, 4.85821135e-01, 4.85488853e-01,\n",
       "       4.85159095e-01, 4.84831893e-01, 4.84507276e-01, 4.84185277e-01,\n",
       "       4.83865925e-01, 4.83549248e-01, 4.83235277e-01, 4.82924040e-01,\n",
       "       4.82615563e-01, 4.82309875e-01, 4.82007001e-01, 4.81706968e-01,\n",
       "       4.81409800e-01, 4.81115523e-01, 4.80824160e-01, 4.80535735e-01,\n",
       "       4.80250271e-01, 4.79967789e-01, 4.79688312e-01, 4.79411860e-01,\n",
       "       4.79138454e-01, 4.78868112e-01, 4.78600855e-01, 4.78336700e-01,\n",
       "       4.78075665e-01, 4.77817766e-01, 4.77563022e-01, 4.77311446e-01,\n",
       "       4.77063054e-01, 4.76817860e-01, 4.76575879e-01, 4.76337122e-01,\n",
       "       4.76101603e-01, 4.75869333e-01, 4.75640324e-01, 4.75414584e-01,\n",
       "       4.75192125e-01, 4.74972954e-01, 4.74757082e-01, 4.74544514e-01,\n",
       "       4.74335258e-01, 4.74129320e-01, 4.73926706e-01, 4.73727421e-01,\n",
       "       4.73531469e-01, 4.73338853e-01, 4.73149577e-01, 4.72963642e-01,\n",
       "       4.72781051e-01, 4.72601803e-01, 4.72425900e-01, 4.72253341e-01,\n",
       "       4.72084125e-01, 4.71918249e-01, 4.71755712e-01, 4.71596510e-01,\n",
       "       4.71440639e-01, 4.71288096e-01, 4.71138874e-01, 4.70992969e-01,\n",
       "       4.70850373e-01, 4.70711080e-01, 4.70575083e-01, 4.70442371e-01,\n",
       "       4.70312938e-01, 4.70186773e-01, 4.70063865e-01, 4.69944204e-01,\n",
       "       4.69827779e-01, 4.69714577e-01, 4.69604586e-01, 4.69497793e-01,\n",
       "       4.69394182e-01, 4.69293740e-01, 4.69196452e-01, 4.69102302e-01,\n",
       "       4.69011274e-01, 4.68923350e-01, 4.68838514e-01, 4.68756746e-01,\n",
       "       4.68678029e-01, 4.68602344e-01, 4.68529670e-01, 4.68459988e-01,\n",
       "       4.68393276e-01, 4.68329513e-01, 4.68268677e-01, 4.68210747e-01,\n",
       "       4.68155698e-01, 4.68103508e-01, 4.68054152e-01, 4.68007606e-01,\n",
       "       4.67963845e-01, 4.67922844e-01, 4.67884576e-01, 4.67849016e-01,\n",
       "       4.67816136e-01, 4.67785910e-01, 4.67758309e-01, 4.67733305e-01,\n",
       "       4.67710870e-01, 4.67690974e-01, 4.67673588e-01, 4.67658682e-01,\n",
       "       4.67646226e-01, 4.67636189e-01, 4.67628540e-01, 4.67623248e-01,\n",
       "       4.67620281e-01, 4.67619606e-01, 4.67621191e-01, 4.67625003e-01,\n",
       "       4.67631008e-01, 4.67639174e-01, 4.67649467e-01, 4.67661851e-01,\n",
       "       4.67676293e-01, 4.67692758e-01, 4.67711210e-01, 4.67731615e-01,\n",
       "       4.67753936e-01, 4.67778139e-01, 4.67804185e-01, 4.67832040e-01,\n",
       "       4.67861667e-01, 4.67893028e-01, 4.67926087e-01, 4.67960806e-01,\n",
       "       4.67997148e-01, 4.68035075e-01, 4.68074550e-01, 4.68115533e-01,\n",
       "       4.68157988e-01, 4.68201876e-01, 4.68247158e-01, 4.68293796e-01,\n",
       "       4.68341751e-01, 4.68390985e-01, 4.68441457e-01, 4.68493130e-01,\n",
       "       4.68545964e-01, 4.68599920e-01, 4.68654959e-01, 4.68711042e-01,\n",
       "       4.68768128e-01, 4.68826179e-01, 4.68885156e-01, 4.68945018e-01,\n",
       "       4.69005727e-01, 4.69067243e-01, 4.69129527e-01, 4.69192539e-01,\n",
       "       4.69256240e-01, 4.69320590e-01, 4.69385551e-01, 4.69451083e-01,\n",
       "       4.69517147e-01, 4.69583703e-01, 4.69650714e-01, 4.69718140e-01,\n",
       "       4.69785942e-01, 4.69854082e-01, 4.69922521e-01, 4.69991221e-01,\n",
       "       4.70060143e-01, 4.70129250e-01, 4.70198503e-01, 4.70267865e-01])"
      ]
     },
     "execution_count": 113,
     "metadata": {},
     "output_type": "execute_result"
    }
   ],
   "source": [
    "U_NN"
   ]
  },
  {
   "cell_type": "code",
   "execution_count": 30,
   "id": "cf96b220-f226-49f4-8ec6-244b5f5ca329",
   "metadata": {},
   "outputs": [],
   "source": [
    "import scipy.io as scio\n",
    "from scipy.io import savemat\n"
   ]
  },
  {
   "cell_type": "markdown",
   "id": "839674fe",
   "metadata": {},
   "source": [
    "# Visualizing the results for different a_k(x)"
   ]
  },
  {
   "cell_type": "code",
   "execution_count": 39,
   "id": "344c6cc7",
   "metadata": {
    "code_folding": [
     0
    ]
   },
   "outputs": [
    {
     "name": "stderr",
     "output_type": "stream",
     "text": [
      "/var/folders/14/40gccrfs5qvbpxcdp3fzdjt00000gn/T/ipykernel_96485/1776175810.py:7: FutureWarning: You are using `torch.load` with `weights_only=False` (the current default value), which uses the default pickle module implicitly. It is possible to construct malicious pickle data which will execute arbitrary code during unpickling (See https://github.com/pytorch/pytorch/blob/main/SECURITY.md#untrusted-models for more details). In a future release, the default value for `weights_only` will be flipped to `True`. This limits the functions that could be executed during unpickling. Arbitrary objects will no longer be allowed to be loaded via this mode unless they are explicitly allowlisted by the user via `torch.serialization.add_safe_globals`. We recommend you start setting `weights_only=True` for any use case where you don't have full control of the loaded file. Please open an issue on GitHub for any issues related to this experimental feature.\n",
      "  model.load_state_dict(torch.load(model_name))\n"
     ]
    },
    {
     "ename": "FileNotFoundError",
     "evalue": "[Errno 2] No such file or directory: 'savee/model_anaconda3'",
     "output_type": "error",
     "traceback": [
      "\u001b[0;31m---------------------------------------------------------------------------\u001b[0m",
      "\u001b[0;31mFileNotFoundError\u001b[0m                         Traceback (most recent call last)",
      "Cell \u001b[0;32mIn[39], line 22\u001b[0m\n\u001b[1;32m     19\u001b[0m     ax\u001b[38;5;241m.\u001b[39mtick_params(axis\u001b[38;5;241m=\u001b[39m\u001b[38;5;124m\"\u001b[39m\u001b[38;5;124mboth\u001b[39m\u001b[38;5;124m\"\u001b[39m, labelsize\u001b[38;5;241m=\u001b[39m\u001b[38;5;241m10\u001b[39m)\n\u001b[1;32m     20\u001b[0m     plt\u001b[38;5;241m.\u001b[39mshow()\n\u001b[0;32m---> 22\u001b[0m plot_models([\u001b[38;5;124m\"\u001b[39m\u001b[38;5;124msavee/model_anaconda3\u001b[39m\u001b[38;5;124m\"\u001b[39m])\n",
      "Cell \u001b[0;32mIn[39], line 7\u001b[0m, in \u001b[0;36mplot_models\u001b[0;34m(models)\u001b[0m\n\u001b[1;32m      4\u001b[0m fig, ax  \u001b[38;5;241m=\u001b[39m plt\u001b[38;5;241m.\u001b[39msubplots(\u001b[38;5;241m1\u001b[39m,\u001b[38;5;241m1\u001b[39m,figsize\u001b[38;5;241m=\u001b[39m(\u001b[38;5;241m4\u001b[39m,\u001b[38;5;241m3\u001b[39m),dpi\u001b[38;5;241m=\u001b[39m\u001b[38;5;241m200\u001b[39m,constrained_layout\u001b[38;5;241m=\u001b[39m\u001b[38;5;28;01mTrue\u001b[39;00m)\n\u001b[1;32m      6\u001b[0m \u001b[38;5;28;01mfor\u001b[39;00m k,model_name \u001b[38;5;129;01min\u001b[39;00m \u001b[38;5;28menumerate\u001b[39m(models):\n\u001b[0;32m----> 7\u001b[0m     model\u001b[38;5;241m.\u001b[39mload_state_dict(torch\u001b[38;5;241m.\u001b[39mload(model_name))\n\u001b[1;32m      8\u001b[0m     U_NN     \u001b[38;5;241m=\u001b[39m model\u001b[38;5;241m.\u001b[39mget_U_np(xx)\n\u001b[1;32m      9\u001b[0m     U_NN_min \u001b[38;5;241m=\u001b[39m U_NN\u001b[38;5;241m.\u001b[39mmin()\n",
      "File \u001b[0;32m/opt/anaconda3/lib/python3.12/site-packages/torch/serialization.py:1319\u001b[0m, in \u001b[0;36mload\u001b[0;34m(f, map_location, pickle_module, weights_only, mmap, **pickle_load_args)\u001b[0m\n\u001b[1;32m   1316\u001b[0m \u001b[38;5;28;01mif\u001b[39;00m \u001b[38;5;124m\"\u001b[39m\u001b[38;5;124mencoding\u001b[39m\u001b[38;5;124m\"\u001b[39m \u001b[38;5;129;01mnot\u001b[39;00m \u001b[38;5;129;01min\u001b[39;00m pickle_load_args\u001b[38;5;241m.\u001b[39mkeys():\n\u001b[1;32m   1317\u001b[0m     pickle_load_args[\u001b[38;5;124m\"\u001b[39m\u001b[38;5;124mencoding\u001b[39m\u001b[38;5;124m\"\u001b[39m] \u001b[38;5;241m=\u001b[39m \u001b[38;5;124m\"\u001b[39m\u001b[38;5;124mutf-8\u001b[39m\u001b[38;5;124m\"\u001b[39m\n\u001b[0;32m-> 1319\u001b[0m \u001b[38;5;28;01mwith\u001b[39;00m _open_file_like(f, \u001b[38;5;124m\"\u001b[39m\u001b[38;5;124mrb\u001b[39m\u001b[38;5;124m\"\u001b[39m) \u001b[38;5;28;01mas\u001b[39;00m opened_file:\n\u001b[1;32m   1320\u001b[0m     \u001b[38;5;28;01mif\u001b[39;00m _is_zipfile(opened_file):\n\u001b[1;32m   1321\u001b[0m         \u001b[38;5;66;03m# The zipfile reader is going to advance the current file position.\u001b[39;00m\n\u001b[1;32m   1322\u001b[0m         \u001b[38;5;66;03m# If we want to actually tail call to torch.jit.load, we need to\u001b[39;00m\n\u001b[1;32m   1323\u001b[0m         \u001b[38;5;66;03m# reset back to the original position.\u001b[39;00m\n\u001b[1;32m   1324\u001b[0m         orig_position \u001b[38;5;241m=\u001b[39m opened_file\u001b[38;5;241m.\u001b[39mtell()\n",
      "File \u001b[0;32m/opt/anaconda3/lib/python3.12/site-packages/torch/serialization.py:659\u001b[0m, in \u001b[0;36m_open_file_like\u001b[0;34m(name_or_buffer, mode)\u001b[0m\n\u001b[1;32m    657\u001b[0m \u001b[38;5;28;01mdef\u001b[39;00m \u001b[38;5;21m_open_file_like\u001b[39m(name_or_buffer, mode):\n\u001b[1;32m    658\u001b[0m     \u001b[38;5;28;01mif\u001b[39;00m _is_path(name_or_buffer):\n\u001b[0;32m--> 659\u001b[0m         \u001b[38;5;28;01mreturn\u001b[39;00m _open_file(name_or_buffer, mode)\n\u001b[1;32m    660\u001b[0m     \u001b[38;5;28;01melse\u001b[39;00m:\n\u001b[1;32m    661\u001b[0m         \u001b[38;5;28;01mif\u001b[39;00m \u001b[38;5;124m\"\u001b[39m\u001b[38;5;124mw\u001b[39m\u001b[38;5;124m\"\u001b[39m \u001b[38;5;129;01min\u001b[39;00m mode:\n",
      "File \u001b[0;32m/opt/anaconda3/lib/python3.12/site-packages/torch/serialization.py:640\u001b[0m, in \u001b[0;36m_open_file.__init__\u001b[0;34m(self, name, mode)\u001b[0m\n\u001b[1;32m    639\u001b[0m \u001b[38;5;28;01mdef\u001b[39;00m \u001b[38;5;21m__init__\u001b[39m(\u001b[38;5;28mself\u001b[39m, name, mode):\n\u001b[0;32m--> 640\u001b[0m     \u001b[38;5;28msuper\u001b[39m()\u001b[38;5;241m.\u001b[39m\u001b[38;5;21m__init__\u001b[39m(\u001b[38;5;28mopen\u001b[39m(name, mode))\n",
      "\u001b[0;31mFileNotFoundError\u001b[0m: [Errno 2] No such file or directory: 'savee/model_anaconda3'"
     ]
    },
    {
     "data": {
      "image/png": "[encoded data removed]",
      "text/plain": [
       "<Figure size 800x600 with 1 Axes>"
      ]
     },
     "metadata": {},
     "output_type": "display_data"
    }
   ],
   "source": [
    "def plot_models(models):\n",
    "    \n",
    "    xx       = np.linspace(0,2,1000).reshape(-1,1)\n",
    "    fig, ax  = plt.subplots(1,1,figsize=(4,3),dpi=200,constrained_layout=True)\n",
    "    \n",
    "    for k,model_name in enumerate(models):\n",
    "        model.load_state_dict(torch.load(model_name))\n",
    "        U_NN     = model.get_U_np(xx)\n",
    "        U_NN_min = U_NN.min()\n",
    "        U_NN     = U_NN-U_NN_min\n",
    "        c        = ax.plot(xx[:,0],U_NN,'-',lw=1.5,label=\"$a_{%d}(x)$\"%(k+1))\n",
    "    ax.legend(fontsize=10)\n",
    "    ax.set_xlabel('$x$',fontsize=10)\n",
    "    ax.set_ylabel('$U(x)$',fontsize=10)\n",
    "    ax.set_xlim([0,2])\n",
    "    ax.set_yticks([0,0.2,0.4,0.6,0.8,1,1.2])\n",
    "    ax.set_xticks([0,.5,1.,1.5,2])\n",
    "    ax.yaxis.grid(linestyle='--')\n",
    "    ax.tick_params(axis=\"both\", labelsize=10)\n",
    "    plt.show()\n",
    "    \n",
    "plot_models([\"savee/model_anaconda3\"])\n",
    "#plot_models([\"savee/model_a1_update\", \"savee/model_a2_update\", \"savee/model_a3_update\", \"savee/model_a4\", \"savee/model_a5_update\"])"
   ]
  },
  {
   "cell_type": "code",
   "execution_count": 170,
   "id": "0851750f",
   "metadata": {},
   "outputs": [
    {
     "data": {
      "text/plain": [
       "Model(\n",
       "  (model_U): FCNN(\n",
       "    (layers): ModuleList(\n",
       "      (0): Linear(in_features=1, out_features=10, bias=True)\n",
       "      (1-2): 2 x Linear(in_features=10, out_features=10, bias=True)\n",
       "    )\n",
       "    (out): Linear(in_features=10, out_features=1, bias=True)\n",
       "  )\n",
       ")"
      ]
     },
     "execution_count": 170,
     "metadata": {},
     "output_type": "execute_result"
    }
   ],
   "source": [
    "model"
   ]
  },
  {
   "cell_type": "code",
   "execution_count": 84,
   "id": "5b79c6ed-2669-4f78-a26d-a70b834146d6",
   "metadata": {},
   "outputs": [
    {
     "name": "stderr",
     "output_type": "stream",
     "text": [
      "/var/folders/14/40gccrfs5qvbpxcdp3fzdjt00000gn/T/ipykernel_9056/187162749.py:1: FutureWarning: You are using `torch.load` with `weights_only=False` (the current default value), which uses the default pickle module implicitly. It is possible to construct malicious pickle data which will execute arbitrary code during unpickling (See https://github.com/pytorch/pytorch/blob/main/SECURITY.md#untrusted-models for more details). In a future release, the default value for `weights_only` will be flipped to `True`. This limits the functions that could be executed during unpickling. Arbitrary objects will no longer be allowed to be loaded via this mode unless they are explicitly allowlisted by the user via `torch.serialization.add_safe_globals`. We recommend you start setting `weights_only=True` for any use case where you don't have full control of the loaded file. Please open an issue on GitHub for any issues related to this experimental feature.\n",
      "  torch.load(\"/Users/annacoletti/Desktop/savee/model_a3_update.mat\")\n"
     ]
    },
    {
     "ename": "FileNotFoundError",
     "evalue": "[Errno 2] No such file or directory: '/Users/annacoletti/Desktop/savee/model_a3_update.mat'",
     "output_type": "error",
     "traceback": [
      "\u001b[0;31m---------------------------------------------------------------------------\u001b[0m",
      "\u001b[0;31mFileNotFoundError\u001b[0m                         Traceback (most recent call last)",
      "Cell \u001b[0;32mIn[84], line 1\u001b[0m\n\u001b[0;32m----> 1\u001b[0m torch\u001b[38;5;241m.\u001b[39mload(\u001b[38;5;124m\"\u001b[39m\u001b[38;5;124m/Users/annacoletti/Desktop/savee/model_a3_update.mat\u001b[39m\u001b[38;5;124m\"\u001b[39m)\n",
      "File \u001b[0;32m/opt/anaconda3/lib/python3.12/site-packages/torch/serialization.py:1319\u001b[0m, in \u001b[0;36mload\u001b[0;34m(f, map_location, pickle_module, weights_only, mmap, **pickle_load_args)\u001b[0m\n\u001b[1;32m   1316\u001b[0m \u001b[38;5;28;01mif\u001b[39;00m \u001b[38;5;124m\"\u001b[39m\u001b[38;5;124mencoding\u001b[39m\u001b[38;5;124m\"\u001b[39m \u001b[38;5;129;01mnot\u001b[39;00m \u001b[38;5;129;01min\u001b[39;00m pickle_load_args\u001b[38;5;241m.\u001b[39mkeys():\n\u001b[1;32m   1317\u001b[0m     pickle_load_args[\u001b[38;5;124m\"\u001b[39m\u001b[38;5;124mencoding\u001b[39m\u001b[38;5;124m\"\u001b[39m] \u001b[38;5;241m=\u001b[39m \u001b[38;5;124m\"\u001b[39m\u001b[38;5;124mutf-8\u001b[39m\u001b[38;5;124m\"\u001b[39m\n\u001b[0;32m-> 1319\u001b[0m \u001b[38;5;28;01mwith\u001b[39;00m _open_file_like(f, \u001b[38;5;124m\"\u001b[39m\u001b[38;5;124mrb\u001b[39m\u001b[38;5;124m\"\u001b[39m) \u001b[38;5;28;01mas\u001b[39;00m opened_file:\n\u001b[1;32m   1320\u001b[0m     \u001b[38;5;28;01mif\u001b[39;00m _is_zipfile(opened_file):\n\u001b[1;32m   1321\u001b[0m         \u001b[38;5;66;03m# The zipfile reader is going to advance the current file position.\u001b[39;00m\n\u001b[1;32m   1322\u001b[0m         \u001b[38;5;66;03m# If we want to actually tail call to torch.jit.load, we need to\u001b[39;00m\n\u001b[1;32m   1323\u001b[0m         \u001b[38;5;66;03m# reset back to the original position.\u001b[39;00m\n\u001b[1;32m   1324\u001b[0m         orig_position \u001b[38;5;241m=\u001b[39m opened_file\u001b[38;5;241m.\u001b[39mtell()\n",
      "File \u001b[0;32m/opt/anaconda3/lib/python3.12/site-packages/torch/serialization.py:659\u001b[0m, in \u001b[0;36m_open_file_like\u001b[0;34m(name_or_buffer, mode)\u001b[0m\n\u001b[1;32m    657\u001b[0m \u001b[38;5;28;01mdef\u001b[39;00m \u001b[38;5;21m_open_file_like\u001b[39m(name_or_buffer, mode):\n\u001b[1;32m    658\u001b[0m     \u001b[38;5;28;01mif\u001b[39;00m _is_path(name_or_buffer):\n\u001b[0;32m--> 659\u001b[0m         \u001b[38;5;28;01mreturn\u001b[39;00m _open_file(name_or_buffer, mode)\n\u001b[1;32m    660\u001b[0m     \u001b[38;5;28;01melse\u001b[39;00m:\n\u001b[1;32m    661\u001b[0m         \u001b[38;5;28;01mif\u001b[39;00m \u001b[38;5;124m\"\u001b[39m\u001b[38;5;124mw\u001b[39m\u001b[38;5;124m\"\u001b[39m \u001b[38;5;129;01min\u001b[39;00m mode:\n",
      "File \u001b[0;32m/opt/anaconda3/lib/python3.12/site-packages/torch/serialization.py:640\u001b[0m, in \u001b[0;36m_open_file.__init__\u001b[0;34m(self, name, mode)\u001b[0m\n\u001b[1;32m    639\u001b[0m \u001b[38;5;28;01mdef\u001b[39;00m \u001b[38;5;21m__init__\u001b[39m(\u001b[38;5;28mself\u001b[39m, name, mode):\n\u001b[0;32m--> 640\u001b[0m     \u001b[38;5;28msuper\u001b[39m()\u001b[38;5;241m.\u001b[39m\u001b[38;5;21m__init__\u001b[39m(\u001b[38;5;28mopen\u001b[39m(name, mode))\n",
      "\u001b[0;31mFileNotFoundError\u001b[0m: [Errno 2] No such file or directory: '/Users/annacoletti/Desktop/savee/model_a3_update.mat'"
     ]
    }
   ],
   "source": [
    "torch.load(\"/Users/annacoletti/Desktop/savee/model_a3_update.mat\")"
   ]
  },
  {
   "cell_type": "raw",
   "id": "319e3d20-3380-447c-9b87-866c7b207395",
   "metadata": {},
   "source": [
    "scio.savemat('W2_learned_DL', U_NN)"
   ]
  },
  {
   "cell_type": "code",
   "execution_count": null,
   "id": "eb6c8483-83f4-4254-ad76-c0e322cc5499",
   "metadata": {},
   "outputs": [],
   "source": []
  }
 ],
 "metadata": {
  "hide_input": false,
  "kernelspec": {
   "display_name": "Python 3 (ipykernel)",
   "language": "python",
   "name": "python3"
  },
  "language_info": {
   "codemirror_mode": {
    "name": "ipython",
    "version": 3
   },
   "file_extension": ".py",
   "mimetype": "text/x-python",
   "name": "python",
   "nbconvert_exporter": "python",
   "pygments_lexer": "ipython3",
   "version": "3.12.4"
  },
  "varInspector": {
   "cols": {
    "lenName": 16,
    "lenType": 16,
    "lenVar": 40
   },
   "kernels_config": {
    "python": {
     "delete_cmd_postfix": "",
     "delete_cmd_prefix": "del ",
     "library": "var_list.py",
     "varRefreshCmd": "print(var_dic_list())"
    },
    "r": {
     "delete_cmd_postfix": ") ",
     "delete_cmd_prefix": "rm(",
     "library": "var_list.r",
     "varRefreshCmd": "cat(var_dic_list()) "
    }
   },
   "types_to_exclude": [
    "module",
    "function",
    "builtin_function_or_method",
    "instance",
    "_Feature"
   ],
   "window_display": false
  }
 },
 "nbformat": 4,
 "nbformat_minor": 5
}
