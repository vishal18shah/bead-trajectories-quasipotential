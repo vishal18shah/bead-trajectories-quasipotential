{
 "cells": [
  {
   "cell_type": "code",
   "execution_count": 253,
   "id": "17d34f05",
   "metadata": {},
   "outputs": [],
   "source": [
    "#! nvidia-smi"
   ]
  },
  {
   "cell_type": "code",
   "execution_count": 254,
   "id": "66f3121e-b0e4-46b0-ab2a-09540cec3cab",
   "metadata": {},
   "outputs": [],
   "source": [
    "#conda install pytorch torchvision -c pytorch"
   ]
  },
  {
   "cell_type": "code",
   "execution_count": 255,
   "id": "b280ca44",
   "metadata": {},
   "outputs": [],
   "source": [
    "import os\n",
    "def EXIT_NOTEBOOK(): os._exit(00)\n",
    "#os.environ['CUDA_VISIBLE_DEVICES'] = '3'\n",
    "os.environ['TF_CPP_MIN_LOG_LEVEL'] = '3' "
   ]
  },
  {
   "cell_type": "code",
   "execution_count": 256,
   "id": "36ba82b5",
   "metadata": {},
   "outputs": [],
   "source": [
    "import numpy as np\n",
    "import pandas as pd\n",
    "import matplotlib.pyplot as plt\n",
    "from tqdm.notebook import tqdm\n",
    "import random\n",
    "import torch \n",
    "from torch import nn\n",
    "import torch.nn.functional as func\n",
    "import seaborn as sns\n",
    "import matplotlib.ticker\n",
    "import itertools\n",
    "\n",
    "# # ps\n",
    "# import pysindy as ps\n",
    "\n",
    "# sns.set_theme()\n",
    "# torch.set_default_dtype(torch.float32)\n",
    "plt.rcParams['text.usetex'] = True"
   ]
  },
  {
   "cell_type": "code",
   "execution_count": 257,
   "id": "a9a3b215",
   "metadata": {},
   "outputs": [],
   "source": [
    "dim = 6\n",
    "torch.set_default_dtype(torch.float64)"
   ]
  },
  {
   "cell_type": "markdown",
   "id": "6f339b9d",
   "metadata": {},
   "source": [
    "# Dataset for X"
   ]
  },
  {
   "cell_type": "code",
   "execution_count": 258,
   "id": "818019ae",
   "metadata": {},
   "outputs": [
    {
     "name": "stdout",
     "output_type": "stream",
     "text": [
      "[[-8.39636597e-03  1.01099650e-02  9.91270488e-03 -1.25714042e-03\n",
      "  -1.03790511e-02 -1.93873592e-02]\n",
      " [-1.17121197e-02  2.36858662e-02 -3.93688821e-03  2.68598001e-02\n",
      "   3.70468726e-03 -9.25527331e-03]\n",
      " [-5.31925589e-05  4.51809438e-02  5.19950064e-03  5.02629790e-02\n",
      "   4.30098890e-02 -6.17712801e-03]\n",
      " [ 6.88650790e-03  4.58406693e-02  1.70529539e-02  6.68114868e-02\n",
      "   4.69094841e-02 -4.33511266e-02]\n",
      " [ 8.24981080e-03  4.36921179e-02  1.40783186e-02  5.74821281e-02\n",
      "   4.30966481e-02 -5.26500280e-02]\n",
      " [ 8.57348430e-03  5.32676131e-02  1.85777838e-02  7.42281322e-02\n",
      "   5.47227818e-02 -5.31157740e-02]\n",
      " [ 2.55792605e-03  5.04205328e-02 -1.44798249e-03  9.02314415e-02\n",
      "   6.83192631e-02 -6.44622941e-02]\n",
      " [ 8.70444970e-03  6.36443470e-02 -2.88011501e-02  9.66763118e-02\n",
      "   8.18017453e-02 -7.65496435e-02]\n",
      " [-7.13627647e-03  6.44940952e-02 -6.92789704e-02  1.34856420e-01\n",
      "   8.41094402e-02 -7.60221355e-02]\n",
      " [-2.15232799e-02  9.29863088e-02 -6.55843048e-02  1.58221709e-01\n",
      "   9.84605701e-02 -1.01384976e-01]\n",
      " [-2.15232799e-02  9.29863088e-02 -6.55843048e-02  1.58221709e-01\n",
      "   9.84605701e-02 -1.01384976e-01]]\n"
     ]
    }
   ],
   "source": [
    "from BeadModel import Simulate\n",
    "from SimulationParameters import *\n",
    "\n",
    "X = Simulation(*Simulate(numSims)).positions[:,:,:,0].reshape(-1,nt+1).T\n",
    "# # Z = X.view\n",
    "\n",
    "# print(X.shape)\n",
    "print(X)"
   ]
  },
  {
   "cell_type": "code",
   "execution_count": 259,
   "id": "f7843f53",
   "metadata": {},
   "outputs": [],
   "source": [
    "# W = torch.tensor(pd.read_csv('alpha1_W.txt', header = None).values).T\n",
    "# print(W)\n",
    "# print(W.shape)\n",
    "# print()\n",
    "# X = torch.tensor(pd.read_csv('alpha1_path.txt', header = None).values).T\n",
    "# X.requires_grad_()\n",
    "# print(X)\n",
    "# print(X.shape)"
   ]
  },
  {
   "cell_type": "markdown",
   "id": "d9cbd757",
   "metadata": {},
   "source": [
    "# Set the NN model and Solver with training process"
   ]
  },
  {
   "cell_type": "code",
   "execution_count": 260,
   "id": "606412e9",
   "metadata": {
    "code_folding": [
     2,
     18,
     19,
     28,
     42,
     45
    ]
   },
   "outputs": [],
   "source": [
    "def relu2(X): return func.relu(X)**2\n",
    "def tanh(X): return func.tanh(X)\n",
    "class FCNN(nn.Module):\n",
    "    def __init__(self,input_dim=6,output_dim=6,num_hidden=2,hidden_dim=10,act=func.tanh,transform=None):\n",
    "        super().__init__()\n",
    "        self.input_dim = input_dim\n",
    "        self.output_dim = output_dim\n",
    "        self.layers  = nn.ModuleList([nn.Linear(input_dim,hidden_dim)])\n",
    "        for _ in range(num_hidden-1): self.layers.append(nn.Linear(hidden_dim,hidden_dim))\n",
    "        self.act     = act\n",
    "        self.out     = nn.Linear(hidden_dim,output_dim)\n",
    "        self.transform = transform\n",
    "    def forward(self,X):\n",
    "        if self.transform is not None: X = self.transform(X)\n",
    "        for layer in self.layers: X = self.act(layer(X))\n",
    "        Y = self.out(X)\n",
    "        return Y\n",
    "class Model(nn.Module):\n",
    "    def __init__(self,dim,model_U,unit_len=int(5e3)):\n",
    "        super().__init__()\n",
    "        self.dim      = dim\n",
    "        self.model_U  = model_U\n",
    "        self.unit_len = unit_len\n",
    "        self.mu       = nn.Parameter(torch.tensor([0.]*dim),requires_grad=False) \n",
    "        self.sigma    = nn.Parameter(torch.tensor([1.]*dim),requires_grad=False)\n",
    "        #above two lines should work, but if something doesn't work, check here! Does current self.mu and self.sigma code work if dim>1. Should return a vector since what we're trying to do is calculate mu\n",
    "        #and sigma separately for each imnputted feature. mu is parameter[0] for each row.\n",
    "        self.coef_U   = nn.Parameter(torch.tensor([1.]*dim),requires_grad=False)\n",
    "        #self.mu       = nn.Parameter(torch.tensor([0.]*dim).cuda(),requires_grad=False)\n",
    "        #self.sigma    = nn.Parameter(torch.tensor([1.]*dim).cuda(),requires_grad=False)\n",
    "        #self.coef_U   = nn.Parameter(torch.tensor(1.).cuda(),requires_grad=False)\n",
    "    def get_U_harmonic(self,X): return torch.sum(X**2,axis=-1)\n",
    "        \n",
    "    \n",
    "    def get_U_dU(self,X):\n",
    "        # normalize and ensure x is a tensor\n",
    "        if not torch.is_tensor(X): X = torch.tensor(X, requires_grad=True)\n",
    "        U = self.model_U(X).view(-1)\n",
    "        dU = torch.autograd.grad(U, X, torch.ones_like(U), create_graph=True)[0]\n",
    "        # dU = dU.T\n",
    "        return U,dU\n",
    "\n",
    "    \n",
    "    def get_U_np(self,X): \n",
    "        U,_ = self.get_U_dU(X);\n",
    "        return U.cpu().data.numpy()\n",
    "    \n",
    "    # def get_U_numerical_integration(self,X, dX):\n",
    "    #     outputU = []\n",
    "    #     _,dU = self.get_U_dU(X)\n",
    "    #     # Assume dU has more than two features. for each timestep we'll numerically integrate. current shape is 6x10\n",
    "    #     #Trapezoid rule for numerical integration by each timestep\n",
    "    #     for t in range(dU.shape[1]):\n",
    "    #         currentSum = 0\n",
    "    #         currentDU = dU[:,t]\n",
    "    #         for i in range(len(currentDU)):\n",
    "    #             if i == len(currentDU)-1 or i == 0:\n",
    "    #                 currentSum += currentDU[i] / 2\n",
    "    #             else:\n",
    "    #                 currentSum += currentDU[i]\n",
    "    #         currentSum *= dX\n",
    "    #         outputU.append(currentSum + sum(outputU))\n",
    "    #     U = torch.tensor(outputU)\n",
    "    #     return U\n",
    "    \n",
    "    def get_U_line_integration(self, X, nt):\n",
    "        _,dU = self.get_U_dU(X)\n",
    "        print(f\"dU: {dU}\")\n",
    "        midpoints = [ (X[t+1,:] - X[t-1, :]) / 2 for t in range(1,9)]\n",
    "        midpoints = [midpoints[0]] + midpoints + [midpoints[-1]]\n",
    "        midpoints = torch.abs(torch.tensor(midpoints))\n",
    "        print(f\"midpoints: {midpoints}\")\n",
    "\n",
    "        U = []\n",
    "        for t in range(dU.shape[0] - 1):\n",
    "            U.append(torch.sum(midpoints[t, :] * dU[t, :]))\n",
    "        U = torch.stack(U)\n",
    "        U = torch.cat((torch.tensor([0]), ((U[1:] + U[:nt - 1]) / 2)), dim=0)\n",
    "        U = torch.tensor(list(itertools.accumulate(U)))\n",
    "        return U\n",
    "    \n",
    "\n",
    "    \n",
    "class Solver():\n",
    "    def __init__(self,model):\n",
    "        self.model=model\n",
    "    def train_model(self,data_train,data_test,get_loss,optimizer,\n",
    "                    n_steps,batch_size,scheduler=None,n_show_loss=100,error_model=None,use_tqdm=True):\n",
    "        if use_tqdm: step_range = tqdm(range(n_steps))\n",
    "        else: step_range = range(n_steps)\n",
    "        loss_step = []\n",
    "        for i_step in step_range:\n",
    "            if i_step%n_show_loss==0:\n",
    "                loss_train,loss_test = get_loss(self.model,data_train)[:-1],\\\n",
    "                                       get_loss(self.model,data_test)[:-1]\n",
    "                \n",
    "                def show_num(x): \n",
    "                    if abs(x)<100 and abs(x)>.01: return '%0.5f'%x\n",
    "                    else: return '%0.2e'%x\n",
    "                item1 = '%2dk'%np.int_(i_step/1000)\n",
    "                item2 = 'Loss: '+' '.join([show_num(k) for k in loss_train])\n",
    "                item3 = ' '.join([show_num(k) for k in loss_test])\n",
    "                item4 = ''\n",
    "                if error_model is not None: item4 = 'E(QP): %0.4f' % (error_model(self.model))\n",
    "                print(', '.join([item1,item2,item3,item4]))\n",
    "                loss_step = loss_step + [i_step] + [k.cpu().data.numpy() for k in loss_train]\\\n",
    "                                                 + [k.cpu().data.numpy() for k in loss_train]\n",
    "            data_batch = data_train[random.sample(range(len(data_train)),\n",
    "                                                  min(batch_size,len(data_train)))]\n",
    "#             print(i_step,data_batch.shape)\n",
    "            loss = get_loss(self.model,data_batch)[-1]\n",
    "            optimizer.zero_grad()\n",
    "            loss.backward()\n",
    "            optimizer.step()\n",
    "            if scheduler is not None: scheduler.step()\n",
    "        if error_model is not None: \n",
    "            print(\"Error: %0.5f\" % (error_model(self.model)))\n",
    "        return loss_step"
   ]
  },
  {
   "cell_type": "code",
   "execution_count": 261,
   "id": "5786a635",
   "metadata": {
    "code_folding": []
   },
   "outputs": [],
   "source": [
    "model_U = FCNN(input_dim=dim,output_dim=1,num_hidden=3,hidden_dim=10,act=tanh)#.cuda()\n",
    "model   = Model(dim,model_U=model_U)#.cuda();\n",
    "SOL     = Solver(model)"
   ]
  },
  {
   "cell_type": "code",
   "execution_count": 262,
   "id": "fd4f4a11",
   "metadata": {},
   "outputs": [],
   "source": [
    "# print(model.get_U_dU(X))"
   ]
  },
  {
   "cell_type": "code",
   "execution_count": 263,
   "id": "94e8e5d0",
   "metadata": {},
   "outputs": [],
   "source": [
    "# print(model.mu.shape)\n",
    "# print(model.mu)"
   ]
  },
  {
   "cell_type": "code",
   "execution_count": 264,
   "id": "5df5a90f",
   "metadata": {},
   "outputs": [],
   "source": [
    "# def plot_model(model,cmap='terrain',max_V = 10):\n",
    "    \n",
    "#     xx     = np.linspace(0,2,1000).reshape(-1,1)\n",
    "#     U_NN   = model.get_U_np(xx)\n",
    "#     U_NN_min = U_NN.min()\n",
    "#     U_NN  = U_NN-U_NN_min\n",
    "\n",
    "#     fig, ax    = plt.subplots(1,1,figsize=(5,3),dpi=200,constrained_layout=True)\n",
    "#     c      = ax.plot(xx[:,0],U_NN,'-',lw=1.5,)\n",
    "\n",
    "#     ax.tick_params(axis=\"both\", labelsize=10)\n",
    "#     plt.show()"
   ]
  },
  {
   "cell_type": "markdown",
   "id": "6d82dfe6",
   "metadata": {},
   "source": [
    "# Set the loss function and Train the model for differen a_k(x)"
   ]
  },
  {
   "cell_type": "code",
   "execution_count": 265,
   "id": "69c4eeaf",
   "metadata": {
    "code_folding": [
     0,
     12,
     16
    ]
   },
   "outputs": [
    {
     "data": {
      "text/plain": [
       "[tensor(0.0007, grad_fn=<PowBackward0>),\n",
       " tensor(0.0008, grad_fn=<PowBackward0>),\n",
       " tensor(0.0010, grad_fn=<PowBackward0>),\n",
       " tensor(0.0010, grad_fn=<PowBackward0>),\n",
       " tensor(0.0009, grad_fn=<PowBackward0>),\n",
       " tensor(0.0010, grad_fn=<PowBackward0>),\n",
       " tensor(0.0011, grad_fn=<PowBackward0>),\n",
       " tensor(0.0010, grad_fn=<PowBackward0>),\n",
       " tensor(0.0012, grad_fn=<PowBackward0>),\n",
       " tensor(0.0011, grad_fn=<PowBackward0>),\n",
       " tensor(0.0011, grad_fn=<PowBackward0>)]"
      ]
     },
     "execution_count": 265,
     "metadata": {},
     "output_type": "execute_result"
    }
   ],
   "source": [
    "from Loss import getResidue, getAllResidues\n",
    "\n",
    "# def plot_model(model,cmap='terrain',max_V = 10):\n",
    "    \n",
    "#     # xx     = np.linspace(0,2,1000).reshape(-1,1)\n",
    "#     # U_NN   = model.get_U_np(xx)\n",
    "#     U_NN   = model.get_U_np(X)\n",
    "#     U_NN_min = U_NN.min()\n",
    "#     U_NN  = U_NN-U_NN_min\n",
    "#     fig, ax    = plt.subplots(1,1,figsize=(5,3),dpi=200,constrained_layout=True)\n",
    "#     c      = ax.plot(X[:,0],U_NN,'-',lw=1.5,)\n",
    "\n",
    "    # ax.tick_params(axis=\"both\", labelsize=10)\n",
    "    # plt.show()\n",
    "\n",
    "def plot_model(model,cmap='terrain',max_V = 10,):\n",
    "    xx     = np.linspace(0,2,nt).reshape(-1,1)\n",
    "    U_NN = model.get_U_line_integration(X, nt)\n",
    "    print()\n",
    "    print(f\"initial U: {U_NN}\")\n",
    "    U_NN = U_NN[:nt]\n",
    "    U_NN_min = U_NN.min()\n",
    "    U_NN  = U_NN-U_NN_min\n",
    "    print()\n",
    "    print(f\"after some changes U: {U_NN}\")\n",
    "    U_NN_np = U_NN.detach().numpy()\n",
    "    fig, ax    = plt.subplots(1,1,figsize=(5,3),dpi=200,constrained_layout=True)\n",
    "    c        = ax.plot(xx[:,0],U_NN_np,'-',lw=1.5)\n",
    "\n",
    "def get_loss(model,data):\n",
    "    X = data\n",
    "    X = torch.tensor(X).clone().detach().requires_grad_(True)\n",
    "    _,dU = model.get_U_dU(X)\n",
    "    # Note we are feeding in a gradient below:\n",
    "    # gradients = torch.tensor(pd.read_csv('alpha1_dW.txt', header = None).values)\n",
    "\n",
    "    loss = getAllResidues(X, dU)\n",
    "    return loss#,loss\n",
    "\n",
    "\n",
    "# plot_model(model)\n",
    "# is get loss working? ignore the print outs that come from it\n",
    "get_loss(model,X)"
   ]
  },
  {
   "cell_type": "code",
   "execution_count": 266,
   "id": "65d4b29e",
   "metadata": {
    "code_folding": []
   },
   "outputs": [
    {
     "data": {
      "application/vnd.jupyter.widget-view+json": {
       "model_id": "bb567bca778e44409b8e807f15ce3395",
       "version_major": 2,
       "version_minor": 0
      },
      "text/plain": [
       "  0%|          | 0/50001 [00:00<?, ?it/s]"
      ]
     },
     "metadata": {},
     "output_type": "display_data"
    },
    {
     "name": "stdout",
     "output_type": "stream",
     "text": [
      " 0k, Loss: 9.36e-04 1.09e-03 1.46e-03 1.34e-03 1.32e-03 1.44e-03 1.68e-03 1.92e-03 2.30e-03 2.58e-03, 9.36e-04 1.09e-03 1.46e-03 1.34e-03 1.32e-03 1.44e-03 1.68e-03 1.92e-03 2.30e-03 2.58e-03, \n",
      " 1k, Loss: 3.64e-08 4.39e-08 1.55e-07 1.17e-08 4.63e-08 2.35e-08 7.95e-09 4.52e-08 4.96e-09 1.78e-08, 3.64e-08 4.39e-08 1.55e-07 1.17e-08 4.63e-08 2.35e-08 7.95e-09 4.52e-08 4.96e-09 1.78e-08, \n",
      " 2k, Loss: 4.21e-09 2.62e-09 8.25e-09 4.43e-09 1.89e-08 7.84e-09 2.28e-09 2.58e-08 4.51e-10 5.29e-09, 4.21e-09 2.62e-09 8.25e-09 4.43e-09 1.89e-08 7.84e-09 2.28e-09 2.58e-08 4.51e-10 5.29e-09, \n",
      " 3k, Loss: 3.56e-09 7.80e-10 1.67e-09 1.12e-10 7.11e-10 1.55e-10 1.10e-09 5.90e-10 6.27e-09 1.80e-08, 3.56e-09 7.80e-10 1.67e-09 1.12e-10 7.11e-10 1.55e-10 1.10e-09 5.90e-10 6.27e-09 1.80e-08, \n",
      " 4k, Loss: 4.40e-09 3.62e-10 3.70e-10 1.10e-09 4.44e-11 1.82e-09 1.80e-09 1.73e-10 4.71e-09 1.57e-08, 4.40e-09 3.62e-10 3.70e-10 1.10e-09 4.44e-11 1.82e-09 1.80e-09 1.73e-10 4.71e-09 1.57e-08, \n",
      " 5k, Loss: 5.01e-09 3.27e-11 1.40e-09 4.87e-10 1.57e-09 2.92e-10 2.21e-09 1.08e-08 1.40e-09 1.35e-09, 5.01e-09 3.27e-11 1.40e-09 4.87e-10 1.57e-09 2.92e-10 2.21e-09 1.08e-08 1.40e-09 1.35e-09, \n",
      " 6k, Loss: 1.48e-09 8.78e-13 1.48e-10 3.32e-12 9.59e-11 1.66e-10 6.19e-11 3.04e-13 3.72e-09 1.03e-08, 1.48e-09 8.78e-13 1.48e-10 3.32e-12 9.59e-11 1.66e-10 6.19e-11 3.04e-13 3.72e-09 1.03e-08, \n",
      " 7k, Loss: 1.17e-10 7.78e-10 1.06e-09 2.81e-09 4.89e-09 2.84e-09 1.93e-09 2.64e-09 1.18e-09 2.76e-09, 1.17e-10 7.78e-10 1.06e-09 2.81e-09 4.89e-09 2.84e-09 1.93e-09 2.64e-09 1.18e-09 2.76e-09, \n",
      " 8k, Loss: 4.53e-09 2.76e-11 1.06e-09 1.22e-11 2.12e-13 8.53e-11 1.11e-09 4.78e-09 1.56e-09 1.51e-10, 4.53e-09 2.76e-11 1.06e-09 1.22e-11 2.12e-13 8.53e-11 1.11e-09 4.78e-09 1.56e-09 1.51e-10, \n",
      " 9k, Loss: 5.35e-10 3.76e-10 3.79e-09 3.81e-09 3.50e-09 4.18e-09 8.24e-09 6.82e-09 2.21e-09 5.03e-10, 5.35e-10 3.76e-10 3.79e-09 3.81e-09 3.50e-09 4.18e-09 8.24e-09 6.82e-09 2.21e-09 5.03e-10, \n",
      "10k, Loss: 6.92e-08 1.26e-08 4.63e-09 7.67e-09 2.48e-08 1.41e-08 3.81e-10 5.99e-09 2.08e-09 4.46e-09, 6.92e-08 1.26e-08 4.63e-09 7.67e-09 2.48e-08 1.41e-08 3.81e-10 5.99e-09 2.08e-09 4.46e-09, \n",
      "11k, Loss: 7.15e-09 5.55e-10 7.66e-10 5.53e-10 6.89e-10 7.01e-10 9.64e-10 5.41e-09 7.01e-09 1.06e-09, 7.15e-09 5.55e-10 7.66e-10 5.53e-10 6.89e-10 7.01e-10 9.64e-10 5.41e-09 7.01e-09 1.06e-09, \n",
      "12k, Loss: 2.48e-10 4.60e-11 3.52e-14 9.53e-12 1.89e-13 1.60e-11 4.86e-11 1.71e-10 4.74e-12 7.57e-11, 2.48e-10 4.60e-11 3.52e-14 9.53e-12 1.89e-13 1.60e-11 4.86e-11 1.71e-10 4.74e-12 7.57e-11, \n",
      "13k, Loss: 2.17e-10 1.57e-10 1.17e-10 1.91e-09 1.55e-09 2.05e-09 1.92e-09 4.42e-11 8.10e-11 1.50e-11, 2.17e-10 1.57e-10 1.17e-10 1.91e-09 1.55e-09 2.05e-09 1.92e-09 4.42e-11 8.10e-11 1.50e-11, \n",
      "14k, Loss: 7.97e-12 6.82e-12 1.48e-13 5.16e-12 1.56e-11 9.72e-12 2.79e-11 3.81e-11 9.71e-13 1.71e-12, 7.97e-12 6.82e-12 1.48e-13 5.16e-12 1.56e-11 9.72e-12 2.79e-11 3.81e-11 9.71e-13 1.71e-12, \n",
      "15k, Loss: 5.67e-10 9.34e-13 8.42e-11 8.84e-12 1.74e-11 2.28e-12 4.44e-10 6.84e-10 2.62e-09 1.06e-09, 5.67e-10 9.34e-13 8.42e-11 8.84e-12 1.74e-11 2.28e-12 4.44e-10 6.84e-10 2.62e-09 1.06e-09, \n",
      "16k, Loss: 5.81e-11 1.79e-12 7.68e-12 8.69e-13 3.06e-11 1.23e-12 3.95e-11 3.03e-12 1.44e-10 4.98e-11, 5.81e-11 1.79e-12 7.68e-12 8.69e-13 3.06e-11 1.23e-12 3.95e-11 3.03e-12 1.44e-10 4.98e-11, \n",
      "17k, Loss: 2.56e-12 8.34e-12 7.85e-12 1.37e-13 1.43e-12 8.31e-13 4.69e-12 5.08e-12 1.78e-11 2.47e-14, 2.56e-12 8.34e-12 7.85e-12 1.37e-13 1.43e-12 8.31e-13 4.69e-12 5.08e-12 1.78e-11 2.47e-14, \n",
      "18k, Loss: 8.83e-12 4.21e-12 2.96e-13 3.08e-13 1.07e-12 7.61e-14 2.37e-12 6.46e-13 4.39e-12 5.32e-12, 8.83e-12 4.21e-12 2.96e-13 3.08e-13 1.07e-12 7.61e-14 2.37e-12 6.46e-13 4.39e-12 5.32e-12, \n",
      "19k, Loss: 4.84e-12 8.47e-12 1.16e-11 6.25e-11 2.75e-11 4.98e-11 4.68e-11 9.81e-12 1.37e-12 2.10e-14, 4.84e-12 8.47e-12 1.16e-11 6.25e-11 2.75e-11 4.98e-11 4.68e-11 9.81e-12 1.37e-12 2.10e-14, \n",
      "20k, Loss: 9.77e-12 6.81e-12 6.41e-13 2.11e-11 7.91e-12 1.78e-11 1.74e-11 5.45e-12 7.30e-12 1.95e-11, 9.77e-12 6.81e-12 6.41e-13 2.11e-11 7.91e-12 1.78e-11 1.74e-11 5.45e-12 7.30e-12 1.95e-11, \n",
      "21k, Loss: 4.66e-13 5.97e-14 1.49e-13 5.79e-14 1.39e-14 3.64e-14 1.63e-13 6.87e-15 2.40e-14 1.74e-14, 4.66e-13 5.97e-14 1.49e-13 5.79e-14 1.39e-14 3.64e-14 1.63e-13 6.87e-15 2.40e-14 1.74e-14, \n",
      "22k, Loss: 1.97e-13 2.86e-14 4.77e-15 2.51e-15 8.07e-17 2.84e-15 1.03e-14 2.41e-17 1.18e-13 9.93e-15, 1.97e-13 2.86e-14 4.77e-15 2.51e-15 8.07e-17 2.84e-15 1.03e-14 2.41e-17 1.18e-13 9.93e-15, \n",
      "23k, Loss: 2.12e-12 1.57e-13 3.26e-15 3.77e-14 4.93e-14 7.05e-15 7.79e-13 8.36e-14 1.08e-13 2.90e-14, 2.12e-12 1.57e-13 3.26e-15 3.77e-14 4.93e-14 7.05e-15 7.79e-13 8.36e-14 1.08e-13 2.90e-14, \n",
      "24k, Loss: 3.82e-13 3.95e-16 8.09e-12 1.19e-12 7.65e-13 7.53e-13 4.76e-13 9.69e-13 1.38e-13 6.50e-13, 3.82e-13 3.95e-16 8.09e-12 1.19e-12 7.65e-13 7.53e-13 4.76e-13 9.69e-13 1.38e-13 6.50e-13, \n",
      "25k, Loss: 2.06e-09 8.93e-14 1.67e-09 7.95e-10 2.22e-09 1.36e-09 1.87e-11 1.36e-11 2.30e-09 1.24e-09, 2.06e-09 8.93e-14 1.67e-09 7.95e-10 2.22e-09 1.36e-09 1.87e-11 1.36e-11 2.30e-09 1.24e-09, \n",
      "26k, Loss: 1.08e-12 1.50e-13 8.71e-14 7.25e-13 8.27e-13 8.67e-13 1.18e-13 2.23e-13 2.79e-13 2.50e-13, 1.08e-12 1.50e-13 8.71e-14 7.25e-13 8.27e-13 8.67e-13 1.18e-13 2.23e-13 2.79e-13 2.50e-13, \n",
      "27k, Loss: 4.76e-14 9.93e-16 1.63e-13 6.76e-17 1.54e-14 8.69e-16 1.31e-14 3.41e-16 6.77e-14 2.42e-14, 4.76e-14 9.93e-16 1.63e-13 6.76e-17 1.54e-14 8.69e-16 1.31e-14 3.41e-16 6.77e-14 2.42e-14, \n",
      "28k, Loss: 2.78e-13 1.89e-14 1.20e-14 5.22e-14 1.41e-13 9.98e-14 9.24e-17 3.06e-16 2.28e-16 2.49e-14, 2.78e-13 1.89e-14 1.20e-14 5.22e-14 1.41e-13 9.98e-14 9.24e-17 3.06e-16 2.28e-16 2.49e-14, \n",
      "29k, Loss: 1.14e-14 2.90e-14 2.73e-14 1.66e-15 2.55e-14 1.69e-16 4.03e-14 9.38e-14 2.18e-14 8.44e-15, 1.14e-14 2.90e-14 2.73e-14 1.66e-15 2.55e-14 1.69e-16 4.03e-14 9.38e-14 2.18e-14 8.44e-15, \n",
      "30k, Loss: 2.44e-13 1.05e-14 2.18e-15 2.76e-14 1.52e-14 1.23e-17 7.80e-14 4.18e-13 7.35e-15 2.53e-15, 2.44e-13 1.05e-14 2.18e-15 2.76e-14 1.52e-14 1.23e-17 7.80e-14 4.18e-13 7.35e-15 2.53e-15, \n",
      "31k, Loss: 7.93e-13 5.67e-14 1.62e-13 1.81e-13 3.08e-13 2.56e-14 1.10e-12 1.22e-12 1.33e-13 1.23e-14, 7.93e-13 5.67e-14 1.62e-13 1.81e-13 3.08e-13 2.56e-14 1.10e-12 1.22e-12 1.33e-13 1.23e-14, \n",
      "32k, Loss: 3.34e-14 2.79e-14 8.33e-16 8.95e-16 6.56e-14 2.14e-15 6.35e-14 1.45e-15 5.26e-15 1.48e-14, 3.34e-14 2.79e-14 8.33e-16 8.95e-16 6.56e-14 2.14e-15 6.35e-14 1.45e-15 5.26e-15 1.48e-14, \n",
      "33k, Loss: 2.93e-15 5.82e-16 4.22e-14 4.62e-15 8.23e-18 1.22e-16 1.47e-14 2.09e-15 2.31e-15 3.96e-18, 2.93e-15 5.82e-16 4.22e-14 4.62e-15 8.23e-18 1.22e-16 1.47e-14 2.09e-15 2.31e-15 3.96e-18, \n",
      "34k, Loss: 5.96e-12 1.26e-13 1.98e-12 7.73e-13 4.30e-12 1.53e-12 2.21e-13 1.34e-12 9.58e-13 5.99e-13, 5.96e-12 1.26e-13 1.98e-12 7.73e-13 4.30e-12 1.53e-12 2.21e-13 1.34e-12 9.58e-13 5.99e-13, \n",
      "35k, Loss: 3.16e-13 1.49e-14 8.37e-13 3.08e-13 1.36e-13 4.15e-14 7.53e-13 2.49e-12 8.48e-15 2.21e-15, 3.16e-13 1.49e-14 8.37e-13 3.08e-13 1.36e-13 4.15e-14 7.53e-13 2.49e-12 8.48e-15 2.21e-15, \n",
      "36k, Loss: 3.52e-15 2.57e-16 3.02e-15 1.66e-16 1.90e-15 8.91e-16 2.02e-15 1.99e-15 1.12e-15 2.18e-15, 3.52e-15 2.57e-16 3.02e-15 1.66e-16 1.90e-15 8.91e-16 2.02e-15 1.99e-15 1.12e-15 2.18e-15, \n",
      "37k, Loss: 4.76e-15 2.28e-15 1.47e-15 3.20e-15 1.68e-14 2.09e-16 3.99e-14 1.20e-15 1.28e-15 3.98e-15, 4.76e-15 2.28e-15 1.47e-15 3.20e-15 1.68e-14 2.09e-16 3.99e-14 1.20e-15 1.28e-15 3.98e-15, \n",
      "38k, Loss: 2.56e-16 4.43e-15 2.57e-14 2.30e-15 1.88e-15 2.85e-16 1.45e-14 4.24e-15 6.22e-16 1.71e-15, 2.56e-16 4.43e-15 2.57e-14 2.30e-15 1.88e-15 2.85e-16 1.45e-14 4.24e-15 6.22e-16 1.71e-15, \n",
      "39k, Loss: 1.50e-12 1.50e-14 8.22e-13 6.12e-15 4.22e-13 6.01e-14 6.31e-13 1.47e-13 1.39e-12 5.53e-13, 1.50e-12 1.50e-14 8.22e-13 6.12e-15 4.22e-13 6.01e-14 6.31e-13 1.47e-13 1.39e-12 5.53e-13, \n",
      "40k, Loss: 7.34e-14 2.95e-17 1.04e-14 8.52e-16 2.09e-15 4.10e-16 1.65e-14 1.50e-14 7.62e-14 3.50e-15, 7.34e-14 2.95e-17 1.04e-14 8.52e-16 2.09e-15 4.10e-16 1.65e-14 1.50e-14 7.62e-14 3.50e-15, \n",
      "41k, Loss: 1.51e-13 2.28e-16 3.08e-15 1.93e-19 4.28e-15 1.48e-15 1.48e-14 1.66e-14 2.92e-14 2.69e-15, 1.51e-13 2.28e-16 3.08e-15 1.93e-19 4.28e-15 1.48e-15 1.48e-14 1.66e-14 2.92e-14 2.69e-15, \n",
      "42k, Loss: 2.78e-13 1.84e-15 9.13e-14 6.43e-14 9.62e-14 7.76e-14 6.08e-16 7.46e-17 8.12e-14 2.32e-14, 2.78e-13 1.84e-15 9.13e-14 6.43e-14 9.62e-14 7.76e-14 6.08e-16 7.46e-17 8.12e-14 2.32e-14, \n",
      "43k, Loss: 2.18e-13 7.01e-19 3.95e-14 5.47e-15 6.17e-14 1.67e-14 1.42e-14 9.50e-14 2.44e-14 8.14e-15, 2.18e-13 7.01e-19 3.95e-14 5.47e-15 6.17e-14 1.67e-14 1.42e-14 9.50e-14 2.44e-14 8.14e-15, \n",
      "44k, Loss: 2.62e-12 7.69e-14 7.61e-13 7.65e-14 1.43e-12 3.00e-13 5.93e-13 1.44e-13 5.39e-13 1.25e-13, 2.62e-12 7.69e-14 7.61e-13 7.65e-14 1.43e-12 3.00e-13 5.93e-13 1.44e-13 5.39e-13 1.25e-13, \n",
      "45k, Loss: 1.99e-15 2.47e-14 6.42e-15 2.68e-16 3.73e-15 2.11e-17 1.21e-14 8.85e-14 1.31e-14 1.12e-14, 1.99e-15 2.47e-14 6.42e-15 2.68e-16 3.73e-15 2.11e-17 1.21e-14 8.85e-14 1.31e-14 1.12e-14, \n",
      "46k, Loss: 1.11e-14 4.23e-15 6.53e-14 3.76e-15 3.57e-14 1.42e-15 5.48e-14 9.86e-15 1.56e-14 8.16e-15, 1.11e-14 4.23e-15 6.53e-14 3.76e-15 3.57e-14 1.42e-15 5.48e-14 9.86e-15 1.56e-14 8.16e-15, \n",
      "47k, Loss: 3.52e-13 8.05e-15 2.82e-13 1.35e-15 4.21e-14 1.29e-14 5.59e-14 2.47e-13 2.23e-13 6.24e-16, 3.52e-13 8.05e-15 2.82e-13 1.35e-15 4.21e-14 1.29e-14 5.59e-14 2.47e-13 2.23e-13 6.24e-16, \n",
      "48k, Loss: 7.62e-12 3.17e-13 1.97e-12 8.95e-13 5.33e-12 1.88e-12 4.40e-13 6.69e-13 1.00e-12 2.87e-13, 7.62e-12 3.17e-13 1.97e-12 8.95e-13 5.33e-12 1.88e-12 4.40e-13 6.69e-13 1.00e-12 2.87e-13, \n",
      "49k, Loss: 8.63e-14 1.21e-15 3.53e-15 1.04e-14 6.21e-15 1.24e-15 4.71e-14 1.85e-13 1.42e-14 1.33e-15, 8.63e-14 1.21e-15 3.53e-15 1.04e-14 6.21e-15 1.24e-15 4.71e-14 1.85e-13 1.42e-14 1.33e-15, \n",
      "50k, Loss: 6.61e-14 2.57e-15 1.98e-14 1.04e-16 1.17e-14 6.83e-16 1.51e-14 8.81e-14 1.04e-14 5.27e-16, 6.61e-14 2.57e-15 1.98e-14 1.04e-16 1.17e-14 6.83e-16 1.51e-14 8.81e-14 1.04e-14 5.27e-16, \n",
      "dU: tensor([[-3.0422e-05,  1.1846e-05, -2.7199e-05, -2.5711e-05,  1.0358e-06,\n",
      "         -2.5660e-07],\n",
      "        [-2.4168e-05, -3.3697e-06, -5.1716e-06, -1.1885e-05,  1.8671e-05,\n",
      "          5.4724e-06],\n",
      "        [-1.2905e-05,  8.8571e-06, -7.3196e-06,  2.4638e-05, -4.7102e-06,\n",
      "          2.1630e-05],\n",
      "        [-1.0161e-05,  1.9602e-05, -1.3401e-05,  3.4472e-05, -1.6485e-05,\n",
      "          2.7318e-05],\n",
      "        [-1.4553e-05,  2.0211e-05, -1.9686e-05,  2.2639e-05, -1.7311e-05,\n",
      "          2.1868e-05],\n",
      "        [-8.7004e-06,  2.0829e-05, -1.3384e-05,  3.9257e-05, -1.9146e-05,\n",
      "          2.9408e-05],\n",
      "        [-8.8418e-06,  2.0717e-05, -1.2558e-05,  3.7612e-05, -1.7752e-05,\n",
      "          2.8882e-05],\n",
      "        [-1.2600e-05,  6.6499e-06, -4.7885e-06,  2.4392e-05, -2.0739e-06,\n",
      "          2.1833e-05],\n",
      "        [-1.0997e-05, -2.3038e-05,  3.0120e-05,  1.8691e-05,  4.1306e-05,\n",
      "          1.9281e-05],\n",
      "        [-8.9493e-06, -3.1438e-05,  3.9117e-05,  2.3703e-05,  4.8818e-05,\n",
      "          2.0946e-05],\n",
      "        [-8.9493e-06, -3.1438e-05,  3.9117e-05,  2.3703e-05,  4.8818e-05,\n",
      "          2.0946e-05]], grad_fn=<TBackward0>)\n",
      "midpoints: tensor([[ 4.1716e-03,  1.7535e-02, -2.3566e-03,  2.5760e-02,  2.6694e-02,\n",
      "          6.6051e-03],\n",
      "        [ 4.1716e-03,  1.7535e-02, -2.3566e-03,  2.5760e-02,  2.6694e-02,\n",
      "          6.6051e-03],\n",
      "        [ 9.2993e-03,  1.1077e-02,  1.0495e-02,  1.9976e-02,  2.1602e-02,\n",
      "         -1.7048e-02],\n",
      "        [ 4.1515e-03, -7.4441e-04,  4.4394e-03,  3.6096e-03,  4.3380e-05,\n",
      "         -2.3236e-02],\n",
      "        [ 8.4349e-04,  3.7135e-03,  7.6241e-04,  3.7083e-03,  3.9066e-03,\n",
      "         -4.8823e-03],\n",
      "        [-2.8459e-03,  3.3642e-03, -7.7632e-03,  1.6375e-02,  1.2611e-02,\n",
      "         -5.9061e-03],\n",
      "        [ 6.5483e-05,  5.1884e-03, -2.3689e-02,  1.1224e-02,  1.3539e-02,\n",
      "         -1.1717e-02],\n",
      "        [-4.8471e-03,  7.0368e-03, -3.3915e-02,  2.2312e-02,  7.8951e-03,\n",
      "         -5.7799e-03],\n",
      "        [-1.5114e-02,  1.4671e-02, -1.8392e-02,  3.0773e-02,  8.3294e-03,\n",
      "         -1.2418e-02],\n",
      "        [-1.5114e-02,  1.4671e-02, -1.8392e-02,  3.0773e-02,  8.3294e-03,\n",
      "         -1.2418e-02]])\n",
      "\n",
      "initial U: tensor([ 0.0000e+00, -2.0538e-07, -2.0357e-07, -5.5575e-07, -8.9075e-07,\n",
      "        -6.9888e-07, -3.6177e-07,  9.8111e-08,  4.1113e-07,  3.0343e-07])\n",
      "\n",
      "after some changes U: tensor([8.9075e-07, 6.8537e-07, 6.8718e-07, 3.3500e-07, 0.0000e+00, 1.9187e-07,\n",
      "        5.2898e-07, 9.8886e-07, 1.3019e-06, 1.1942e-06])\n"
     ]
    },
    {
     "data": {
      "image/png": "[encoded data removed]",
      "text/plain": [
       "<Figure size 1000x600 with 1 Axes>"
      ]
     },
     "metadata": {},
     "output_type": "display_data"
    }
   ],
   "source": [
    "#for choose_id in [1,2,3]:\n",
    "model_U = FCNN(input_dim=dim,output_dim=1,num_hidden=3,hidden_dim=10,act=tanh)#.cuda()\n",
    "model   = Model(dim,model_U=model_U)#.cuda();\n",
    "SOL     = Solver(model)\n",
    "\n",
    "# print(model.mu,model.sigma,model.coef_U)\n",
    "    #optimizer = torch.optim.Adam(model.parameters(), lr=torch.tensor(0.001).cuda())\n",
    "optimizer = torch.optim.Adam(model.parameters(), lr=torch.tensor(0.001))\n",
    "scheduler = None\n",
    "_loss_step = SOL.train_model(data_train=X,data_test=X,\n",
    "                             get_loss=get_loss,optimizer=optimizer,scheduler=scheduler,\n",
    "                             n_steps=int(5e4+1),batch_size=500,n_show_loss=1000,use_tqdm=True)\n",
    "\n",
    "# 5e4+1\n",
    "torch.cuda.empty_cache()\n",
    "plot_model(model)\n",
    "# torch.save(model.state_dict(), \"savee/model_\"+str(choose_id))\n",
    "#torch.save(model.state_dict(),\"savee/model_anaconda3\")"
   ]
  },
  {
   "cell_type": "code",
   "execution_count": 267,
   "id": "00b3093a",
   "metadata": {},
   "outputs": [],
   "source": [
    "# def get_U_line_integration(self, X, dU, dX):\n",
    "def TEST_get_U_line_integration():\n",
    "    dU = torch.tensor(pd.read_csv('alpha1_dW.txt', header = None).values).T\n",
    "    X = torch.tensor(pd.read_csv('alpha1_path.txt', header = None).values).T\n",
    "    nt = 10\n",
    "    \n",
    "    midpoints = [ (X[t+1,:] - X[t-1, :]) / 2 for t in range(1,9)]\n",
    "    midpoints = [midpoints[0]] + midpoints + [midpoints[-1]]\n",
    "    midpoints = torch.stack(midpoints)\n",
    "\n",
    "    U = []\n",
    "    for t in range(dU.shape[0]):\n",
    "        U.append(torch.sum(midpoints[t, :] * dU[t, :]))\n",
    "    U = torch.stack(U)\n",
    "    U = torch.cat((torch.tensor([0]), ((U[1:] + U[:nt - 1]) / 2)), dim=0)\n",
    "    U = torch.tensor(list(itertools.accumulate(U)))\n",
    "    return U\n"
   ]
  },
  {
   "cell_type": "code",
   "execution_count": 268,
   "id": "b984b4ed",
   "metadata": {},
   "outputs": [],
   "source": [
    "# def plot_side_by_side_bar_chart(array1, array2):    \n",
    "#     \"\"\"\n",
    "#     Plots a bar chart for two 10-length datasets (PyTorch tensors, NumPy arrays, or lists),\n",
    "#     where bars are placed side by side, and exact values are displayed above each bar.\n",
    "\n",
    "#     Parameters:\n",
    "#         array1 (torch.Tensor, np.array, or list): First dataset of length 10.\n",
    "#         array2 (torch.Tensor, np.array, or list): Second dataset of length 10.\n",
    "#     \"\"\"\n",
    "#     # Convert PyTorch tensors to NumPy if necessary\n",
    "#     if isinstance(array1, torch.Tensor):\n",
    "#         array1 = array1.numpy()\n",
    "#     if isinstance(array2, torch.Tensor):\n",
    "#         array2 = array2.numpy().flatten()\n",
    "\n",
    "#     print(array1)\n",
    "#     print(array2)\n",
    "#     # # Ensure inputs are NumPy arrays\n",
    "#     # array1 = np.array(array1)\n",
    "#     # array2 = np.array(array2)\n",
    "\n",
    "#     # X-axis positions\n",
    "#     x = np.arange(len(array1))\n",
    "\n",
    "#     # Bar width to ensure bars are next to each other\n",
    "#     bar_width = 0.4\n",
    "\n",
    "#     # Create the bar plot\n",
    "#     fig, ax = plt.subplots(figsize=(20, 10))\n",
    "#     bars1 = ax.bar(x - bar_width/2, array1, width=bar_width, label=\"Array 1\")\n",
    "#     bars2 = ax.bar(x + bar_width/2, array2, width=bar_width, label=\"Array 2\")\n",
    "\n",
    "#     # Add data labels above bars\n",
    "#     for bars in [bars1, bars2]:\n",
    "#         for bar in bars:\n",
    "#             height = bar.get_height()\n",
    "#             ax.text(bar.get_x() + bar.get_width()/2, height, f'{height:.6f}', \n",
    "#                     ha='center', va='bottom', fontsize=10)\n",
    "\n",
    "#     # Labels and legend\n",
    "#     ax.set_xlabel(\"Index\")\n",
    "#     ax.set_ylabel(\"Value\")\n",
    "#     ax.set_title(\"Side-by-Side Bar Chart with Data Labels\")\n",
    "#     ax.set_xticks(x)  # Ensure correct x-axis labels\n",
    "#     ax.legend()\n",
    "\n",
    "#     # Show the plot\n",
    "#     plt.show()\n",
    "\n",
    "# plot_side_by_side_bar_chart(TEST_get_U_line_integration(), torch.tensor(pd.read_csv('alpha1_W.txt', header = None).values))"
   ]
  },
  {
   "cell_type": "code",
   "execution_count": 269,
   "id": "afe7ad7d",
   "metadata": {},
   "outputs": [
    {
     "data": {
      "image/png": "[encoded data removed]",
      "text/plain": [
       "<Figure size 1000x600 with 1 Axes>"
      ]
     },
     "metadata": {},
     "output_type": "display_data"
    }
   ],
   "source": [
    "def plot_compare(cmap='terrain',max_V = 10,):\n",
    "    nt=10\n",
    "    xx     = np.linspace(0,2,nt).reshape(-1,1)\n",
    "    W_compare = torch.tensor(pd.read_csv('alpha1_W.txt', header = None).values).T\n",
    "    fig, ax    = plt.subplots(1,1,figsize=(5,3),dpi=200,constrained_layout=True)\n",
    "    c        = ax.plot(xx[:,0],W_compare,'-',lw=1.5)\n",
    "plot_compare()"
   ]
  },
  {
   "cell_type": "markdown",
   "id": "839674fe",
   "metadata": {},
   "source": [
    "# Visualizing the results for different a_k(x)"
   ]
  },
  {
   "cell_type": "code",
   "execution_count": 270,
   "id": "344c6cc7",
   "metadata": {
    "code_folding": [
     0
    ]
   },
   "outputs": [],
   "source": [
    "def plot_models(models):\n",
    "    \n",
    "    xx       = np.linspace(0,2,1000).reshape(-1,1)\n",
    "    fig, ax  = plt.subplots(1,1,figsize=(4,3),dpi=200,constrained_layout=True)\n",
    "    \n",
    "    for k,model_name in enumerate(models):\n",
    "        model.load_state_dict(torch.load(model_name))\n",
    "        U_NN     = model.get_U_np(xx)\n",
    "        U_NN_min = U_NN.min()\n",
    "        U_NN     = U_NN-U_NN_min\n",
    "        c        = ax.plot(xx[:,0],U_NN,'-',lw=1.5,label=\"$a_{%d}(x)$\"%(k+1))\n",
    "    ax.legend(fontsize=10)\n",
    "    ax.set_xlabel('$x$',fontsize=10)\n",
    "    ax.set_ylabel('$U(x)$',fontsize=10)\n",
    "    ax.set_xlim([0,2])\n",
    "    ax.set_yticks([0,0.2,0.4,0.6,0.8,1,1.2])\n",
    "    ax.set_xticks([0,.5,1.,1.5,2])\n",
    "    ax.yaxis.grid(linestyle='--')\n",
    "    ax.tick_params(axis=\"both\", labelsize=10)\n",
    "    plt.show()\n",
    "# plot_models([\"savee/model_anaconda3\"])\n",
    "#plot_models([\"savee/model_a1_update\", \"savee/model_a2_update\", \"savee/model_a3_update\", \"savee/model_a4\", \"savee/model_a5_update\"])"
   ]
  },
  {
   "cell_type": "code",
   "execution_count": 271,
   "id": "0851750f",
   "metadata": {},
   "outputs": [],
   "source": [
    "# fig, ax  = plt.subplots(1,1,figsize=(4,3),dpi=200,constrained_layout=True)\n",
    "# xx       = np.linspace(0,2,1000).reshape(-1,1)\n",
    "# U_NN     = model.get_U_np(xx)\n",
    "# U_NN_min = U_NN.min()\n",
    "# U_NN     = U_NN-U_NN_min\n",
    "# c        = ax.plot(xx[:,0],U_NN,'-',lw=1.5)\n",
    "# ax.legend(fontsize=10)\n",
    "# ax.set_xlabel('$x$',fontsize=10)\n",
    "# ax.set_ylabel('$U(x)$',fontsize=10)\n",
    "# ax.set_xlim([0,2])\n",
    "# ax.set_yticks([0,0.2,0.4,0.6,0.8,1,1.2])\n",
    "# ax.set_xticks([0,.5,1.,1.5,2])\n",
    "# ax.yaxis.grid(linestyle='--')\n",
    "# ax.tick_params(axis=\"both\", labelsize=10)\n",
    "# plt.show()\n",
    "\n",
    "#torch.save(model.state_dict(), \"savee/model_99\")\n",
    "#model.state_dict()\n",
    "\n",
    "# U_NN\n",
    "\n",
    "# model\n",
    "\n",
    "# torch.load(\"/Users/annacoletti/Desktop/savee/model_a3_update.mat\")\n",
    "\n",
    "# import scipy.io as scio\n",
    "# from scipy.io import savemat\n",
    "# scio.savemat('W2_learned_DL', U_NN)"
   ]
  }
 ],
 "metadata": {
  "hide_input": false,
  "kernelspec": {
   "display_name": "Python 3",
   "language": "python",
   "name": "python3"
  },
  "language_info": {
   "codemirror_mode": {
    "name": "ipython",
    "version": 3
   },
   "file_extension": ".py",
   "mimetype": "text/x-python",
   "name": "python",
   "nbconvert_exporter": "python",
   "pygments_lexer": "ipython3",
   "version": "3.12.1"
  },
  "varInspector": {
   "cols": {
    "lenName": 16,
    "lenType": 16,
    "lenVar": 40
   },
   "kernels_config": {
    "python": {
     "delete_cmd_postfix": "",
     "delete_cmd_prefix": "del ",
     "library": "var_list.py",
     "varRefreshCmd": "print(var_dic_list())"
    },
    "r": {
     "delete_cmd_postfix": ") ",
     "delete_cmd_prefix": "rm(",
     "library": "var_list.r",
     "varRefreshCmd": "cat(var_dic_list()) "
    }
   },
   "types_to_exclude": [
    "module",
    "function",
    "builtin_function_or_method",
    "instance",
    "_Feature"
   ],
   "window_display": false
  }
 },
 "nbformat": 4,
 "nbformat_minor": 5
}
