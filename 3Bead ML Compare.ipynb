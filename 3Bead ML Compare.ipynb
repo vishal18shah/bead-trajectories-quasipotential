{
 "cells": [
  {
   "cell_type": "code",
   "execution_count": 26,
   "id": "17d34f05",
   "metadata": {},
   "outputs": [],
   "source": [
    "#! nvidia-smi"
   ]
  },
  {
   "cell_type": "code",
   "execution_count": 27,
   "id": "66f3121e-b0e4-46b0-ab2a-09540cec3cab",
   "metadata": {},
   "outputs": [],
   "source": [
    "#conda install pytorch torchvision -c pytorch"
   ]
  },
  {
   "cell_type": "code",
   "execution_count": 28,
   "id": "b280ca44",
   "metadata": {},
   "outputs": [],
   "source": [
    "import os\n",
    "def EXIT_NOTEBOOK(): os._exit(00)\n",
    "#os.environ['CUDA_VISIBLE_DEVICES'] = '3'\n",
    "os.environ['TF_CPP_MIN_LOG_LEVEL'] = '3' "
   ]
  },
  {
   "cell_type": "code",
   "execution_count": 29,
   "id": "36ba82b5",
   "metadata": {},
   "outputs": [],
   "source": [
    "import numpy as np\n",
    "import pandas as pd\n",
    "import matplotlib.pyplot as plt\n",
    "from tqdm.notebook import tqdm\n",
    "import random\n",
    "import torch \n",
    "from torch import nn\n",
    "import torch.nn.functional as func\n",
    "import seaborn as sns\n",
    "import matplotlib.ticker\n",
    "import itertools\n",
    "\n",
    "# # ps\n",
    "# import pysindy as ps\n",
    "\n",
    "# sns.set_theme()\n",
    "# torch.set_default_dtype(torch.float32)\n",
    "plt.rcParams['text.usetex'] = True"
   ]
  },
  {
   "cell_type": "code",
   "execution_count": 30,
   "id": "a9a3b215",
   "metadata": {},
   "outputs": [],
   "source": [
    "dim = 6\n",
    "torch.set_default_dtype(torch.float64)"
   ]
  },
  {
   "cell_type": "markdown",
   "id": "6f339b9d",
   "metadata": {},
   "source": [
    "# Dataset for X"
   ]
  },
  {
   "cell_type": "code",
   "execution_count": 78,
   "id": "818019ae",
   "metadata": {},
   "outputs": [
    {
     "name": "stdout",
     "output_type": "stream",
     "text": [
      "torch.Size([10, 6])\n",
      "tensor([[ 0.0000e+00, -5.2335e-01,  0.0000e+00, -5.2335e-01,  0.0000e+00,\n",
      "          6.5938e-01],\n",
      "        [-3.9763e-07, -5.0173e-01, -5.5871e-07, -5.2272e-01,  2.5791e-26,\n",
      "          6.3636e-01],\n",
      "        [ 9.0553e-08, -4.7871e-01,  2.6907e-07, -5.2273e-01, -1.2904e-26,\n",
      "          6.1474e-01],\n",
      "        [-3.4072e-07, -4.5682e-01, -2.7507e-07, -5.2286e-01,  0.0000e+00,\n",
      "          5.9197e-01],\n",
      "        [-5.4729e-09, -4.3346e-01, -1.8751e-07, -5.2324e-01,  0.0000e+00,\n",
      "          5.7071e-01],\n",
      "        [-4.6239e-07, -4.1156e-01, -6.6102e-07, -5.2324e-01,  0.0000e+00,\n",
      "          5.4795e-01],\n",
      "        [ 9.9046e-08, -3.8805e-01,  9.3798e-08, -5.2306e-01,  0.0000e+00,\n",
      "          5.2686e-01],\n",
      "        [-5.4089e-07, -3.7199e-01, -6.8109e-07, -5.1263e-01,  0.0000e+00,\n",
      "          5.0174e-01],\n",
      "        [ 2.5347e-07, -3.5572e-01,  2.8930e-07, -4.9550e-01,  0.0000e+00,\n",
      "          4.8078e-01],\n",
      "        [-6.8843e-07, -3.3241e-01, -8.5786e-07, -4.9318e-01,  0.0000e+00,\n",
      "          4.5959e-01]], requires_grad=True)\n"
     ]
    }
   ],
   "source": [
    "from BeadModel import Simulate\n",
    "from SimulationParameters import *\n",
    "\n",
    "# X = Simulation(*Simulate(numSims)).positions[:,:,:,0].reshape(-1,nt+1).T\n",
    "X = torch.tensor(pd.read_csv('alpha1_path.txt', header = None).values).T\n",
    "X.requires_grad_()\n",
    "\n",
    "# X = pd.read_csv('alpha1_path.txt', header = None).values.T\n",
    "# for item in X:\n",
    "#     item = torch.tensor(item)\n",
    "# X = torch.tensor(X)\n",
    "# # Z = X.view\n",
    "\n",
    "print(X.shape)\n",
    "print(X)\n"
   ]
  },
  {
   "cell_type": "code",
   "execution_count": 60,
   "id": "f7843f53",
   "metadata": {},
   "outputs": [
    {
     "data": {
      "text/plain": [
       "tensor([[ 0.0000e+00, -5.2335e-01,  0.0000e+00, -5.2335e-01,  0.0000e+00,\n",
       "          6.5938e-01],\n",
       "        [-3.9763e-07, -5.0173e-01, -5.5871e-07, -5.2272e-01,  2.5791e-26,\n",
       "          6.3636e-01],\n",
       "        [ 9.0553e-08, -4.7871e-01,  2.6907e-07, -5.2273e-01, -1.2904e-26,\n",
       "          6.1474e-01],\n",
       "        [-3.4072e-07, -4.5682e-01, -2.7507e-07, -5.2286e-01,  0.0000e+00,\n",
       "          5.9197e-01],\n",
       "        [-5.4729e-09, -4.3346e-01, -1.8751e-07, -5.2324e-01,  0.0000e+00,\n",
       "          5.7071e-01],\n",
       "        [-4.6239e-07, -4.1156e-01, -6.6102e-07, -5.2324e-01,  0.0000e+00,\n",
       "          5.4795e-01],\n",
       "        [ 9.9046e-08, -3.8805e-01,  9.3798e-08, -5.2306e-01,  0.0000e+00,\n",
       "          5.2686e-01],\n",
       "        [-5.4089e-07, -3.7199e-01, -6.8109e-07, -5.1263e-01,  0.0000e+00,\n",
       "          5.0174e-01],\n",
       "        [ 2.5347e-07, -3.5572e-01,  2.8930e-07, -4.9550e-01,  0.0000e+00,\n",
       "          4.8078e-01],\n",
       "        [-6.8843e-07, -3.3241e-01, -8.5786e-07, -4.9318e-01,  0.0000e+00,\n",
       "          4.5959e-01]], requires_grad=True)"
      ]
     },
     "execution_count": 60,
     "metadata": {},
     "output_type": "execute_result"
    }
   ],
   "source": [
    "# W = torch.tensor(pd.read_csv('alpha1_W.txt', header = None).values).T\n",
    "# print(W)\n",
    "# print(W.shape)\n",
    "# print()\n",
    "# X = torch.tensor(pd.read_csv('alpha1_path.txt', header = None).values).T\n",
    "X.requires_grad_()\n",
    "# print(X)\n",
    "# print(X.shape)"
   ]
  },
  {
   "cell_type": "markdown",
   "id": "d9cbd757",
   "metadata": {},
   "source": [
    "# Set the NN model and Solver with training process"
   ]
  },
  {
   "cell_type": "code",
   "execution_count": 48,
   "id": "606412e9",
   "metadata": {
    "code_folding": [
     2,
     18,
     19,
     28,
     42,
     45
    ]
   },
   "outputs": [],
   "source": [
    "def relu2(X): return func.relu(X)**2\n",
    "def tanh(X): return func.tanh(X)\n",
    "class FCNN(nn.Module):\n",
    "    def __init__(self,input_dim=6,output_dim=6,num_hidden=2,hidden_dim=10,act=func.tanh,transform=None):\n",
    "        super().__init__()\n",
    "        self.input_dim = input_dim\n",
    "        self.output_dim = output_dim\n",
    "        self.layers  = nn.ModuleList([nn.Linear(input_dim,hidden_dim)])\n",
    "        for _ in range(num_hidden-1): self.layers.append(nn.Linear(hidden_dim,hidden_dim))\n",
    "        self.act     = act\n",
    "        self.out     = nn.Linear(hidden_dim,output_dim)\n",
    "        self.transform = transform\n",
    "    def forward(self,X):\n",
    "        if self.transform is not None: X = self.transform(X)\n",
    "        for layer in self.layers: X = self.act(layer(X))\n",
    "        Y = self.out(X)\n",
    "        return Y\n",
    "class Model(nn.Module):\n",
    "    def __init__(self,dim,model_U,unit_len=int(5e3)):\n",
    "        super().__init__()\n",
    "        self.dim      = dim\n",
    "        self.model_U  = model_U\n",
    "        self.unit_len = unit_len\n",
    "        self.mu       = nn.Parameter(torch.tensor([0.]*dim),requires_grad=False) \n",
    "        self.sigma    = nn.Parameter(torch.tensor([1.]*dim),requires_grad=False)\n",
    "        #above two lines should work, but if something doesn't work, check here! Does current self.mu and self.sigma code work if dim>1. Should return a vector since what we're trying to do is calculate mu\n",
    "        #and sigma separately for each imnputted feature. mu is parameter[0] for each row.\n",
    "        self.coef_U   = nn.Parameter(torch.tensor([1.]*dim),requires_grad=False)\n",
    "        #self.mu       = nn.Parameter(torch.tensor([0.]*dim).cuda(),requires_grad=False)\n",
    "        #self.sigma    = nn.Parameter(torch.tensor([1.]*dim).cuda(),requires_grad=False)\n",
    "        #self.coef_U   = nn.Parameter(torch.tensor(1.).cuda(),requires_grad=False)\n",
    "    def get_U_harmonic(self,X): return torch.sum(X**2,axis=-1)\n",
    "        \n",
    "    \n",
    "    def get_U_dU(self,X):\n",
    "        # normalize and ensure x is a tensor\n",
    "        if not torch.is_tensor(X): X = torch.tensor(X, requires_grad=True)\n",
    "        U = self.model_U(X).view(-1)\n",
    "        dU = torch.autograd.grad(U, X, torch.ones_like(U), create_graph=True)[0]\n",
    "        # dU = dU.T\n",
    "        return U,dU\n",
    "\n",
    "    \n",
    "    def get_U_np(self,X): \n",
    "        U,_ = self.get_U_dU(X);\n",
    "        return U.cpu().data.numpy()\n",
    "    \n",
    "    # def get_U_numerical_integration(self,X, dX):\n",
    "    #     outputU = []\n",
    "    #     _,dU = self.get_U_dU(X)\n",
    "    #     # Assume dU has more than two features. for each timestep we'll numerically integrate. current shape is 6x10\n",
    "    #     #Trapezoid rule for numerical integration by each timestep\n",
    "    #     for t in range(dU.shape[1]):\n",
    "    #         currentSum = 0\n",
    "    #         currentDU = dU[:,t]\n",
    "    #         for i in range(len(currentDU)):\n",
    "    #             if i == len(currentDU)-1 or i == 0:\n",
    "    #                 currentSum += currentDU[i] / 2\n",
    "    #             else:\n",
    "    #                 currentSum += currentDU[i]\n",
    "    #         currentSum *= dX\n",
    "    #         outputU.append(currentSum + sum(outputU))\n",
    "    #     U = torch.tensor(outputU)\n",
    "    #     return U\n",
    "    \n",
    "    def get_U_line_integration(self, X, nt):\n",
    "        _,dU = self.get_U_dU(X)\n",
    "        print(f\"dU: {dU}\")\n",
    "        midpoints = [ (X[t+1,:] - X[t-1, :]) / 2 for t in range(1,9)]\n",
    "        print(midpoints)\n",
    "        midpoints = [midpoints[0]] + midpoints + [midpoints[-1]]\n",
    "        # midpoints = torch.abs(torch.tensor(midpoints))\n",
    "        midpoints = torch.tensor(midpoints)\n",
    "        print(f\"midpoints: {midpoints}\")\n",
    "\n",
    "        U = []\n",
    "        for t in range(dU.shape[0] - 1):\n",
    "            U.append(torch.sum(midpoints[t, :] * dU[t, :]))\n",
    "        U = torch.stack(U)\n",
    "        U = torch.cat((torch.tensor([0]), ((U[1:] + U[:nt - 1]) / 2)), dim=0)\n",
    "        U = torch.tensor(list(itertools.accumulate(U)))\n",
    "        return U\n",
    "    \n",
    "\n",
    "    \n",
    "class Solver():\n",
    "    def __init__(self,model):\n",
    "        self.model=model\n",
    "    def train_model(self,data_train,data_test,get_loss,optimizer,\n",
    "                    n_steps,batch_size,scheduler=None,n_show_loss=100,error_model=None,use_tqdm=True):\n",
    "        if use_tqdm: step_range = tqdm(range(n_steps))\n",
    "        else: step_range = range(n_steps)\n",
    "        loss_step = []\n",
    "        for i_step in step_range:\n",
    "            if i_step%n_show_loss==0:\n",
    "                loss_train,loss_test = get_loss(self.model,data_train)[:-1],\\\n",
    "                                       get_loss(self.model,data_test)[:-1]\n",
    "                \n",
    "                def show_num(x): \n",
    "                    if abs(x)<100 and abs(x)>.01: return '%0.5f'%x\n",
    "                    else: return '%0.2e'%x\n",
    "                item1 = '%2dk'%np.int_(i_step/1000)\n",
    "                item2 = 'Loss: '+' '.join([show_num(k) for k in loss_train])\n",
    "                item3 = ' '.join([show_num(k) for k in loss_test])\n",
    "                item4 = ''\n",
    "                if error_model is not None: item4 = 'E(QP): %0.4f' % (error_model(self.model))\n",
    "                print(', '.join([item1,item2,item3,item4]))\n",
    "                loss_step = loss_step + [i_step] + [k.cpu().data.numpy() for k in loss_train]\\\n",
    "                                                 + [k.cpu().data.numpy() for k in loss_train]\n",
    "            data_batch = data_train[random.sample(range(len(data_train)),\n",
    "                                                  min(batch_size,len(data_train)))]\n",
    "#             print(i_step,data_batch.shape)\n",
    "            loss = get_loss(self.model,data_batch)[-1]\n",
    "            optimizer.zero_grad()\n",
    "            loss.backward()\n",
    "            optimizer.step()\n",
    "            if scheduler is not None: scheduler.step()\n",
    "        if error_model is not None: \n",
    "            print(\"Error: %0.5f\" % (error_model(self.model)))\n",
    "        return loss_step"
   ]
  },
  {
   "cell_type": "code",
   "execution_count": 34,
   "id": "5786a635",
   "metadata": {
    "code_folding": []
   },
   "outputs": [],
   "source": [
    "model_U = FCNN(input_dim=dim,output_dim=1,num_hidden=3,hidden_dim=10,act=tanh)#.cuda()\n",
    "model   = Model(dim,model_U=model_U)#.cuda();\n",
    "SOL     = Solver(model)"
   ]
  },
  {
   "cell_type": "code",
   "execution_count": 35,
   "id": "fd4f4a11",
   "metadata": {},
   "outputs": [],
   "source": [
    "# print(model.get_U_dU(X))"
   ]
  },
  {
   "cell_type": "code",
   "execution_count": 36,
   "id": "94e8e5d0",
   "metadata": {},
   "outputs": [],
   "source": [
    "# print(model.mu.shape)\n",
    "# print(model.mu)"
   ]
  },
  {
   "cell_type": "code",
   "execution_count": 37,
   "id": "5df5a90f",
   "metadata": {},
   "outputs": [],
   "source": [
    "# def plot_model(model,cmap='terrain',max_V = 10):\n",
    "    \n",
    "#     xx     = np.linspace(0,2,1000).reshape(-1,1)\n",
    "#     U_NN   = model.get_U_np(xx)\n",
    "#     U_NN_min = U_NN.min()\n",
    "#     U_NN  = U_NN-U_NN_min\n",
    "\n",
    "#     fig, ax    = plt.subplots(1,1,figsize=(5,3),dpi=200,constrained_layout=True)\n",
    "#     c      = ax.plot(xx[:,0],U_NN,'-',lw=1.5,)\n",
    "\n",
    "#     ax.tick_params(axis=\"both\", labelsize=10)\n",
    "#     plt.show()"
   ]
  },
  {
   "cell_type": "markdown",
   "id": "6d82dfe6",
   "metadata": {},
   "source": [
    "# Set the loss function and Train the model for differen a_k(x)"
   ]
  },
  {
   "cell_type": "code",
   "execution_count": 80,
   "id": "69c4eeaf",
   "metadata": {
    "code_folding": [
     0,
     12,
     16
    ]
   },
   "outputs": [],
   "source": [
    "from Loss import getResidue, getAllResidues\n",
    "\n",
    "# def plot_model(model,cmap='terrain',max_V = 10):\n",
    "    \n",
    "#     # xx     = np.linspace(0,2,1000).reshape(-1,1)\n",
    "#     # U_NN   = model.get_U_np(xx)\n",
    "#     U_NN   = model.get_U_np(X)\n",
    "#     U_NN_min = U_NN.min()\n",
    "#     U_NN  = U_NN-U_NN_min\n",
    "#     fig, ax    = plt.subplots(1,1,figsize=(5,3),dpi=200,constrained_layout=True)\n",
    "#     c      = ax.plot(X[:,0],U_NN,'-',lw=1.5,)\n",
    "\n",
    "    # ax.tick_params(axis=\"both\", labelsize=10)\n",
    "    # plt.show()\n",
    "\n",
    "def GGGGet_U_line_integration(self, X, nt):\n",
    "    _,dU = self.get_U_dU(X)\n",
    "    print(f\"dU: {dU}\")\n",
    "    midpoints = [ (X[t+1,:] - X[t-1, :]) / 2 for t in range(1,9)]\n",
    "    print(midpoints)\n",
    "    midpoints = [midpoints[0]] + midpoints + [midpoints[-1]]\n",
    "    # midpoints = torch.abs(torch.tensor(midpoints))\n",
    "    midpoints = torch.tensor(midpoints)\n",
    "    print(f\"midpoints: {midpoints}\")\n",
    "\n",
    "    U = []\n",
    "    for t in range(dU.shape[0] - 1):\n",
    "        U.append(torch.sum(midpoints[t, :] * dU[t, :]))\n",
    "    U = torch.stack(U)\n",
    "    U = torch.cat((torch.tensor([0]), ((U[1:] + U[:nt - 1]) / 2)), dim=0)\n",
    "    U = torch.tensor(list(itertools.accumulate(U)))\n",
    "    return U\n",
    "\n",
    "def plot_model(model,cmap='terrain',max_V = 10,):\n",
    "    xx     = np.linspace(0,2,nt).reshape(-1,1)\n",
    "    U_NN = model.GGGGet_U_line_integration(X, nt)\n",
    "    print()\n",
    "    print(f\"initial U: {U_NN}\")\n",
    "    U_NN = U_NN[:nt]\n",
    "    U_NN_min = U_NN.min()\n",
    "    U_NN  = U_NN-U_NN_min\n",
    "    print()\n",
    "    print(f\"after some changes U: {U_NN}\")\n",
    "    U_NN_np = U_NN.detach().numpy()\n",
    "    fig, ax    = plt.subplots(1,1,figsize=(5,3),dpi=200,constrained_layout=True)\n",
    "    c        = ax.plot(xx[:,0],U_NN_np,'-',lw=1.5)\n",
    "\n",
    "def get_loss(model,data):\n",
    "    X = data\n",
    "    X = torch.tensor(X).clone().detach().requires_grad_(True)\n",
    "    _,dU = model.get_U_dU(X)\n",
    "    # Note we are feeding in a gradient below:\n",
    "    # gradients = torch.tensor(pd.read_csv('alpha1_dW.txt', header = None).values)\n",
    "\n",
    "    loss = getAllResidues(X, dU)\n",
    "    return loss#,loss\n",
    "\n",
    "\n",
    "# plot_model(model)\n",
    "# is get loss working? ignore the print outs that come from it\n",
    "# get_loss(model,X)"
   ]
  },
  {
   "cell_type": "code",
   "execution_count": 39,
   "id": "65d4b29e",
   "metadata": {
    "code_folding": []
   },
   "outputs": [
    {
     "data": {
      "application/vnd.jupyter.widget-view+json": {
       "model_id": "8dfbb8d2744a49178c9a8554b939c92c",
       "version_major": 2,
       "version_minor": 0
      },
      "text/plain": [
       "  0%|          | 0/50001 [00:00<?, ?it/s]"
      ]
     },
     "metadata": {},
     "output_type": "display_data"
    },
    {
     "name": "stdout",
     "output_type": "stream",
     "text": [
      " 0k, Loss: 5.60e-13 1.17e-12 4.86e-11 9.94e-11 3.97e-10 9.94e-09 2.02e-07 2.60e-06 1.96e-05, 5.60e-13 1.17e-12 4.86e-11 9.94e-11 3.97e-10 9.94e-09 2.02e-07 2.60e-06 1.96e-05, \n"
     ]
    },
    {
     "name": "stderr",
     "output_type": "stream",
     "text": [
      "/var/folders/jf/w5m4c3sj361fdh8b5wz1cy1m0000gn/T/ipykernel_82589/3542238833.py:32: UserWarning: To copy construct from a tensor, it is recommended to use sourceTensor.clone().detach() or sourceTensor.clone().detach().requires_grad_(True), rather than torch.tensor(sourceTensor).\n",
      "  X = torch.tensor(X).clone().detach().requires_grad_(True)\n"
     ]
    },
    {
     "name": "stdout",
     "output_type": "stream",
     "text": [
      " 1k, Loss: 3.49e-07 1.64e-07 6.62e-08 5.52e-09 3.72e-10 5.85e-09 1.07e-08 2.37e-08 8.49e-07, 3.49e-07 1.64e-07 6.62e-08 5.52e-09 3.72e-10 5.85e-09 1.07e-08 2.37e-08 8.49e-07, \n",
      " 2k, Loss: 1.01e-07 3.28e-08 1.37e-09 1.84e-08 5.34e-08 5.26e-08 6.52e-09 4.61e-08 8.29e-09, 1.01e-07 3.28e-08 1.37e-09 1.84e-08 5.34e-08 5.26e-08 6.52e-09 4.61e-08 8.29e-09, \n",
      " 3k, Loss: 1.71e-07 8.04e-08 2.08e-08 1.23e-09 1.40e-08 6.06e-09 1.49e-07 4.85e-07 5.14e-07, 1.71e-07 8.04e-08 2.08e-08 1.23e-09 1.40e-08 6.06e-09 1.49e-07 4.85e-07 5.14e-07, \n",
      " 4k, Loss: 1.01e-07 3.16e-08 1.12e-09 1.88e-08 5.41e-08 5.60e-08 2.56e-09 2.10e-08 4.61e-08, 1.01e-07 3.16e-08 1.12e-09 1.88e-08 5.41e-08 5.60e-08 2.56e-09 2.10e-08 4.61e-08, \n",
      " 5k, Loss: 6.46e-08 2.02e-08 1.49e-10 2.12e-08 5.44e-08 4.74e-08 1.12e-08 8.61e-08 2.03e-09, 6.46e-08 2.02e-08 1.49e-10 2.12e-08 5.44e-08 4.74e-08 1.12e-08 8.61e-08 2.03e-09, \n",
      " 6k, Loss: 1.30e-07 3.90e-08 2.30e-09 1.51e-08 4.96e-08 7.03e-08 9.62e-09 4.80e-08 7.66e-07, 1.30e-07 3.90e-08 2.30e-09 1.51e-08 4.96e-08 7.03e-08 9.62e-09 4.80e-08 7.66e-07, \n",
      " 7k, Loss: 7.65e-08 2.43e-08 4.55e-10 1.98e-08 5.32e-08 4.81e-08 1.05e-08 7.65e-08 7.17e-10, 7.65e-08 2.43e-08 4.55e-10 1.98e-08 5.32e-08 4.81e-08 1.05e-08 7.65e-08 7.17e-10, \n",
      " 8k, Loss: 1.63e-07 6.50e-08 1.14e-08 5.56e-09 2.80e-08 2.63e-08 3.59e-08 1.08e-07 8.63e-09, 1.63e-07 6.50e-08 1.14e-08 5.56e-09 2.80e-08 2.63e-08 3.59e-08 1.08e-07 8.63e-09, \n",
      " 9k, Loss: 8.88e-08 2.82e-08 8.50e-10 1.87e-08 5.25e-08 5.06e-08 6.92e-09 4.98e-08 3.94e-09, 8.88e-08 2.82e-08 8.50e-10 1.87e-08 5.25e-08 5.06e-08 6.92e-09 4.98e-08 3.94e-09, \n",
      "10k, Loss: 8.68e-08 3.01e-08 1.43e-09 1.65e-08 4.77e-08 4.05e-08 2.38e-08 1.40e-07 4.70e-08, 8.68e-08 3.01e-08 1.43e-09 1.65e-08 4.77e-08 4.05e-08 2.38e-08 1.40e-07 4.70e-08, \n",
      "11k, Loss: 5.18e-08 1.38e-08 1.16e-10 2.75e-08 6.63e-08 6.56e-08 2.99e-10 2.35e-08 3.28e-08, 5.18e-08 1.38e-08 1.16e-10 2.75e-08 6.63e-08 6.56e-08 2.99e-10 2.35e-08 3.28e-08, \n",
      "12k, Loss: 1.29e-07 4.49e-08 4.12e-09 1.27e-08 4.36e-08 4.51e-08 9.99e-09 4.50e-08 5.72e-09, 1.29e-07 4.49e-08 4.12e-09 1.27e-08 4.36e-08 4.51e-08 9.99e-09 4.50e-08 5.72e-09, \n",
      "13k, Loss: 5.88e-08 1.69e-08 4.83e-13 2.42e-08 5.96e-08 5.38e-08 6.96e-09 7.71e-08 3.64e-09, 5.88e-08 1.69e-08 4.83e-13 2.42e-08 5.96e-08 5.38e-08 6.96e-09 7.71e-08 3.64e-09, \n",
      "14k, Loss: 5.95e-08 1.65e-08 1.04e-12 2.42e-08 5.94e-08 5.50e-08 4.44e-09 5.58e-08 3.55e-10, 5.95e-08 1.65e-08 1.04e-12 2.42e-08 5.94e-08 5.50e-08 4.44e-09 5.58e-08 3.55e-10, \n",
      "15k, Loss: 7.08e-08 2.22e-08 2.94e-10 2.03e-08 5.33e-08 4.59e-08 1.58e-08 1.22e-07 3.87e-08, 7.08e-08 2.22e-08 2.94e-10 2.03e-08 5.33e-08 4.59e-08 1.58e-08 1.22e-07 3.87e-08, \n",
      "16k, Loss: 1.68e-07 6.07e-08 1.23e-08 2.26e-09 1.91e-08 4.05e-08 1.01e-08 1.44e-07 1.47e-06, 1.68e-07 6.07e-08 1.23e-08 2.26e-09 1.91e-08 4.05e-08 1.01e-08 1.44e-07 1.47e-06, \n",
      "17k, Loss: 1.07e-07 3.35e-08 1.50e-09 1.73e-08 5.13e-08 5.48e-08 2.69e-09 2.19e-08 2.68e-08, 1.07e-07 3.35e-08 1.50e-09 1.73e-08 5.13e-08 5.48e-08 2.69e-09 2.19e-08 2.68e-08, \n",
      "18k, Loss: 1.40e-10 3.70e-09 1.49e-08 4.15e-08 1.07e-07 2.61e-07 6.99e-07 1.72e-06 5.28e-06, 1.40e-10 3.70e-09 1.49e-08 4.15e-08 1.07e-07 2.61e-07 6.99e-07 1.72e-06 5.28e-06, \n",
      "19k, Loss: 5.15e-11 7.23e-11 4.73e-10 2.01e-09 3.97e-09 7.57e-09 8.60e-09 1.34e-08 8.23e-09, 5.15e-11 7.23e-11 4.73e-10 2.01e-09 3.97e-09 7.57e-09 8.60e-09 1.34e-08 8.23e-09, \n",
      "20k, Loss: 1.37e-11 2.56e-11 1.58e-11 7.08e-12 1.33e-10 6.66e-10 1.61e-09 3.53e-09 3.74e-09, 1.37e-11 2.56e-11 1.58e-11 7.08e-12 1.33e-10 6.66e-10 1.61e-09 3.53e-09 3.74e-09, \n",
      "21k, Loss: 1.95e-10 1.83e-10 4.29e-10 3.37e-10 5.88e-10 3.98e-10 7.11e-10 3.12e-10 2.14e-09, 1.95e-10 1.83e-10 4.29e-10 3.37e-10 5.88e-10 3.98e-10 7.11e-10 3.12e-10 2.14e-09, \n",
      "22k, Loss: 6.01e-13 1.28e-11 5.02e-11 1.98e-10 3.41e-10 5.66e-10 3.49e-10 7.67e-10 2.41e-10, 6.01e-13 1.28e-11 5.02e-11 1.98e-10 3.41e-10 5.66e-10 3.49e-10 7.67e-10 2.41e-10, \n",
      "23k, Loss: 6.50e-11 1.14e-11 1.75e-11 1.73e-13 8.48e-12 1.57e-12 7.63e-11 1.90e-10 6.55e-10, 6.50e-11 1.14e-11 1.75e-11 1.73e-13 8.48e-12 1.57e-12 7.63e-11 1.90e-10 6.55e-10, \n",
      "24k, Loss: 1.09e-10 1.39e-11 1.61e-11 1.58e-13 1.09e-11 1.04e-11 2.43e-10 4.68e-11 2.72e-10, 1.09e-10 1.39e-11 1.61e-11 1.58e-13 1.09e-11 1.04e-11 2.43e-10 4.68e-11 2.72e-10, \n",
      "25k, Loss: 1.36e-11 1.01e-12 1.05e-12 1.22e-13 2.79e-12 9.49e-12 1.09e-10 3.72e-12 7.33e-13, 1.36e-11 1.01e-12 1.05e-12 1.22e-13 2.79e-12 9.49e-12 1.09e-10 3.72e-12 7.33e-13, \n",
      "26k, Loss: 4.35e-11 1.45e-11 5.94e-12 1.36e-14 7.00e-13 8.14e-12 1.50e-11 1.05e-10 2.13e-10, 4.35e-11 1.45e-11 5.94e-12 1.36e-14 7.00e-13 8.14e-12 1.50e-11 1.05e-10 2.13e-10, \n",
      "27k, Loss: 2.92e-11 5.93e-12 1.63e-12 1.00e-12 1.53e-12 4.85e-12 4.39e-15 2.42e-11 3.52e-11, 2.92e-11 5.93e-12 1.63e-12 1.00e-12 1.53e-12 4.85e-12 4.39e-15 2.42e-11 3.52e-11, \n",
      "28k, Loss: 1.36e-11 1.64e-11 2.73e-11 3.79e-11 6.19e-11 8.58e-11 1.26e-10 6.79e-11 1.98e-11, 1.36e-11 1.64e-11 2.73e-11 3.79e-11 6.19e-11 8.58e-11 1.26e-10 6.79e-11 1.98e-11, \n",
      "29k, Loss: 7.71e-13 4.41e-12 7.57e-12 2.19e-11 1.65e-11 2.05e-11 2.31e-12 5.79e-11 1.02e-10, 7.71e-13 4.41e-12 7.57e-12 2.19e-11 1.65e-11 2.05e-11 2.31e-12 5.79e-11 1.02e-10, \n",
      "30k, Loss: 1.35e-13 3.38e-14 9.93e-14 2.09e-13 3.09e-14 1.51e-14 7.64e-13 1.14e-14 1.06e-13, 1.35e-13 3.38e-14 9.93e-14 2.09e-13 3.09e-14 1.51e-14 7.64e-13 1.14e-14 1.06e-13, \n",
      "31k, Loss: 1.45e-13 1.36e-14 1.74e-13 3.88e-13 4.11e-13 2.78e-13 5.21e-14 1.31e-13 3.37e-14, 1.45e-13 1.36e-14 1.74e-13 3.88e-13 4.11e-13 2.78e-13 5.21e-14 1.31e-13 3.37e-14, \n",
      "32k, Loss: 1.70e-13 9.58e-14 4.96e-14 5.15e-15 2.58e-15 4.49e-14 6.29e-14 3.63e-13 6.31e-14, 1.70e-13 9.58e-14 4.96e-14 5.15e-15 2.58e-15 4.49e-14 6.29e-14 3.63e-13 6.31e-14, \n",
      "33k, Loss: 1.13e-13 5.95e-14 1.30e-14 3.57e-17 2.02e-14 6.82e-14 1.71e-13 2.73e-13 2.77e-14, 1.13e-13 5.95e-14 1.30e-14 3.57e-17 2.02e-14 6.82e-14 1.71e-13 2.73e-13 2.77e-14, \n",
      "34k, Loss: 1.41e-13 8.86e-14 7.58e-14 2.57e-14 1.24e-14 2.93e-15 9.50e-15 2.35e-13 1.68e-13, 1.41e-13 8.86e-14 7.58e-14 2.57e-14 1.24e-14 2.93e-15 9.50e-15 2.35e-13 1.68e-13, \n",
      "35k, Loss: 9.09e-14 9.52e-14 8.25e-14 6.29e-14 3.48e-14 6.23e-15 2.53e-15 1.85e-14 1.66e-15, 9.09e-14 9.52e-14 8.25e-14 6.29e-14 3.48e-14 6.23e-15 2.53e-15 1.85e-14 1.66e-15, \n",
      "36k, Loss: 6.72e-14 5.42e-14 3.97e-14 2.49e-14 1.25e-14 1.08e-15 2.01e-15 1.58e-14 7.00e-16, 6.72e-14 5.42e-14 3.97e-14 2.49e-14 1.25e-14 1.08e-15 2.01e-15 1.58e-14 7.00e-16, \n",
      "37k, Loss: 4.89e-14 3.27e-14 2.50e-14 1.63e-14 1.39e-14 5.65e-15 2.83e-15 3.82e-15 2.87e-16, 4.89e-14 3.27e-14 2.50e-14 1.63e-14 1.39e-14 5.65e-15 2.83e-15 3.82e-15 2.87e-16, \n",
      "38k, Loss: 3.49e-14 1.94e-14 1.38e-14 8.65e-15 9.69e-15 6.48e-15 9.48e-15 2.54e-19 6.13e-15, 3.49e-14 1.94e-14 1.38e-14 8.65e-15 9.69e-15 6.48e-15 9.48e-15 2.54e-19 6.13e-15, \n",
      "39k, Loss: 2.65e-14 7.98e-15 1.40e-15 7.25e-17 8.23e-16 3.66e-15 4.14e-15 1.37e-14 1.39e-18, 2.65e-14 7.98e-15 1.40e-15 7.25e-17 8.23e-16 3.66e-15 4.14e-15 1.37e-14 1.39e-18, \n",
      "40k, Loss: 1.96e-14 4.83e-15 6.92e-16 1.68e-16 4.01e-16 1.54e-15 4.89e-16 6.70e-15 3.02e-16, 1.96e-14 4.83e-15 6.92e-16 1.68e-16 4.01e-16 1.54e-15 4.89e-16 6.70e-15 3.02e-16, \n",
      "41k, Loss: 1.37e-14 1.06e-14 1.20e-14 1.64e-14 2.91e-14 4.29e-14 6.91e-14 4.99e-14 7.52e-14, 1.37e-14 1.06e-14 1.20e-14 1.64e-14 2.91e-14 4.29e-14 6.91e-14 4.99e-14 7.52e-14, \n",
      "42k, Loss: 1.04e-14 3.98e-15 9.72e-16 5.63e-18 2.18e-16 1.53e-15 1.47e-15 2.53e-15 1.03e-14, 1.04e-14 3.98e-15 9.72e-16 5.63e-18 2.18e-16 1.53e-15 1.47e-15 2.53e-15 1.03e-14, \n",
      "43k, Loss: 9.48e-15 5.47e-15 6.38e-15 5.99e-15 1.15e-14 1.29e-14 2.46e-14 4.11e-15 1.09e-14, 9.48e-15 5.47e-15 6.38e-15 5.99e-15 1.15e-14 1.29e-14 2.46e-14 4.11e-15 1.09e-14, \n",
      "44k, Loss: 8.21e-15 4.77e-15 3.76e-15 2.43e-15 2.56e-15 1.34e-15 1.39e-15 3.32e-17 6.37e-15, 8.21e-15 4.77e-15 3.76e-15 2.43e-15 2.56e-15 1.34e-15 1.39e-15 3.32e-17 6.37e-15, \n",
      "45k, Loss: 6.99e-15 4.89e-15 8.34e-15 1.01e-14 2.11e-14 2.80e-14 5.33e-14 1.88e-14 2.49e-14, 6.99e-15 4.89e-15 8.34e-15 1.01e-14 2.11e-14 2.80e-14 5.33e-14 1.88e-14 2.49e-14, \n",
      "46k, Loss: 6.79e-15 4.16e-16 1.50e-16 2.32e-15 2.93e-15 5.03e-15 3.10e-15 1.01e-14 2.71e-16, 6.79e-15 4.16e-16 1.50e-16 2.32e-15 2.93e-15 5.03e-15 3.10e-15 1.01e-14 2.71e-16, \n",
      "47k, Loss: 5.28e-15 2.79e-16 3.22e-16 3.27e-15 5.38e-15 9.53e-15 7.72e-15 1.20e-14 1.94e-16, 5.28e-15 2.79e-16 3.22e-16 3.27e-15 5.38e-15 9.53e-15 7.72e-15 1.20e-14 1.94e-16, \n",
      "48k, Loss: 6.42e-15 4.77e-15 7.39e-15 8.41e-15 1.64e-14 2.19e-14 4.51e-14 2.10e-14 4.04e-14, 6.42e-15 4.77e-15 7.39e-15 8.41e-15 1.64e-14 2.19e-14 4.51e-14 2.10e-14 4.04e-14, \n",
      "49k, Loss: 5.96e-15 1.57e-15 1.57e-15 5.88e-16 2.31e-15 2.40e-15 9.33e-15 9.98e-18 1.47e-15, 5.96e-15 1.57e-15 1.57e-15 5.88e-16 2.31e-15 2.40e-15 9.33e-15 9.98e-18 1.47e-15, \n",
      "50k, Loss: 6.77e-15 1.05e-16 6.69e-16 4.54e-15 5.03e-15 6.46e-15 1.63e-15 5.94e-15 3.86e-16, 6.77e-15 1.05e-16 6.69e-16 4.54e-15 5.03e-15 6.46e-15 1.63e-15 5.94e-15 3.86e-16, \n"
     ]
    },
    {
     "ename": "RuntimeError",
     "evalue": "One of the differentiated Tensors does not require grad",
     "output_type": "error",
     "traceback": [
      "\u001b[0;31m---------------------------------------------------------------------------\u001b[0m",
      "\u001b[0;31mRuntimeError\u001b[0m                              Traceback (most recent call last)",
      "Cell \u001b[0;32mIn[39], line 16\u001b[0m\n\u001b[1;32m     14\u001b[0m \u001b[38;5;66;03m# 5e4+1\u001b[39;00m\n\u001b[1;32m     15\u001b[0m torch\u001b[38;5;241m.\u001b[39mcuda\u001b[38;5;241m.\u001b[39mempty_cache()\n\u001b[0;32m---> 16\u001b[0m \u001b[43mplot_model\u001b[49m\u001b[43m(\u001b[49m\u001b[43mmodel\u001b[49m\u001b[43m)\u001b[49m\n\u001b[1;32m     17\u001b[0m \u001b[38;5;66;03m# torch.save(model.state_dict(), \"savee/model_\"+str(choose_id))\u001b[39;00m\n\u001b[1;32m     18\u001b[0m \u001b[38;5;66;03m#torch.save(model.state_dict(),\"savee/model_anaconda3\")\u001b[39;00m\n",
      "Cell \u001b[0;32mIn[38], line 18\u001b[0m, in \u001b[0;36mplot_model\u001b[0;34m(model, cmap, max_V)\u001b[0m\n\u001b[1;32m     16\u001b[0m \u001b[38;5;28;01mdef\u001b[39;00m \u001b[38;5;21mplot_model\u001b[39m(model,cmap\u001b[38;5;241m=\u001b[39m\u001b[38;5;124m'\u001b[39m\u001b[38;5;124mterrain\u001b[39m\u001b[38;5;124m'\u001b[39m,max_V \u001b[38;5;241m=\u001b[39m \u001b[38;5;241m10\u001b[39m,):\n\u001b[1;32m     17\u001b[0m     xx     \u001b[38;5;241m=\u001b[39m np\u001b[38;5;241m.\u001b[39mlinspace(\u001b[38;5;241m0\u001b[39m,\u001b[38;5;241m2\u001b[39m,nt)\u001b[38;5;241m.\u001b[39mreshape(\u001b[38;5;241m-\u001b[39m\u001b[38;5;241m1\u001b[39m,\u001b[38;5;241m1\u001b[39m)\n\u001b[0;32m---> 18\u001b[0m     U_NN \u001b[38;5;241m=\u001b[39m \u001b[43mmodel\u001b[49m\u001b[38;5;241;43m.\u001b[39;49m\u001b[43mget_U_line_integration\u001b[49m\u001b[43m(\u001b[49m\u001b[43mX\u001b[49m\u001b[43m,\u001b[49m\u001b[43m \u001b[49m\u001b[43mnt\u001b[49m\u001b[43m)\u001b[49m\n\u001b[1;32m     19\u001b[0m     \u001b[38;5;28mprint\u001b[39m()\n\u001b[1;32m     20\u001b[0m     \u001b[38;5;28mprint\u001b[39m(\u001b[38;5;124mf\u001b[39m\u001b[38;5;124m\"\u001b[39m\u001b[38;5;124minitial U: \u001b[39m\u001b[38;5;132;01m{\u001b[39;00mU_NN\u001b[38;5;132;01m}\u001b[39;00m\u001b[38;5;124m\"\u001b[39m)\n",
      "Cell \u001b[0;32mIn[33], line 67\u001b[0m, in \u001b[0;36mModel.get_U_line_integration\u001b[0;34m(self, X, nt)\u001b[0m\n\u001b[1;32m     66\u001b[0m \u001b[38;5;28;01mdef\u001b[39;00m \u001b[38;5;21mget_U_line_integration\u001b[39m(\u001b[38;5;28mself\u001b[39m, X, nt):\n\u001b[0;32m---> 67\u001b[0m     _,dU \u001b[38;5;241m=\u001b[39m \u001b[38;5;28;43mself\u001b[39;49m\u001b[38;5;241;43m.\u001b[39;49m\u001b[43mget_U_dU\u001b[49m\u001b[43m(\u001b[49m\u001b[43mX\u001b[49m\u001b[43m)\u001b[49m\n\u001b[1;32m     68\u001b[0m     \u001b[38;5;28mprint\u001b[39m(\u001b[38;5;124mf\u001b[39m\u001b[38;5;124m\"\u001b[39m\u001b[38;5;124mdU: \u001b[39m\u001b[38;5;132;01m{\u001b[39;00mdU\u001b[38;5;132;01m}\u001b[39;00m\u001b[38;5;124m\"\u001b[39m)\n\u001b[1;32m     69\u001b[0m     midpoints \u001b[38;5;241m=\u001b[39m [ (X[t\u001b[38;5;241m+\u001b[39m\u001b[38;5;241m1\u001b[39m,:] \u001b[38;5;241m-\u001b[39m X[t\u001b[38;5;241m-\u001b[39m\u001b[38;5;241m1\u001b[39m, :]) \u001b[38;5;241m/\u001b[39m \u001b[38;5;241m2\u001b[39m \u001b[38;5;28;01mfor\u001b[39;00m t \u001b[38;5;129;01min\u001b[39;00m \u001b[38;5;28mrange\u001b[39m(\u001b[38;5;241m1\u001b[39m,\u001b[38;5;241m9\u001b[39m)]\n",
      "Cell \u001b[0;32mIn[33], line 39\u001b[0m, in \u001b[0;36mModel.get_U_dU\u001b[0;34m(self, X)\u001b[0m\n\u001b[1;32m     37\u001b[0m \u001b[38;5;28;01mif\u001b[39;00m \u001b[38;5;129;01mnot\u001b[39;00m torch\u001b[38;5;241m.\u001b[39mis_tensor(X): X \u001b[38;5;241m=\u001b[39m torch\u001b[38;5;241m.\u001b[39mtensor(X, requires_grad\u001b[38;5;241m=\u001b[39m\u001b[38;5;28;01mTrue\u001b[39;00m)\n\u001b[1;32m     38\u001b[0m U \u001b[38;5;241m=\u001b[39m \u001b[38;5;28mself\u001b[39m\u001b[38;5;241m.\u001b[39mmodel_U(X)\u001b[38;5;241m.\u001b[39mview(\u001b[38;5;241m-\u001b[39m\u001b[38;5;241m1\u001b[39m)\n\u001b[0;32m---> 39\u001b[0m dU \u001b[38;5;241m=\u001b[39m \u001b[43mtorch\u001b[49m\u001b[38;5;241;43m.\u001b[39;49m\u001b[43mautograd\u001b[49m\u001b[38;5;241;43m.\u001b[39;49m\u001b[43mgrad\u001b[49m\u001b[43m(\u001b[49m\u001b[43mU\u001b[49m\u001b[43m,\u001b[49m\u001b[43m \u001b[49m\u001b[43mX\u001b[49m\u001b[43m,\u001b[49m\u001b[43m \u001b[49m\u001b[43mtorch\u001b[49m\u001b[38;5;241;43m.\u001b[39;49m\u001b[43mones_like\u001b[49m\u001b[43m(\u001b[49m\u001b[43mU\u001b[49m\u001b[43m)\u001b[49m\u001b[43m,\u001b[49m\u001b[43m \u001b[49m\u001b[43mcreate_graph\u001b[49m\u001b[38;5;241;43m=\u001b[39;49m\u001b[38;5;28;43;01mTrue\u001b[39;49;00m\u001b[43m)\u001b[49m[\u001b[38;5;241m0\u001b[39m]\n\u001b[1;32m     40\u001b[0m \u001b[38;5;66;03m# dU = dU.T\u001b[39;00m\n\u001b[1;32m     41\u001b[0m \u001b[38;5;28;01mreturn\u001b[39;00m U,dU\n",
      "File \u001b[0;32m/Library/Frameworks/Python.framework/Versions/3.12/lib/python3.12/site-packages/torch/autograd/__init__.py:496\u001b[0m, in \u001b[0;36mgrad\u001b[0;34m(outputs, inputs, grad_outputs, retain_graph, create_graph, only_inputs, allow_unused, is_grads_batched, materialize_grads)\u001b[0m\n\u001b[1;32m    492\u001b[0m     result \u001b[38;5;241m=\u001b[39m _vmap_internals\u001b[38;5;241m.\u001b[39m_vmap(vjp, \u001b[38;5;241m0\u001b[39m, \u001b[38;5;241m0\u001b[39m, allow_none_pass_through\u001b[38;5;241m=\u001b[39m\u001b[38;5;28;01mTrue\u001b[39;00m)(\n\u001b[1;32m    493\u001b[0m         grad_outputs_\n\u001b[1;32m    494\u001b[0m     )\n\u001b[1;32m    495\u001b[0m \u001b[38;5;28;01melse\u001b[39;00m:\n\u001b[0;32m--> 496\u001b[0m     result \u001b[38;5;241m=\u001b[39m \u001b[43m_engine_run_backward\u001b[49m\u001b[43m(\u001b[49m\n\u001b[1;32m    497\u001b[0m \u001b[43m        \u001b[49m\u001b[43moutputs\u001b[49m\u001b[43m,\u001b[49m\n\u001b[1;32m    498\u001b[0m \u001b[43m        \u001b[49m\u001b[43mgrad_outputs_\u001b[49m\u001b[43m,\u001b[49m\n\u001b[1;32m    499\u001b[0m \u001b[43m        \u001b[49m\u001b[43mretain_graph\u001b[49m\u001b[43m,\u001b[49m\n\u001b[1;32m    500\u001b[0m \u001b[43m        \u001b[49m\u001b[43mcreate_graph\u001b[49m\u001b[43m,\u001b[49m\n\u001b[1;32m    501\u001b[0m \u001b[43m        \u001b[49m\u001b[43minputs\u001b[49m\u001b[43m,\u001b[49m\n\u001b[1;32m    502\u001b[0m \u001b[43m        \u001b[49m\u001b[43mallow_unused\u001b[49m\u001b[43m,\u001b[49m\n\u001b[1;32m    503\u001b[0m \u001b[43m        \u001b[49m\u001b[43maccumulate_grad\u001b[49m\u001b[38;5;241;43m=\u001b[39;49m\u001b[38;5;28;43;01mFalse\u001b[39;49;00m\u001b[43m,\u001b[49m\n\u001b[1;32m    504\u001b[0m \u001b[43m    \u001b[49m\u001b[43m)\u001b[49m\n\u001b[1;32m    505\u001b[0m \u001b[38;5;28;01mif\u001b[39;00m materialize_grads:\n\u001b[1;32m    506\u001b[0m     \u001b[38;5;28;01mif\u001b[39;00m \u001b[38;5;28many\u001b[39m(\n\u001b[1;32m    507\u001b[0m         result[i] \u001b[38;5;129;01mis\u001b[39;00m \u001b[38;5;28;01mNone\u001b[39;00m \u001b[38;5;129;01mand\u001b[39;00m \u001b[38;5;129;01mnot\u001b[39;00m is_tensor_like(inputs[i])\n\u001b[1;32m    508\u001b[0m         \u001b[38;5;28;01mfor\u001b[39;00m i \u001b[38;5;129;01min\u001b[39;00m \u001b[38;5;28mrange\u001b[39m(\u001b[38;5;28mlen\u001b[39m(inputs))\n\u001b[1;32m    509\u001b[0m     ):\n",
      "File \u001b[0;32m/Library/Frameworks/Python.framework/Versions/3.12/lib/python3.12/site-packages/torch/autograd/graph.py:825\u001b[0m, in \u001b[0;36m_engine_run_backward\u001b[0;34m(t_outputs, *args, **kwargs)\u001b[0m\n\u001b[1;32m    823\u001b[0m     unregister_hooks \u001b[38;5;241m=\u001b[39m _register_logging_hooks_on_whole_graph(t_outputs)\n\u001b[1;32m    824\u001b[0m \u001b[38;5;28;01mtry\u001b[39;00m:\n\u001b[0;32m--> 825\u001b[0m     \u001b[38;5;28;01mreturn\u001b[39;00m \u001b[43mVariable\u001b[49m\u001b[38;5;241;43m.\u001b[39;49m\u001b[43m_execution_engine\u001b[49m\u001b[38;5;241;43m.\u001b[39;49m\u001b[43mrun_backward\u001b[49m\u001b[43m(\u001b[49m\u001b[43m  \u001b[49m\u001b[38;5;66;43;03m# Calls into the C++ engine to run the backward pass\u001b[39;49;00m\n\u001b[1;32m    826\u001b[0m \u001b[43m        \u001b[49m\u001b[43mt_outputs\u001b[49m\u001b[43m,\u001b[49m\u001b[43m \u001b[49m\u001b[38;5;241;43m*\u001b[39;49m\u001b[43margs\u001b[49m\u001b[43m,\u001b[49m\u001b[43m \u001b[49m\u001b[38;5;241;43m*\u001b[39;49m\u001b[38;5;241;43m*\u001b[39;49m\u001b[43mkwargs\u001b[49m\n\u001b[1;32m    827\u001b[0m \u001b[43m    \u001b[49m\u001b[43m)\u001b[49m  \u001b[38;5;66;03m# Calls into the C++ engine to run the backward pass\u001b[39;00m\n\u001b[1;32m    828\u001b[0m \u001b[38;5;28;01mfinally\u001b[39;00m:\n\u001b[1;32m    829\u001b[0m     \u001b[38;5;28;01mif\u001b[39;00m attach_logging_hooks:\n",
      "\u001b[0;31mRuntimeError\u001b[0m: One of the differentiated Tensors does not require grad"
     ]
    }
   ],
   "source": [
    "#for choose_id in [1,2,3]:\n",
    "model_U = FCNN(input_dim=dim,output_dim=1,num_hidden=3,hidden_dim=10,act=tanh)#.cuda()\n",
    "model   = Model(dim,model_U=model_U)#.cuda();\n",
    "SOL     = Solver(model)\n",
    "\n",
    "# print(model.mu,model.sigma,model.coef_U)\n",
    "    #optimizer = torch.optim.Adam(model.parameters(), lr=torch.tensor(0.001).cuda())\n",
    "optimizer = torch.optim.Adam(model.parameters(), lr=torch.tensor(0.001))\n",
    "scheduler = None\n",
    "_loss_step = SOL.train_model(data_train=X,data_test=X,\n",
    "                             get_loss=get_loss,optimizer=optimizer,scheduler=scheduler,\n",
    "                             n_steps=int(5e4+1),batch_size=500,n_show_loss=1000,use_tqdm=True)\n",
    "\n",
    "# 5e4+1\n",
    "torch.cuda.empty_cache()\n",
    "plot_model(model)\n",
    "# torch.save(model.state_dict(), \"savee/model_\"+str(choose_id))\n",
    "#torch.save(model.state_dict(),\"savee/model_anaconda3\")"
   ]
  },
  {
   "cell_type": "code",
   "execution_count": 91,
   "id": "d187bedb",
   "metadata": {},
   "outputs": [
    {
     "name": "stdout",
     "output_type": "stream",
     "text": [
      "torch.Size([10, 6])\n",
      "[tensor(6.9074e-08, grad_fn=<SumBackward0>), tensor(6.0148e-08, grad_fn=<SumBackward0>), tensor(5.2816e-08, grad_fn=<SumBackward0>), tensor(4.3344e-08, grad_fn=<SumBackward0>), tensor(3.8008e-08, grad_fn=<SumBackward0>), tensor(2.9889e-08, grad_fn=<SumBackward0>), tensor(2.6032e-08, grad_fn=<SumBackward0>), tensor(-1.0985e-08, grad_fn=<SumBackward0>), tensor(-7.3550e-09, grad_fn=<SumBackward0>)]\n",
      "tensor([ 6.9074e-08,  6.0148e-08,  5.2816e-08,  4.3344e-08,  3.8008e-08,\n",
      "         2.9889e-08,  2.6032e-08, -1.0985e-08, -7.3550e-09],\n",
      "       grad_fn=<StackBackward0>)\n",
      "tensor([0])\n",
      "\n",
      "initial U: tensor([0.0000e+00, 6.4611e-08, 1.2109e-07, 1.6917e-07, 2.0985e-07, 2.4380e-07,\n",
      "        2.7176e-07, 2.7928e-07, 2.7011e-07])\n",
      "\n",
      "after some changes U: tensor([0.0000e+00, 6.4611e-08, 1.2109e-07, 1.6917e-07, 2.0985e-07, 2.4380e-07,\n",
      "        2.7176e-07, 2.7928e-07, 2.7011e-07])\n"
     ]
    },
    {
     "data": {
      "image/png": "[encoded data removed]",
      "text/plain": [
       "<Figure size 1000x600 with 1 Axes>"
      ]
     },
     "metadata": {},
     "output_type": "display_data"
    }
   ],
   "source": [
    "# def GGGGet_U_line_integration(self, X, nt):\n",
    "#     _,dU = self.get_U_dU(X)\n",
    "#     print(f\"dU: {dU}\")\n",
    "#     midpoints = [ (X[t+1,:] - X[t-1, :]) / 2 for t in range(1,9)]\n",
    "#     print(midpoints)\n",
    "#     midpoints = [midpoints[0]] + midpoints + [midpoints[-1]]\n",
    "#     # midpoints = torch.abs(torch.tensor(midpoints))\n",
    "#     midpoints = torch.tensor(midpoints)\n",
    "#     print(f\"midpoints: {midpoints}\")\n",
    "\n",
    "#     U = []\n",
    "#     for t in range(dU.shape[0] - 1):\n",
    "#         U.append(torch.sum(midpoints[t, :] * dU[t, :]))\n",
    "#     U = torch.stack(U)\n",
    "#     U = torch.cat((torch.tensor([0]), ((U[1:] + U[:nt - 1]) / 2)), dim=0)\n",
    "#     U = torch.tensor(list(itertools.accumulate(U)))\n",
    "#     return U\n",
    "\n",
    "# def plot_model(model,cmap='terrain',max_V = 10,):\n",
    "# print(X.shape)\n",
    "\n",
    "xx     = np.linspace(0,2,nt-1).reshape(-1,1)\n",
    "\n",
    "_,dU = model.get_U_dU(X)\n",
    "# print(f\"dU: {dU}\")\n",
    "print(dU.shape)\n",
    "midpoints = [ (X[t+1,:] - X[t-1, :]) / 2 for t in range(1,9)]\n",
    "midpoints = [midpoints[0]] + midpoints + [midpoints[-1]]\n",
    "# print(midpoints)\n",
    "\n",
    "# midpoints = torch.abs(torch.tensor(midpoints))\n",
    "# midpoints = torch.tensor(midpoints)\n",
    "midpoints = torch.stack(midpoints)\n",
    "# print(f\"midpoints: {midpoints}\")\n",
    "# print(midpoints.shape)\n",
    "\n",
    "U = []\n",
    "for t in range(dU.shape[0] - 1):\n",
    "    U.append(torch.sum(midpoints[t, :] * dU[t, :]))\n",
    "print(U)\n",
    "U = torch.stack(U)\n",
    "print(U)\n",
    "print(torch.tensor([0]))\n",
    "temp = ((U[1:] + U[:nt-2]) / 2)\n",
    "U = torch.cat((torch.tensor([0]), temp), dim=0)\n",
    "# print(U)\n",
    "U = torch.tensor(list(itertools.accumulate(U)))\n",
    "U_NN = U\n",
    "\n",
    "print()\n",
    "print(f\"initial U: {U_NN}\")\n",
    "U_NN = U_NN[:nt]\n",
    "U_NN_min = U_NN.min()\n",
    "U_NN  = U_NN-U_NN_min\n",
    "print()\n",
    "print(f\"after some changes U: {U_NN}\")\n",
    "U_NN_np = U_NN.detach().numpy()\n",
    "fig, ax    = plt.subplots(1,1,figsize=(5,3),dpi=200,constrained_layout=True)\n",
    "c        = ax.plot(xx[:,0],U_NN_np,'-',lw=1.5)"
   ]
  },
  {
   "cell_type": "code",
   "execution_count": 52,
   "id": "0f4b298f",
   "metadata": {},
   "outputs": [
    {
     "ename": "AttributeError",
     "evalue": "'Model' object has no attribute 'GGGGet_U_line_integration'",
     "output_type": "error",
     "traceback": [
      "\u001b[0;31m---------------------------------------------------------------------------\u001b[0m",
      "\u001b[0;31mAttributeError\u001b[0m                            Traceback (most recent call last)",
      "Cell \u001b[0;32mIn[52], line 1\u001b[0m\n\u001b[0;32m----> 1\u001b[0m \u001b[43mplot_model\u001b[49m\u001b[43m(\u001b[49m\u001b[43mmodel\u001b[49m\u001b[43m)\u001b[49m\n",
      "Cell \u001b[0;32mIn[51], line 36\u001b[0m, in \u001b[0;36mplot_model\u001b[0;34m(model, cmap, max_V)\u001b[0m\n\u001b[1;32m     34\u001b[0m \u001b[38;5;28;01mdef\u001b[39;00m \u001b[38;5;21mplot_model\u001b[39m(model,cmap\u001b[38;5;241m=\u001b[39m\u001b[38;5;124m'\u001b[39m\u001b[38;5;124mterrain\u001b[39m\u001b[38;5;124m'\u001b[39m,max_V \u001b[38;5;241m=\u001b[39m \u001b[38;5;241m10\u001b[39m,):\n\u001b[1;32m     35\u001b[0m     xx     \u001b[38;5;241m=\u001b[39m np\u001b[38;5;241m.\u001b[39mlinspace(\u001b[38;5;241m0\u001b[39m,\u001b[38;5;241m2\u001b[39m,nt)\u001b[38;5;241m.\u001b[39mreshape(\u001b[38;5;241m-\u001b[39m\u001b[38;5;241m1\u001b[39m,\u001b[38;5;241m1\u001b[39m)\n\u001b[0;32m---> 36\u001b[0m     U_NN \u001b[38;5;241m=\u001b[39m \u001b[43mmodel\u001b[49m\u001b[38;5;241;43m.\u001b[39;49m\u001b[43mGGGGet_U_line_integration\u001b[49m(X, nt)\n\u001b[1;32m     37\u001b[0m     \u001b[38;5;28mprint\u001b[39m()\n\u001b[1;32m     38\u001b[0m     \u001b[38;5;28mprint\u001b[39m(\u001b[38;5;124mf\u001b[39m\u001b[38;5;124m\"\u001b[39m\u001b[38;5;124minitial U: \u001b[39m\u001b[38;5;132;01m{\u001b[39;00mU_NN\u001b[38;5;132;01m}\u001b[39;00m\u001b[38;5;124m\"\u001b[39m)\n",
      "File \u001b[0;32m/Library/Frameworks/Python.framework/Versions/3.12/lib/python3.12/site-packages/torch/nn/modules/module.py:1931\u001b[0m, in \u001b[0;36mModule.__getattr__\u001b[0;34m(self, name)\u001b[0m\n\u001b[1;32m   1929\u001b[0m     \u001b[38;5;28;01mif\u001b[39;00m name \u001b[38;5;129;01min\u001b[39;00m modules:\n\u001b[1;32m   1930\u001b[0m         \u001b[38;5;28;01mreturn\u001b[39;00m modules[name]\n\u001b[0;32m-> 1931\u001b[0m \u001b[38;5;28;01mraise\u001b[39;00m \u001b[38;5;167;01mAttributeError\u001b[39;00m(\n\u001b[1;32m   1932\u001b[0m     \u001b[38;5;124mf\u001b[39m\u001b[38;5;124m\"\u001b[39m\u001b[38;5;124m'\u001b[39m\u001b[38;5;132;01m{\u001b[39;00m\u001b[38;5;28mtype\u001b[39m(\u001b[38;5;28mself\u001b[39m)\u001b[38;5;241m.\u001b[39m\u001b[38;5;18m__name__\u001b[39m\u001b[38;5;132;01m}\u001b[39;00m\u001b[38;5;124m'\u001b[39m\u001b[38;5;124m object has no attribute \u001b[39m\u001b[38;5;124m'\u001b[39m\u001b[38;5;132;01m{\u001b[39;00mname\u001b[38;5;132;01m}\u001b[39;00m\u001b[38;5;124m'\u001b[39m\u001b[38;5;124m\"\u001b[39m\n\u001b[1;32m   1933\u001b[0m )\n",
      "\u001b[0;31mAttributeError\u001b[0m: 'Model' object has no attribute 'GGGGet_U_line_integration'"
     ]
    }
   ],
   "source": [
    "plot_model(model)"
   ]
  },
  {
   "cell_type": "code",
   "execution_count": 47,
   "id": "00b3093a",
   "metadata": {},
   "outputs": [],
   "source": [
    "# def get_U_line_integration(self, X, dU, dX):\n",
    "def TEST_get_U_line_integration():\n",
    "    dU = torch.tensor(pd.read_csv('alpha1_dW.txt', header = None).values).T\n",
    "    X = torch.tensor(pd.read_csv('alpha1_path.txt', header = None).values).T\n",
    "    nt = 10\n",
    "    \n",
    "    midpoints = [ (X[t+1,:] - X[t-1, :]) / 2 for t in range(1,9)]\n",
    "    midpoints = [midpoints[0]] + midpoints + [midpoints[-1]]\n",
    "    midpoints = torch.stack(midpoints)\n",
    "\n",
    "    U = []\n",
    "    for t in range(dU.shape[0]):\n",
    "        U.append(torch.sum(midpoints[t, :] * dU[t, :]))\n",
    "    U = torch.stack(U)\n",
    "    U = torch.cat((torch.tensor([0]), ((U[1:] + U[:nt - 1]) / 2)), dim=0)\n",
    "    U = torch.tensor(list(itertools.accumulate(U)))\n",
    "    return U\n"
   ]
  },
  {
   "cell_type": "code",
   "execution_count": 21,
   "id": "b984b4ed",
   "metadata": {},
   "outputs": [
    {
     "name": "stdout",
     "output_type": "stream",
     "text": [
      "[0.         0.00075533 0.00230421 0.00391682 0.00556579 0.00720496\n",
      " 0.00873692 0.01000443 0.01076004 0.01097083]\n",
      "[0.         0.00075616 0.00230639 0.00392046 0.00557131 0.00721247\n",
      " 0.00877898 0.01008863 0.01086808 0.01109424]\n"
     ]
    },
    {
     "data": {
      "image/png": "[encoded data removed]",
      "text/plain": [
       "<Figure size 2000x1000 with 1 Axes>"
      ]
     },
     "metadata": {},
     "output_type": "display_data"
    }
   ],
   "source": [
    "def plot_side_by_side_bar_chart(array1, array2):    \n",
    "    \"\"\"\n",
    "    Plots a bar chart for two 10-length datasets (PyTorch tensors, NumPy arrays, or lists),\n",
    "    where bars are placed side by side, and exact values are displayed above each bar.\n",
    "\n",
    "    Parameters:\n",
    "        array1 (torch.Tensor, np.array, or list): First dataset of length 10.\n",
    "        array2 (torch.Tensor, np.array, or list): Second dataset of length 10.\n",
    "    \"\"\"\n",
    "    # Convert PyTorch tensors to NumPy if necessary\n",
    "    if isinstance(array1, torch.Tensor):\n",
    "        array1 = array1.numpy()\n",
    "    if isinstance(array2, torch.Tensor):\n",
    "        array2 = array2.numpy().flatten()\n",
    "\n",
    "    print(array1)\n",
    "    print(array2)\n",
    "    # # Ensure inputs are NumPy arrays\n",
    "    # array1 = np.array(array1)\n",
    "    # array2 = np.array(array2)\n",
    "\n",
    "    # X-axis positions\n",
    "    x = np.arange(len(array1))\n",
    "\n",
    "    # Bar width to ensure bars are next to each other\n",
    "    bar_width = 0.4\n",
    "\n",
    "    # Create the bar plot\n",
    "    fig, ax = plt.subplots(figsize=(20, 10))\n",
    "    bars1 = ax.bar(x - bar_width/2, array1, width=bar_width, label=\"Array 1\")\n",
    "    bars2 = ax.bar(x + bar_width/2, array2, width=bar_width, label=\"Array 2\")\n",
    "\n",
    "    # Add data labels above bars\n",
    "    for bars in [bars1, bars2]:\n",
    "        for bar in bars:\n",
    "            height = bar.get_height()\n",
    "            ax.text(bar.get_x() + bar.get_width()/2, height, f'{height:.6f}', \n",
    "                    ha='center', va='bottom', fontsize=10)\n",
    "\n",
    "    # Labels and legend\n",
    "    ax.set_xlabel(\"Index\")\n",
    "    ax.set_ylabel(\"Value\")\n",
    "    ax.set_title(\"Side-by-Side Bar Chart with Data Labels\")\n",
    "    ax.set_xticks(x)  # Ensure correct x-axis labels\n",
    "    ax.legend()\n",
    "\n",
    "    # Show the plot\n",
    "    plt.show()\n",
    "\n",
    "plot_side_by_side_bar_chart(TEST_get_U_line_integration(), torch.tensor(pd.read_csv('alpha1_W.txt', header = None).values))"
   ]
  },
  {
   "cell_type": "code",
   "execution_count": 22,
   "id": "afe7ad7d",
   "metadata": {},
   "outputs": [
    {
     "data": {
      "image/png": "[encoded data removed]",
      "text/plain": [
       "<Figure size 1000x600 with 1 Axes>"
      ]
     },
     "metadata": {},
     "output_type": "display_data"
    }
   ],
   "source": [
    "def plot_compare(cmap='terrain',max_V = 10,):\n",
    "    nt=10\n",
    "    xx     = np.linspace(0,2,nt).reshape(-1,1)\n",
    "    W_compare = torch.tensor(pd.read_csv('alpha1_W.txt', header = None).values).T\n",
    "    fig, ax    = plt.subplots(1,1,figsize=(5,3),dpi=200,constrained_layout=True)\n",
    "    c        = ax.plot(xx[:,0],W_compare,'-',lw=1.5)\n",
    "plot_compare()"
   ]
  },
  {
   "cell_type": "markdown",
   "id": "839674fe",
   "metadata": {},
   "source": [
    "# Visualizing the results for different a_k(x)"
   ]
  },
  {
   "cell_type": "code",
   "execution_count": 23,
   "id": "344c6cc7",
   "metadata": {
    "code_folding": [
     0
    ]
   },
   "outputs": [],
   "source": [
    "def plot_models(models):\n",
    "    \n",
    "    xx       = np.linspace(0,2,1000).reshape(-1,1)\n",
    "    fig, ax  = plt.subplots(1,1,figsize=(4,3),dpi=200,constrained_layout=True)\n",
    "    \n",
    "    for k,model_name in enumerate(models):\n",
    "        model.load_state_dict(torch.load(model_name))\n",
    "        U_NN     = model.get_U_np(xx)\n",
    "        U_NN_min = U_NN.min()\n",
    "        U_NN     = U_NN-U_NN_min\n",
    "        c        = ax.plot(xx[:,0],U_NN,'-',lw=1.5,label=\"$a_{%d}(x)$\"%(k+1))\n",
    "    ax.legend(fontsize=10)\n",
    "    ax.set_xlabel('$x$',fontsize=10)\n",
    "    ax.set_ylabel('$U(x)$',fontsize=10)\n",
    "    ax.set_xlim([0,2])\n",
    "    ax.set_yticks([0,0.2,0.4,0.6,0.8,1,1.2])\n",
    "    ax.set_xticks([0,.5,1.,1.5,2])\n",
    "    ax.yaxis.grid(linestyle='--')\n",
    "    ax.tick_params(axis=\"both\", labelsize=10)\n",
    "    plt.show()\n",
    "# plot_models([\"savee/model_anaconda3\"])\n",
    "#plot_models([\"savee/model_a1_update\", \"savee/model_a2_update\", \"savee/model_a3_update\", \"savee/model_a4\", \"savee/model_a5_update\"])"
   ]
  },
  {
   "cell_type": "code",
   "execution_count": 24,
   "id": "0851750f",
   "metadata": {},
   "outputs": [],
   "source": [
    "# fig, ax  = plt.subplots(1,1,figsize=(4,3),dpi=200,constrained_layout=True)\n",
    "# xx       = np.linspace(0,2,1000).reshape(-1,1)\n",
    "# U_NN     = model.get_U_np(xx)\n",
    "# U_NN_min = U_NN.min()\n",
    "# U_NN     = U_NN-U_NN_min\n",
    "# c        = ax.plot(xx[:,0],U_NN,'-',lw=1.5)\n",
    "# ax.legend(fontsize=10)\n",
    "# ax.set_xlabel('$x$',fontsize=10)\n",
    "# ax.set_ylabel('$U(x)$',fontsize=10)\n",
    "# ax.set_xlim([0,2])\n",
    "# ax.set_yticks([0,0.2,0.4,0.6,0.8,1,1.2])\n",
    "# ax.set_xticks([0,.5,1.,1.5,2])\n",
    "# ax.yaxis.grid(linestyle='--')\n",
    "# ax.tick_params(axis=\"both\", labelsize=10)\n",
    "# plt.show()\n",
    "\n",
    "#torch.save(model.state_dict(), \"savee/model_99\")\n",
    "#model.state_dict()\n",
    "\n",
    "# U_NN\n",
    "\n",
    "# model\n",
    "\n",
    "# torch.load(\"/Users/annacoletti/Desktop/savee/model_a3_update.mat\")\n",
    "\n",
    "# import scipy.io as scio\n",
    "# from scipy.io import savemat\n",
    "# scio.savemat('W2_learned_DL', U_NN)"
   ]
  }
 ],
 "metadata": {
  "hide_input": false,
  "kernelspec": {
   "display_name": "Python 3",
   "language": "python",
   "name": "python3"
  },
  "language_info": {
   "codemirror_mode": {
    "name": "ipython",
    "version": 3
   },
   "file_extension": ".py",
   "mimetype": "text/x-python",
   "name": "python",
   "nbconvert_exporter": "python",
   "pygments_lexer": "ipython3",
   "version": "3.12.1"
  },
  "varInspector": {
   "cols": {
    "lenName": 16,
    "lenType": 16,
    "lenVar": 40
   },
   "kernels_config": {
    "python": {
     "delete_cmd_postfix": "",
     "delete_cmd_prefix": "del ",
     "library": "var_list.py",
     "varRefreshCmd": "print(var_dic_list())"
    },
    "r": {
     "delete_cmd_postfix": ") ",
     "delete_cmd_prefix": "rm(",
     "library": "var_list.r",
     "varRefreshCmd": "cat(var_dic_list()) "
    }
   },
   "types_to_exclude": [
    "module",
    "function",
    "builtin_function_or_method",
    "instance",
    "_Feature"
   ],
   "window_display": false
  }
 },
 "nbformat": 4,
 "nbformat_minor": 5
}
