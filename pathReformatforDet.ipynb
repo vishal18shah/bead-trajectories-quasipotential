{
 "cells": [
  {
   "cell_type": "code",
   "execution_count": 41,
   "metadata": {},
   "outputs": [],
   "source": [
    "import torch\n",
    "import pandas as pd\n",
    "from GetLoss import getResidue\n",
    "\n",
    "paths = torch.tensor(pd.read_csv('alpha1_path.txt', header = None).values)\n",
    "gradients = torch.tensor(pd.read_csv('alpha1_dW.txt', header = None).values)\n",
    "\n",
    "paths = paths.T.reshape(-1,3,2)\n",
    "gradients = gradients.T.reshape(-1,3,2)\n"
   ]
  },
  {
   "cell_type": "code",
   "execution_count": 42,
   "metadata": {},
   "outputs": [
    {
     "name": "stdout",
     "output_type": "stream",
     "text": [
      "Determinant of M: tensor(-0.0626)\n",
      "Determinant of M: tensor(-0.1562)\n",
      "Determinant of M: tensor(-0.1623)\n",
      "Determinant of M: tensor(-0.1620)\n",
      "Determinant of M: tensor(-0.1655)\n",
      "Determinant of M: tensor(-0.1616)\n",
      "Determinant of M: tensor(-0.1569)\n",
      "Determinant of M: tensor(-0.1393)\n",
      "Determinant of M: tensor(-0.1266)\n",
      "Determinant of M: tensor(-0.1421)\n",
      "[tensor(-0.0626), tensor(-0.1562), tensor(-0.1623), tensor(-0.1620), tensor(-0.1655), tensor(-0.1616), tensor(-0.1569), tensor(-0.1393), tensor(-0.1266), tensor(-0.1421)]\n"
     ]
    }
   ],
   "source": [
    "results = []\n",
    "for i in range(10):\n",
    "    results.append(getResidue(paths[i,:,:], gradients[i,:,:]))\n",
    "print(results)"
   ]
  },
  {
   "cell_type": "code",
   "execution_count": 32,
   "metadata": {},
   "outputs": [],
   "source": [
    "# print(paths.shape)\n",
    "# print(paths)"
   ]
  },
  {
   "cell_type": "code",
   "execution_count": 33,
   "metadata": {},
   "outputs": [],
   "source": [
    "# print(gradients.shape)\n",
    "# print(gradients)"
   ]
  }
 ],
 "metadata": {
  "kernelspec": {
   "display_name": "Python 3",
   "language": "python",
   "name": "python3"
  },
  "language_info": {
   "codemirror_mode": {
    "name": "ipython",
    "version": 3
   },
   "file_extension": ".py",
   "mimetype": "text/x-python",
   "name": "python",
   "nbconvert_exporter": "python",
   "pygments_lexer": "ipython3",
   "version": "3.12.1"
  }
 },
 "nbformat": 4,
 "nbformat_minor": 2
}
