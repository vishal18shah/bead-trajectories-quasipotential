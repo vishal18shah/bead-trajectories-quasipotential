{
 "cells": [
  {
   "cell_type": "code",
   "execution_count": 16,
   "id": "17d34f05",
   "metadata": {},
   "outputs": [],
   "source": [
    "#! nvidia-smi"
   ]
  },
  {
   "cell_type": "code",
   "execution_count": 17,
   "id": "66f3121e-b0e4-46b0-ab2a-09540cec3cab",
   "metadata": {},
   "outputs": [],
   "source": [
    "#conda install pytorch torchvision -c pytorch"
   ]
  },
  {
   "cell_type": "code",
   "execution_count": 18,
   "id": "b280ca44",
   "metadata": {},
   "outputs": [],
   "source": [
    "import os\n",
    "def EXIT_NOTEBOOK(): os._exit(00)\n",
    "#os.environ['CUDA_VISIBLE_DEVICES'] = '3'\n",
    "os.environ['TF_CPP_MIN_LOG_LEVEL'] = '3' "
   ]
  },
  {
   "cell_type": "code",
   "execution_count": 19,
   "id": "36ba82b5",
   "metadata": {},
   "outputs": [],
   "source": [
    "import numpy as np\n",
    "import pandas as pd\n",
    "import matplotlib.pyplot as plt\n",
    "from tqdm.notebook import tqdm\n",
    "import random\n",
    "import torch \n",
    "from torch import nn\n",
    "import torch.nn.functional as func\n",
    "import seaborn as sns\n",
    "import matplotlib.ticker\n",
    "import itertools\n",
    "\n",
    "# # ps\n",
    "# import pysindy as ps\n",
    "\n",
    "# sns.set_theme()\n",
    "# torch.set_default_dtype(torch.float32)\n",
    "plt.rcParams['text.usetex'] = True"
   ]
  },
  {
   "cell_type": "code",
   "execution_count": 20,
   "id": "a9a3b215",
   "metadata": {},
   "outputs": [],
   "source": [
    "dim = 6\n",
    "torch.set_default_dtype(torch.float64)"
   ]
  },
  {
   "cell_type": "markdown",
   "id": "6f339b9d",
   "metadata": {},
   "source": [
    "# Dataset for X"
   ]
  },
  {
   "cell_type": "code",
   "execution_count": 21,
   "id": "818019ae",
   "metadata": {},
   "outputs": [
    {
     "name": "stdout",
     "output_type": "stream",
     "text": [
      "torch.Size([10, 6])\n",
      "tensor([[ 0.0000e+00, -5.2335e-01,  0.0000e+00, -5.2335e-01,  0.0000e+00,\n",
      "          6.5938e-01],\n",
      "        [-3.9763e-07, -5.0173e-01, -5.5871e-07, -5.2272e-01,  2.5791e-26,\n",
      "          6.3636e-01],\n",
      "        [ 9.0553e-08, -4.7871e-01,  2.6907e-07, -5.2273e-01, -1.2904e-26,\n",
      "          6.1474e-01],\n",
      "        [-3.4072e-07, -4.5682e-01, -2.7507e-07, -5.2286e-01,  0.0000e+00,\n",
      "          5.9197e-01],\n",
      "        [-5.4729e-09, -4.3346e-01, -1.8751e-07, -5.2324e-01,  0.0000e+00,\n",
      "          5.7071e-01],\n",
      "        [-4.6239e-07, -4.1156e-01, -6.6102e-07, -5.2324e-01,  0.0000e+00,\n",
      "          5.4795e-01],\n",
      "        [ 9.9046e-08, -3.8805e-01,  9.3798e-08, -5.2306e-01,  0.0000e+00,\n",
      "          5.2686e-01],\n",
      "        [-5.4089e-07, -3.7199e-01, -6.8109e-07, -5.1263e-01,  0.0000e+00,\n",
      "          5.0174e-01],\n",
      "        [ 2.5347e-07, -3.5572e-01,  2.8930e-07, -4.9550e-01,  0.0000e+00,\n",
      "          4.8078e-01],\n",
      "        [-6.8843e-07, -3.3241e-01, -8.5786e-07, -4.9318e-01,  0.0000e+00,\n",
      "          4.5959e-01]], requires_grad=True)\n"
     ]
    }
   ],
   "source": [
    "from BeadModel import Simulate\n",
    "from SimulationParameters import *\n",
    "\n",
    "# X = Simulation(*Simulate(numSims)).positions[:,:,:,0].reshape(-1,nt+1).T\n",
    "X = torch.tensor(pd.read_csv('alpha1_path.txt', header = None).values).T\n",
    "X.requires_grad_()\n",
    "\n",
    "# X = pd.read_csv('alpha1_path.txt', header = None).values.T\n",
    "# for item in X:\n",
    "#     item = torch.tensor(item)\n",
    "# X = torch.tensor(X)\n",
    "# # Z = X.view\n",
    "\n",
    "print(X.shape)\n",
    "print(X)\n"
   ]
  },
  {
   "cell_type": "code",
   "execution_count": 22,
   "id": "f7843f53",
   "metadata": {},
   "outputs": [
    {
     "data": {
      "text/plain": [
       "tensor([[ 0.0000e+00, -5.2335e-01,  0.0000e+00, -5.2335e-01,  0.0000e+00,\n",
       "          6.5938e-01],\n",
       "        [-3.9763e-07, -5.0173e-01, -5.5871e-07, -5.2272e-01,  2.5791e-26,\n",
       "          6.3636e-01],\n",
       "        [ 9.0553e-08, -4.7871e-01,  2.6907e-07, -5.2273e-01, -1.2904e-26,\n",
       "          6.1474e-01],\n",
       "        [-3.4072e-07, -4.5682e-01, -2.7507e-07, -5.2286e-01,  0.0000e+00,\n",
       "          5.9197e-01],\n",
       "        [-5.4729e-09, -4.3346e-01, -1.8751e-07, -5.2324e-01,  0.0000e+00,\n",
       "          5.7071e-01],\n",
       "        [-4.6239e-07, -4.1156e-01, -6.6102e-07, -5.2324e-01,  0.0000e+00,\n",
       "          5.4795e-01],\n",
       "        [ 9.9046e-08, -3.8805e-01,  9.3798e-08, -5.2306e-01,  0.0000e+00,\n",
       "          5.2686e-01],\n",
       "        [-5.4089e-07, -3.7199e-01, -6.8109e-07, -5.1263e-01,  0.0000e+00,\n",
       "          5.0174e-01],\n",
       "        [ 2.5347e-07, -3.5572e-01,  2.8930e-07, -4.9550e-01,  0.0000e+00,\n",
       "          4.8078e-01],\n",
       "        [-6.8843e-07, -3.3241e-01, -8.5786e-07, -4.9318e-01,  0.0000e+00,\n",
       "          4.5959e-01]], requires_grad=True)"
      ]
     },
     "execution_count": 22,
     "metadata": {},
     "output_type": "execute_result"
    }
   ],
   "source": [
    "# W = torch.tensor(pd.read_csv('alpha1_W.txt', header = None).values).T\n",
    "# print(W)\n",
    "# print(W.shape)\n",
    "# print()\n",
    "# X = torch.tensor(pd.read_csv('alpha1_path.txt', header = None).values).T\n",
    "X.requires_grad_()\n",
    "# print(X)\n",
    "# print(X.shape)"
   ]
  },
  {
   "cell_type": "markdown",
   "id": "d9cbd757",
   "metadata": {},
   "source": [
    "# Set the NN model and Solver with training process"
   ]
  },
  {
   "cell_type": "code",
   "execution_count": 23,
   "id": "606412e9",
   "metadata": {
    "code_folding": [
     2,
     18,
     19,
     28,
     42,
     45
    ]
   },
   "outputs": [],
   "source": [
    "def relu2(X): return func.relu(X)**2\n",
    "def tanh(X): return func.tanh(X)\n",
    "class FCNN(nn.Module):\n",
    "    def __init__(self,input_dim=6,output_dim=6,num_hidden=2,hidden_dim=10,act=func.tanh,transform=None):\n",
    "        super().__init__()\n",
    "        self.input_dim = input_dim\n",
    "        self.output_dim = output_dim\n",
    "        self.layers  = nn.ModuleList([nn.Linear(input_dim,hidden_dim)])\n",
    "        for _ in range(num_hidden-1): self.layers.append(nn.Linear(hidden_dim,hidden_dim))\n",
    "        self.act     = act\n",
    "        self.out     = nn.Linear(hidden_dim,output_dim)\n",
    "        self.transform = transform\n",
    "    def forward(self,X):\n",
    "        if self.transform is not None: X = self.transform(X)\n",
    "        for layer in self.layers: X = self.act(layer(X))\n",
    "        Y = self.out(X)\n",
    "        return Y\n",
    "class Model(nn.Module):\n",
    "    def __init__(self,dim,model_U,unit_len=int(5e3)):\n",
    "        super().__init__()\n",
    "        self.dim      = dim\n",
    "        self.model_U  = model_U\n",
    "        self.unit_len = unit_len\n",
    "        self.mu       = nn.Parameter(torch.tensor([0.]*dim),requires_grad=False) \n",
    "        self.sigma    = nn.Parameter(torch.tensor([1.]*dim),requires_grad=False)\n",
    "        #above two lines should work, but if something doesn't work, check here! Does current self.mu and self.sigma code work if dim>1. Should return a vector since what we're trying to do is calculate mu\n",
    "        #and sigma separately for each imnputted feature. mu is parameter[0] for each row.\n",
    "        self.coef_U   = nn.Parameter(torch.tensor([1.]*dim),requires_grad=False)\n",
    "        #self.mu       = nn.Parameter(torch.tensor([0.]*dim).cuda(),requires_grad=False)\n",
    "        #self.sigma    = nn.Parameter(torch.tensor([1.]*dim).cuda(),requires_grad=False)\n",
    "        #self.coef_U   = nn.Parameter(torch.tensor(1.).cuda(),requires_grad=False)\n",
    "    def get_U_harmonic(self,X): return torch.sum(X**2,axis=-1)\n",
    "        \n",
    "    \n",
    "    def get_U_dU(self,X):\n",
    "        # normalize and ensure x is a tensor\n",
    "        if not torch.is_tensor(X): X = torch.tensor(X, requires_grad=True)\n",
    "        U = self.model_U(X).view(-1)\n",
    "        dU = torch.autograd.grad(U, X, torch.ones_like(U), create_graph=True)[0]\n",
    "        # dU = dU.T\n",
    "        return U,dU\n",
    "\n",
    "    \n",
    "    def get_U_np(self,X): \n",
    "        U,_ = self.get_U_dU(X);\n",
    "        return U.cpu().data.numpy()\n",
    "    \n",
    "    # def get_U_numerical_integration(self,X, dX):\n",
    "    #     outputU = []\n",
    "    #     _,dU = self.get_U_dU(X)\n",
    "    #     # Assume dU has more than two features. for each timestep we'll numerically integrate. current shape is 6x10\n",
    "    #     #Trapezoid rule for numerical integration by each timestep\n",
    "    #     for t in range(dU.shape[1]):\n",
    "    #         currentSum = 0\n",
    "    #         currentDU = dU[:,t]\n",
    "    #         for i in range(len(currentDU)):\n",
    "    #             if i == len(currentDU)-1 or i == 0:\n",
    "    #                 currentSum += currentDU[i] / 2\n",
    "    #             else:\n",
    "    #                 currentSum += currentDU[i]\n",
    "    #         currentSum *= dX\n",
    "    #         outputU.append(currentSum + sum(outputU))\n",
    "    #     U = torch.tensor(outputU)\n",
    "    #     return U\n",
    "    \n",
    "    def get_U_line_integration(self, X, nt):\n",
    "        _,dU = self.get_U_dU(X)\n",
    "        print(f\"dU: {dU}\")\n",
    "        midpoints = [ (X[t+1,:] - X[t-1, :]) / 2 for t in range(1,9)]\n",
    "        print(midpoints)\n",
    "        midpoints = [midpoints[0]] + midpoints + [midpoints[-1]]\n",
    "        # midpoints = torch.abs(torch.tensor(midpoints))\n",
    "        midpoints = torch.tensor(midpoints)\n",
    "        print(f\"midpoints: {midpoints}\")\n",
    "\n",
    "        U = []\n",
    "        for t in range(dU.shape[0] - 1):\n",
    "            U.append(torch.sum(midpoints[t, :] * dU[t, :]))\n",
    "        U = torch.stack(U)\n",
    "        U = torch.cat((torch.tensor([0]), ((U[1:] + U[:nt - 1]) / 2)), dim=0)\n",
    "        U = torch.tensor(list(itertools.accumulate(U)))\n",
    "        return U\n",
    "    \n",
    "\n",
    "    \n",
    "class Solver():\n",
    "    def __init__(self,model):\n",
    "        self.model=model\n",
    "    def train_model(self,data_train,data_test,get_loss,optimizer,\n",
    "                    n_steps,batch_size,scheduler=None,n_show_loss=100,error_model=None,use_tqdm=True):\n",
    "        if use_tqdm: step_range = tqdm(range(n_steps))\n",
    "        else: step_range = range(n_steps)\n",
    "        loss_step = []\n",
    "        for i_step in step_range:\n",
    "            if i_step%n_show_loss==0:\n",
    "                loss_train,loss_test = get_loss(self.model,data_train)[:-1],\\\n",
    "                                       get_loss(self.model,data_test)[:-1]\n",
    "                \n",
    "                def show_num(x): \n",
    "                    if abs(x)<100 and abs(x)>.01: return '%0.5f'%x\n",
    "                    else: return '%0.2e'%x\n",
    "                item1 = '%2dk'%np.int_(i_step/1000)\n",
    "                item2 = 'Loss: '+' '.join([show_num(k) for k in loss_train])\n",
    "                item3 = ' '.join([show_num(k) for k in loss_test])\n",
    "                item4 = ''\n",
    "                if error_model is not None: item4 = 'E(QP): %0.4f' % (error_model(self.model))\n",
    "                print(', '.join([item1,item2,item3,item4]))\n",
    "                loss_step = loss_step + [i_step] + [k.cpu().data.numpy() for k in loss_train]\\\n",
    "                                                 + [k.cpu().data.numpy() for k in loss_train]\n",
    "            data_batch = data_train[random.sample(range(len(data_train)),\n",
    "                                                  min(batch_size,len(data_train)))]\n",
    "#             print(i_step,data_batch.shape)\n",
    "            loss = get_loss(self.model,data_batch)[-1]\n",
    "            optimizer.zero_grad()\n",
    "            loss.backward()\n",
    "            optimizer.step()\n",
    "            if scheduler is not None: scheduler.step()\n",
    "        if error_model is not None: \n",
    "            print(\"Error: %0.5f\" % (error_model(self.model)))\n",
    "        return loss_step"
   ]
  },
  {
   "cell_type": "code",
   "execution_count": 24,
   "id": "5786a635",
   "metadata": {
    "code_folding": []
   },
   "outputs": [],
   "source": [
    "model_U = FCNN(input_dim=dim,output_dim=1,num_hidden=3,hidden_dim=10,act=tanh)#.cuda()\n",
    "model   = Model(dim,model_U=model_U)#.cuda();\n",
    "SOL     = Solver(model)"
   ]
  },
  {
   "cell_type": "code",
   "execution_count": 25,
   "id": "fd4f4a11",
   "metadata": {},
   "outputs": [],
   "source": [
    "# print(model.get_U_dU(X))"
   ]
  },
  {
   "cell_type": "code",
   "execution_count": 26,
   "id": "94e8e5d0",
   "metadata": {},
   "outputs": [],
   "source": [
    "# print(model.mu.shape)\n",
    "# print(model.mu)"
   ]
  },
  {
   "cell_type": "code",
   "execution_count": 27,
   "id": "5df5a90f",
   "metadata": {},
   "outputs": [],
   "source": [
    "# def plot_model(model,cmap='terrain',max_V = 10):\n",
    "    \n",
    "#     xx     = np.linspace(0,2,1000).reshape(-1,1)\n",
    "#     U_NN   = model.get_U_np(xx)\n",
    "#     U_NN_min = U_NN.min()\n",
    "#     U_NN  = U_NN-U_NN_min\n",
    "\n",
    "#     fig, ax    = plt.subplots(1,1,figsize=(5,3),dpi=200,constrained_layout=True)\n",
    "#     c      = ax.plot(xx[:,0],U_NN,'-',lw=1.5,)\n",
    "\n",
    "#     ax.tick_params(axis=\"both\", labelsize=10)\n",
    "#     plt.show()"
   ]
  },
  {
   "cell_type": "markdown",
   "id": "6d82dfe6",
   "metadata": {},
   "source": [
    "# Set the loss function and Train the model for differen a_k(x)"
   ]
  },
  {
   "cell_type": "code",
   "execution_count": 28,
   "id": "69c4eeaf",
   "metadata": {
    "code_folding": [
     0,
     12,
     16
    ]
   },
   "outputs": [],
   "source": [
    "from Loss import getResidue, getAllResidues\n",
    "\n",
    "# def plot_model(model,cmap='terrain',max_V = 10):\n",
    "    \n",
    "#     # xx     = np.linspace(0,2,1000).reshape(-1,1)\n",
    "#     # U_NN   = model.get_U_np(xx)\n",
    "#     U_NN   = model.get_U_np(X)\n",
    "#     U_NN_min = U_NN.min()\n",
    "#     U_NN  = U_NN-U_NN_min\n",
    "#     fig, ax    = plt.subplots(1,1,figsize=(5,3),dpi=200,constrained_layout=True)\n",
    "#     c      = ax.plot(X[:,0],U_NN,'-',lw=1.5,)\n",
    "\n",
    "    # ax.tick_params(axis=\"both\", labelsize=10)\n",
    "    # plt.show()\n",
    "\n",
    "# def GGGGet_U_line_integration(self, X, nt):\n",
    "#     _,dU = self.get_U_dU(X)\n",
    "#     print(f\"dU: {dU}\")\n",
    "#     midpoints = [ (X[t+1,:] - X[t-1, :]) / 2 for t in range(1,9)]\n",
    "#     print(midpoints)\n",
    "#     midpoints = [midpoints[0]] + midpoints + [midpoints[-1]]\n",
    "#     # midpoints = torch.abs(torch.tensor(midpoints))\n",
    "#     midpoints = torch.tensor(midpoints)\n",
    "#     print(f\"midpoints: {midpoints}\")\n",
    "\n",
    "#     U = []\n",
    "#     for t in range(dU.shape[0] - 1):\n",
    "#         U.append(torch.sum(midpoints[t, :] * dU[t, :]))\n",
    "#     U = torch.stack(U)\n",
    "#     U = torch.cat((torch.tensor([0]), ((U[1:] + U[:nt - 1]) / 2)), dim=0)\n",
    "#     U = torch.tensor(list(itertools.accumulate(U)))\n",
    "#     return U\n",
    "\n",
    "def plot_model(model,cmap='terrain',max_V = 10,):\n",
    "    xx     = np.linspace(0,2,nt).reshape(-1,1)\n",
    "    U_NN = model.get_U_line_integration(X, nt)\n",
    "    print()\n",
    "    print(f\"initial U: {U_NN}\")\n",
    "    U_NN = U_NN[:nt]\n",
    "    U_NN_min = U_NN.min()\n",
    "    U_NN  = U_NN-U_NN_min\n",
    "    print()\n",
    "    print(f\"after some changes U: {U_NN}\")\n",
    "    U_NN_np = U_NN.detach().numpy()\n",
    "    fig, ax    = plt.subplots(1,1,figsize=(5,3),dpi=200,constrained_layout=True)\n",
    "    c        = ax.plot(xx[:,0],U_NN_np,'-',lw=1.5)\n",
    "\n",
    "def get_loss(model,data):\n",
    "    X = data\n",
    "    X = torch.tensor(X).clone().detach().requires_grad_(True)\n",
    "    _,dU = model.get_U_dU(X)\n",
    "    loss = getAllResidues(X, dU)\n",
    "    return loss#,loss\n",
    "\n",
    "\n",
    "# plot_model(model)\n",
    "# is get loss working? ignore the print outs that come from it\n",
    "# get_loss(model,X)\n",
    "# ignore this below too\n",
    "    # Note we are feeding in a gradient below:\n",
    "    # gradients = torch.tensor(pd.read_csv('alpha1_dW.txt', header = None).values)"
   ]
  },
  {
   "cell_type": "code",
   "execution_count": 29,
   "id": "65d4b29e",
   "metadata": {
    "code_folding": []
   },
   "outputs": [
    {
     "data": {
      "application/vnd.jupyter.widget-view+json": {
       "model_id": "8dbb4579d824434ba918daaf36fbebac",
       "version_major": 2,
       "version_minor": 0
      },
      "text/plain": [
       "  0%|          | 0/50001 [00:00<?, ?it/s]"
      ]
     },
     "metadata": {},
     "output_type": "display_data"
    },
    {
     "name": "stderr",
     "output_type": "stream",
     "text": [
      "/var/folders/jf/w5m4c3sj361fdh8b5wz1cy1m0000gn/T/ipykernel_36771/1157415571.py:50: UserWarning: To copy construct from a tensor, it is recommended to use sourceTensor.clone().detach() or sourceTensor.clone().detach().requires_grad_(True), rather than torch.tensor(sourceTensor).\n",
      "  X = torch.tensor(X).clone().detach().requires_grad_(True)\n"
     ]
    },
    {
     "name": "stdout",
     "output_type": "stream",
     "text": [
      " 0k, Loss: 5.05e-06 3.76e-07 1.46e-06 8.41e-06 2.17e-05 3.54e-05 4.49e-05 1.97e-05 2.29e-09, 5.05e-06 3.76e-07 1.46e-06 8.41e-06 2.17e-05 3.54e-05 4.49e-05 1.97e-05 2.29e-09, \n",
      " 1k, Loss: 8.80e-10 1.32e-09 1.73e-09 1.58e-09 1.28e-09 6.18e-10 1.65e-10 3.16e-12 1.74e-13, 8.80e-10 1.32e-09 1.73e-09 1.58e-09 1.28e-09 6.18e-10 1.65e-10 3.16e-12 1.74e-13, \n",
      " 2k, Loss: 3.06e-10 3.43e-10 5.79e-10 5.17e-10 6.38e-10 4.19e-10 3.69e-10 2.41e-12 3.26e-10, 3.06e-10 3.43e-10 5.79e-10 5.17e-10 6.38e-10 4.19e-10 3.69e-10 2.41e-12 3.26e-10, \n",
      " 3k, Loss: 1.79e-10 7.71e-11 9.62e-11 3.33e-11 5.76e-11 2.79e-11 1.35e-10 4.16e-12 5.93e-11, 1.79e-10 7.71e-11 9.62e-11 3.33e-11 5.76e-11 2.79e-11 1.35e-10 4.16e-12 5.93e-11, \n",
      " 4k, Loss: 4.62e-10 1.65e-10 2.76e-10 1.87e-10 5.66e-10 7.56e-10 2.22e-09 2.61e-10 5.02e-11, 4.62e-10 1.65e-10 2.76e-10 1.87e-10 5.66e-10 7.56e-10 2.22e-09 2.61e-10 5.02e-11, \n",
      " 5k, Loss: 1.08e-10 2.61e-11 2.41e-11 5.17e-12 2.37e-11 3.13e-11 1.66e-10 1.59e-11 3.49e-12, 1.08e-10 2.61e-11 2.41e-11 5.17e-12 2.37e-11 3.13e-11 1.66e-10 1.59e-11 3.49e-12, \n",
      " 6k, Loss: 2.69e-11 1.84e-12 1.79e-13 1.01e-11 2.22e-11 2.05e-10 2.48e-09 2.26e-09 4.75e-09, 2.69e-11 1.84e-12 1.79e-13 1.01e-11 2.22e-11 2.05e-10 2.48e-09 2.26e-09 4.75e-09, \n",
      " 7k, Loss: 9.69e-11 6.24e-12 1.37e-12 3.56e-11 4.57e-11 6.23e-11 1.13e-11 5.37e-11 3.89e-11, 9.69e-11 6.24e-12 1.37e-12 3.56e-11 4.57e-11 6.23e-11 1.13e-11 5.37e-11 3.89e-11, \n",
      " 8k, Loss: 2.53e-11 4.75e-14 1.16e-11 4.95e-11 6.97e-11 8.62e-11 4.09e-11 4.42e-11 9.25e-12, 2.53e-11 4.75e-14 1.16e-11 4.95e-11 6.97e-11 8.62e-11 4.09e-11 4.42e-11 9.25e-12, \n",
      " 9k, Loss: 3.36e-10 2.06e-10 5.88e-10 7.58e-10 2.02e-09 2.90e-09 5.77e-09 1.17e-09 9.09e-11, 3.36e-10 2.06e-10 5.88e-10 7.58e-10 2.02e-09 2.90e-09 5.77e-09 1.17e-09 9.09e-11, \n",
      "10k, Loss: 2.15e-11 1.58e-12 1.83e-13 3.51e-12 2.25e-12 4.96e-13 4.34e-12 1.92e-12 4.98e-13, 2.15e-11 1.58e-12 1.83e-13 3.51e-12 2.25e-12 4.96e-13 4.34e-12 1.92e-12 4.98e-13, \n",
      "11k, Loss: 6.53e-12 2.76e-14 7.81e-13 3.18e-12 1.60e-12 2.16e-13 3.50e-12 1.01e-12 1.84e-15, 6.53e-12 2.76e-14 7.81e-13 3.18e-12 1.60e-12 2.16e-13 3.50e-12 1.01e-12 1.84e-15, \n",
      "12k, Loss: 6.74e-12 1.03e-13 4.17e-13 2.62e-12 1.43e-12 3.95e-13 2.44e-12 7.47e-14 3.57e-13, 6.74e-12 1.03e-13 4.17e-13 2.62e-12 1.43e-12 3.95e-13 2.44e-12 7.47e-14 3.57e-13, \n",
      "13k, Loss: 1.52e-12 1.19e-13 1.69e-12 4.10e-12 4.32e-12 3.15e-12 4.81e-13 3.18e-13 1.47e-13, 1.52e-12 1.19e-13 1.69e-12 4.10e-12 4.32e-12 3.15e-12 4.81e-13 3.18e-13 1.47e-13, \n",
      "14k, Loss: 2.65e-12 3.47e-13 2.50e-15 4.84e-14 2.45e-16 2.93e-13 2.06e-12 2.01e-12 6.90e-13, 2.65e-12 3.47e-13 2.50e-15 4.84e-14 2.45e-16 2.93e-13 2.06e-12 2.01e-12 6.90e-13, \n",
      "15k, Loss: 9.99e-13 5.01e-13 4.01e-12 9.57e-12 1.37e-11 1.56e-11 1.25e-11 9.67e-12 4.32e-12, 9.99e-13 5.01e-13 4.01e-12 9.57e-12 1.37e-11 1.56e-11 1.25e-11 9.67e-12 4.32e-12, \n",
      "16k, Loss: 4.44e-13 1.31e-14 2.99e-13 8.00e-13 7.30e-13 4.40e-13 4.93e-20 4.15e-14 7.93e-14, 4.44e-13 1.31e-14 2.99e-13 8.00e-13 7.30e-13 4.40e-13 4.93e-20 4.15e-14 7.93e-14, \n",
      "17k, Loss: 3.61e-13 3.50e-13 2.75e-13 4.80e-13 4.81e-13 5.90e-13 1.39e-14 2.18e-14 9.39e-13, 3.61e-13 3.50e-13 2.75e-13 4.80e-13 4.81e-13 5.90e-13 1.39e-14 2.18e-14 9.39e-13, \n",
      "18k, Loss: 6.75e-13 2.01e-14 1.63e-13 5.97e-13 9.43e-13 8.25e-13 3.41e-13 2.28e-14 1.77e-13, 6.75e-13 2.01e-14 1.63e-13 5.97e-13 9.43e-13 8.25e-13 3.41e-13 2.28e-14 1.77e-13, \n",
      "19k, Loss: 1.57e-13 9.38e-15 1.12e-14 3.99e-14 3.89e-14 6.83e-15 4.37e-15 4.75e-15 1.02e-14, 1.57e-13 9.38e-15 1.12e-14 3.99e-14 3.89e-14 6.83e-15 4.37e-15 4.75e-15 1.02e-14, \n",
      "20k, Loss: 4.61e-13 1.81e-14 2.41e-14 1.46e-13 1.17e-13 4.88e-14 2.23e-14 1.90e-15 8.51e-14, 4.61e-13 1.81e-14 2.41e-14 1.46e-13 1.17e-13 4.88e-14 2.23e-14 1.90e-15 8.51e-14, \n",
      "21k, Loss: 9.69e-14 1.28e-16 5.65e-14 1.42e-13 1.67e-13 1.07e-13 1.80e-14 3.75e-15 8.15e-16, 9.69e-14 1.28e-16 5.65e-14 1.42e-13 1.67e-13 1.07e-13 1.80e-14 3.75e-15 8.15e-16, \n",
      "22k, Loss: 4.41e-14 5.04e-14 3.91e-14 8.41e-14 1.12e-13 2.51e-13 3.20e-13 6.27e-13 5.84e-13, 4.41e-14 5.04e-14 3.91e-14 8.41e-14 1.12e-13 2.51e-13 3.20e-13 6.27e-13 5.84e-13, \n",
      "23k, Loss: 7.30e-15 2.34e-15 1.54e-17 2.57e-15 5.58e-15 3.25e-14 1.93e-14 6.65e-14 1.90e-15, 7.30e-15 2.34e-15 1.54e-17 2.57e-15 5.58e-15 3.25e-14 1.93e-14 6.65e-14 1.90e-15, \n",
      "24k, Loss: 9.18e-15 1.49e-15 6.90e-16 5.81e-16 1.08e-15 5.18e-16 6.09e-16 7.21e-15 3.50e-16, 9.18e-15 1.49e-15 6.90e-16 5.81e-16 1.08e-15 5.18e-16 6.09e-16 7.21e-15 3.50e-16, \n",
      "25k, Loss: 1.72e-14 8.00e-15 4.63e-14 1.05e-13 1.13e-13 1.11e-13 6.64e-14 1.81e-13 3.67e-13, 1.72e-14 8.00e-15 4.63e-14 1.05e-13 1.13e-13 1.11e-13 6.64e-14 1.81e-13 3.67e-13, \n",
      "26k, Loss: 1.13e-14 1.78e-15 1.27e-16 2.63e-16 1.58e-16 1.52e-15 4.70e-15 6.18e-15 1.07e-18, 1.13e-14 1.78e-15 1.27e-16 2.63e-16 1.58e-16 1.52e-15 4.70e-15 6.18e-15 1.07e-18, \n",
      "27k, Loss: 7.35e-15 1.20e-15 2.66e-14 5.11e-14 8.59e-14 7.87e-14 7.62e-14 1.55e-14 3.20e-17, 7.35e-15 1.20e-15 2.66e-14 5.11e-14 8.59e-14 7.87e-14 7.62e-14 1.55e-14 3.20e-17, \n",
      "28k, Loss: 3.49e-15 3.25e-14 7.94e-14 1.89e-13 3.28e-13 5.86e-13 8.86e-13 9.96e-13 8.18e-13, 3.49e-15 3.25e-14 7.94e-14 1.89e-13 3.28e-13 5.86e-13 8.86e-13 9.96e-13 8.18e-13, \n",
      "29k, Loss: 5.71e-15 5.52e-18 1.58e-14 2.85e-14 6.60e-14 6.29e-14 8.98e-14 3.33e-15 1.77e-14, 5.71e-15 5.52e-18 1.58e-14 2.85e-14 6.60e-14 6.29e-14 8.98e-14 3.33e-15 1.77e-14, \n",
      "30k, Loss: 4.12e-15 1.46e-16 1.67e-15 2.59e-15 3.91e-15 7.92e-16 1.66e-16 8.43e-16 2.09e-16, 4.12e-15 1.46e-16 1.67e-15 2.59e-15 3.91e-15 7.92e-16 1.66e-16 8.43e-16 2.09e-16, \n",
      "31k, Loss: 3.55e-15 4.03e-15 5.24e-15 1.28e-14 2.19e-14 3.87e-14 3.15e-14 1.29e-14 8.90e-15, 3.55e-15 4.03e-15 5.24e-15 1.28e-14 2.19e-14 3.87e-14 3.15e-14 1.29e-14 8.90e-15, \n",
      "32k, Loss: 5.26e-15 6.04e-17 3.63e-15 4.91e-15 7.06e-15 1.25e-15 1.53e-16 7.01e-15 9.02e-15, 5.26e-15 6.04e-17 3.63e-15 4.91e-15 7.06e-15 1.25e-15 1.53e-16 7.01e-15 9.02e-15, \n",
      "33k, Loss: 4.38e-15 2.06e-14 1.31e-13 2.86e-13 4.95e-13 6.23e-13 6.73e-13 4.03e-13 8.53e-14, 4.38e-15 2.06e-14 1.31e-13 2.86e-13 4.95e-13 6.23e-13 6.73e-13 4.03e-13 8.53e-14, \n",
      "34k, Loss: 4.27e-15 4.39e-19 2.71e-15 4.31e-15 4.60e-15 7.56e-16 7.74e-17 1.70e-15 3.12e-16, 4.27e-15 4.39e-19 2.71e-15 4.31e-15 4.60e-15 7.56e-16 7.74e-17 1.70e-15 3.12e-16, \n",
      "35k, Loss: 3.40e-15 1.67e-16 7.63e-16 1.09e-15 1.31e-15 1.54e-17 8.35e-17 8.13e-16 1.59e-16, 3.40e-15 1.67e-16 7.63e-16 1.09e-15 1.31e-15 1.54e-17 8.35e-17 8.13e-16 1.59e-16, \n",
      "36k, Loss: 2.43e-15 1.33e-17 2.03e-15 2.86e-15 2.98e-15 7.34e-16 6.27e-16 7.28e-16 1.21e-14, 2.43e-15 1.33e-17 2.03e-15 2.86e-15 2.98e-15 7.34e-16 6.27e-16 7.28e-16 1.21e-14, \n",
      "37k, Loss: 3.36e-15 2.13e-13 4.92e-13 1.12e-12 1.45e-12 1.92e-12 1.23e-12 1.69e-12 7.01e-13, 3.36e-15 2.13e-13 4.92e-13 1.12e-12 1.45e-12 1.92e-12 1.23e-12 1.69e-12 7.01e-13, \n",
      "38k, Loss: 2.95e-13 1.08e-14 1.57e-14 8.82e-14 6.73e-14 2.11e-14 2.67e-14 5.30e-15 7.27e-16, 2.95e-13 1.08e-14 1.57e-14 8.82e-14 6.73e-14 2.11e-14 2.67e-14 5.30e-15 7.27e-16, \n",
      "39k, Loss: 1.23e-13 4.78e-15 8.34e-15 3.22e-14 2.55e-14 4.62e-15 4.55e-15 4.02e-15 4.09e-15, 1.23e-13 4.78e-15 8.34e-15 3.22e-14 2.55e-14 4.62e-15 4.55e-15 4.02e-15 4.09e-15, \n",
      "40k, Loss: 5.77e-14 4.60e-16 1.15e-14 2.93e-14 2.33e-14 3.79e-15 6.09e-15 1.32e-14 5.59e-15, 5.77e-14 4.60e-16 1.15e-14 2.93e-14 2.33e-14 3.79e-15 6.09e-15 1.32e-14 5.59e-15, \n",
      "41k, Loss: 3.73e-14 6.05e-16 5.46e-15 1.39e-14 9.97e-15 4.62e-16 7.66e-15 1.27e-14 5.36e-15, 3.73e-14 6.05e-16 5.46e-15 1.39e-14 9.97e-15 4.62e-16 7.66e-15 1.27e-14 5.36e-15, \n",
      "42k, Loss: 2.41e-14 1.21e-15 4.64e-16 1.34e-15 2.82e-18 6.39e-15 2.97e-14 2.07e-14 1.34e-15, 2.41e-14 1.21e-15 4.64e-16 1.34e-15 2.82e-18 6.39e-15 2.97e-14 2.07e-14 1.34e-15, \n",
      "43k, Loss: 2.38e-14 7.25e-16 2.60e-15 6.84e-15 5.70e-15 4.03e-16 1.46e-15 3.27e-15 1.69e-16, 2.38e-14 7.25e-16 2.60e-15 6.84e-15 5.70e-15 4.03e-16 1.46e-15 3.27e-15 1.69e-16, \n",
      "44k, Loss: 1.70e-14 5.26e-17 1.09e-14 2.55e-14 3.03e-14 1.55e-14 2.69e-16 4.01e-15 3.33e-14, 1.70e-14 5.26e-17 1.09e-14 2.55e-14 3.03e-14 1.55e-14 2.69e-16 4.01e-15 3.33e-14, \n",
      "45k, Loss: 1.86e-14 2.16e-15 1.89e-14 3.91e-14 2.91e-14 1.13e-14 8.02e-16 5.82e-16 1.19e-14, 1.86e-14 2.16e-15 1.89e-14 3.91e-14 2.91e-14 1.13e-14 8.02e-16 5.82e-16 1.19e-14, \n",
      "46k, Loss: 1.73e-14 2.15e-16 2.05e-15 4.85e-15 2.01e-15 3.57e-16 1.13e-14 9.13e-15 9.67e-16, 1.73e-14 2.15e-16 2.05e-15 4.85e-15 2.01e-15 3.57e-16 1.13e-14 9.13e-15 9.67e-16, \n",
      "47k, Loss: 1.21e-14 1.56e-15 1.99e-14 4.36e-14 4.85e-14 2.71e-14 8.00e-19 7.50e-15 7.22e-14, 1.21e-14 1.56e-15 1.99e-14 4.36e-14 4.85e-14 2.71e-14 8.00e-19 7.50e-15 7.22e-14, \n",
      "48k, Loss: 1.13e-14 3.66e-16 1.24e-15 3.31e-15 3.19e-15 4.54e-16 1.19e-16 3.65e-16 1.63e-16, 1.13e-14 3.66e-16 1.24e-15 3.31e-15 3.19e-15 4.54e-16 1.19e-16 3.65e-16 1.63e-16, \n",
      "49k, Loss: 8.95e-15 1.99e-15 2.11e-17 5.86e-18 1.46e-17 5.31e-16 1.16e-20 1.05e-15 2.40e-16, 8.95e-15 1.99e-15 2.11e-17 5.86e-18 1.46e-17 5.31e-16 1.16e-20 1.05e-15 2.40e-16, \n",
      "50k, Loss: 7.54e-15 3.37e-16 1.37e-14 3.05e-14 5.34e-14 5.46e-14 5.87e-14 1.85e-14 4.22e-16, 7.54e-15 3.37e-16 1.37e-14 3.05e-14 5.34e-14 5.46e-14 5.87e-14 1.85e-14 4.22e-16, \n",
      "dU: tensor([[ 5.7107e-05,  2.3347e-06, -1.3528e-04, -2.9363e-07,  2.9773e-04,\n",
      "          6.3422e-07],\n",
      "        [ 5.6338e-05,  2.9905e-06, -1.3486e-04,  2.2643e-07,  2.9796e-04,\n",
      "          1.5048e-06],\n",
      "        [ 5.5820e-05,  3.4247e-06, -1.3482e-04,  6.7117e-07,  2.9789e-04,\n",
      "          2.0871e-06],\n",
      "        [ 5.5056e-05,  4.0526e-06, -1.3442e-04,  1.2115e-06,  2.9807e-04,\n",
      "          2.9319e-06],\n",
      "        [ 5.4590e-05,  4.4334e-06, -1.3445e-04,  1.6470e-06,  2.9793e-04,\n",
      "          3.4494e-06],\n",
      "        [ 5.3841e-05,  5.0486e-06, -1.3407e-04,  2.1783e-06,  2.9810e-04,\n",
      "          4.2781e-06],\n",
      "        [ 5.3450e-05,  5.3833e-06, -1.3418e-04,  2.5703e-06,  2.9792e-04,\n",
      "          4.7293e-06],\n",
      "        [ 5.2601e-05,  6.3316e-06, -1.3327e-04,  2.8191e-06,  2.9872e-04,\n",
      "          5.8773e-06],\n",
      "        [ 5.2730e-05,  6.6723e-06, -1.3345e-04,  2.4802e-06,  2.9891e-04,\n",
      "          6.1291e-06],\n",
      "        [ 5.2463e-05,  6.9572e-06, -1.3363e-04,  2.7574e-06,  2.9874e-04,\n",
      "          6.4936e-06]], grad_fn=<MmBackward0>)\n",
      "[tensor([ 4.5276e-08,  2.2323e-02,  1.3453e-07,  3.1010e-04, -6.4521e-27,\n",
      "        -2.2321e-02], grad_fn=<DivBackward0>), tensor([ 2.8459e-08,  2.2456e-02,  1.4182e-07, -7.2030e-05, -1.2895e-26,\n",
      "        -2.2199e-02], grad_fn=<DivBackward0>), tensor([-4.8013e-08,  2.2624e-02, -2.2829e-07, -2.5270e-04,  6.4521e-27,\n",
      "        -2.2016e-02], grad_fn=<DivBackward0>), tensor([-6.0839e-08,  2.2632e-02, -1.9298e-07, -1.8861e-04,  0.0000e+00,\n",
      "        -2.2008e-02], grad_fn=<DivBackward0>), tensor([ 5.2259e-08,  2.2705e-02,  1.4065e-07,  8.9623e-05,  0.0000e+00,\n",
      "        -2.1926e-02], grad_fn=<DivBackward0>), tensor([-3.9248e-08,  1.9782e-02, -1.0034e-08,  5.3008e-03,  0.0000e+00,\n",
      "        -2.3108e-02], grad_fn=<DivBackward0>), tensor([ 7.7214e-08,  1.6167e-02,  9.7751e-08,  1.3777e-02,  0.0000e+00,\n",
      "        -2.3040e-02], grad_fn=<DivBackward0>), tensor([-7.3772e-08,  1.9794e-02, -8.8388e-08,  9.7274e-03,  0.0000e+00,\n",
      "        -2.1073e-02], grad_fn=<DivBackward0>)]\n"
     ]
    },
    {
     "ename": "ValueError",
     "evalue": "only one element tensors can be converted to Python scalars",
     "output_type": "error",
     "traceback": [
      "\u001b[0;31m---------------------------------------------------------------------------\u001b[0m",
      "\u001b[0;31mValueError\u001b[0m                                Traceback (most recent call last)",
      "Cell \u001b[0;32mIn[29], line 16\u001b[0m\n\u001b[1;32m     14\u001b[0m \u001b[38;5;66;03m# 5e4+1\u001b[39;00m\n\u001b[1;32m     15\u001b[0m torch\u001b[38;5;241m.\u001b[39mcuda\u001b[38;5;241m.\u001b[39mempty_cache()\n\u001b[0;32m---> 16\u001b[0m \u001b[43mplot_model\u001b[49m\u001b[43m(\u001b[49m\u001b[43mmodel\u001b[49m\u001b[43m)\u001b[49m\n\u001b[1;32m     17\u001b[0m \u001b[38;5;66;03m# torch.save(model.state_dict(), \"savee/model_\"+str(choose_id))\u001b[39;00m\n\u001b[1;32m     18\u001b[0m \u001b[38;5;66;03m#torch.save(model.state_dict(),\"savee/model_anaconda3\")\u001b[39;00m\n",
      "Cell \u001b[0;32mIn[28], line 36\u001b[0m, in \u001b[0;36mplot_model\u001b[0;34m(model, cmap, max_V)\u001b[0m\n\u001b[1;32m     34\u001b[0m \u001b[38;5;28;01mdef\u001b[39;00m \u001b[38;5;21mplot_model\u001b[39m(model,cmap\u001b[38;5;241m=\u001b[39m\u001b[38;5;124m'\u001b[39m\u001b[38;5;124mterrain\u001b[39m\u001b[38;5;124m'\u001b[39m,max_V \u001b[38;5;241m=\u001b[39m \u001b[38;5;241m10\u001b[39m,):\n\u001b[1;32m     35\u001b[0m     xx     \u001b[38;5;241m=\u001b[39m np\u001b[38;5;241m.\u001b[39mlinspace(\u001b[38;5;241m0\u001b[39m,\u001b[38;5;241m2\u001b[39m,nt)\u001b[38;5;241m.\u001b[39mreshape(\u001b[38;5;241m-\u001b[39m\u001b[38;5;241m1\u001b[39m,\u001b[38;5;241m1\u001b[39m)\n\u001b[0;32m---> 36\u001b[0m     U_NN \u001b[38;5;241m=\u001b[39m \u001b[43mmodel\u001b[49m\u001b[38;5;241;43m.\u001b[39;49m\u001b[43mget_U_line_integration\u001b[49m\u001b[43m(\u001b[49m\u001b[43mX\u001b[49m\u001b[43m,\u001b[49m\u001b[43m \u001b[49m\u001b[43mnt\u001b[49m\u001b[43m)\u001b[49m\n\u001b[1;32m     37\u001b[0m     \u001b[38;5;28mprint\u001b[39m()\n\u001b[1;32m     38\u001b[0m     \u001b[38;5;28mprint\u001b[39m(\u001b[38;5;124mf\u001b[39m\u001b[38;5;124m\"\u001b[39m\u001b[38;5;124minitial U: \u001b[39m\u001b[38;5;132;01m{\u001b[39;00mU_NN\u001b[38;5;132;01m}\u001b[39;00m\u001b[38;5;124m\"\u001b[39m)\n",
      "Cell \u001b[0;32mIn[23], line 73\u001b[0m, in \u001b[0;36mModel.get_U_line_integration\u001b[0;34m(self, X, nt)\u001b[0m\n\u001b[1;32m     71\u001b[0m midpoints \u001b[38;5;241m=\u001b[39m [midpoints[\u001b[38;5;241m0\u001b[39m]] \u001b[38;5;241m+\u001b[39m midpoints \u001b[38;5;241m+\u001b[39m [midpoints[\u001b[38;5;241m-\u001b[39m\u001b[38;5;241m1\u001b[39m]]\n\u001b[1;32m     72\u001b[0m \u001b[38;5;66;03m# midpoints = torch.abs(torch.tensor(midpoints))\u001b[39;00m\n\u001b[0;32m---> 73\u001b[0m midpoints \u001b[38;5;241m=\u001b[39m \u001b[43mtorch\u001b[49m\u001b[38;5;241;43m.\u001b[39;49m\u001b[43mtensor\u001b[49m\u001b[43m(\u001b[49m\u001b[43mmidpoints\u001b[49m\u001b[43m)\u001b[49m\n\u001b[1;32m     74\u001b[0m \u001b[38;5;28mprint\u001b[39m(\u001b[38;5;124mf\u001b[39m\u001b[38;5;124m\"\u001b[39m\u001b[38;5;124mmidpoints: \u001b[39m\u001b[38;5;132;01m{\u001b[39;00mmidpoints\u001b[38;5;132;01m}\u001b[39;00m\u001b[38;5;124m\"\u001b[39m)\n\u001b[1;32m     76\u001b[0m U \u001b[38;5;241m=\u001b[39m []\n",
      "\u001b[0;31mValueError\u001b[0m: only one element tensors can be converted to Python scalars"
     ]
    }
   ],
   "source": [
    "#for choose_id in [1,2,3]:\n",
    "model_U = FCNN(input_dim=dim,output_dim=1,num_hidden=3,hidden_dim=10,act=tanh)#.cuda()\n",
    "model   = Model(dim,model_U=model_U)#.cuda();\n",
    "SOL     = Solver(model)\n",
    "\n",
    "# print(model.mu,model.sigma,model.coef_U)\n",
    "    #optimizer = torch.optim.Adam(model.parameters(), lr=torch.tensor(0.001).cuda())\n",
    "optimizer = torch.optim.Adam(model.parameters(), lr=torch.tensor(0.001))\n",
    "scheduler = None\n",
    "_loss_step = SOL.train_model(data_train=X,data_test=X,\n",
    "                             get_loss=get_loss,optimizer=optimizer,scheduler=scheduler,\n",
    "                             n_steps=int(5e4+1),batch_size=500,n_show_loss=1000,use_tqdm=True)\n",
    "\n",
    "# 5e4+1\n",
    "torch.cuda.empty_cache()\n",
    "plot_model(model)\n",
    "# torch.save(model.state_dict(), \"savee/model_\"+str(choose_id))\n",
    "#torch.save(model.state_dict(),\"savee/model_anaconda3\")"
   ]
  },
  {
   "cell_type": "code",
   "execution_count": 30,
   "id": "d42b71ab",
   "metadata": {},
   "outputs": [
    {
     "name": "stdout",
     "output_type": "stream",
     "text": [
      "\n",
      "dU: tensor([[ 5.7107e-05,  2.3347e-06, -1.3528e-04, -2.9363e-07,  2.9773e-04,\n",
      "          6.3422e-07],\n",
      "        [ 5.6338e-05,  2.9905e-06, -1.3486e-04,  2.2643e-07,  2.9796e-04,\n",
      "          1.5048e-06],\n",
      "        [ 5.5820e-05,  3.4247e-06, -1.3482e-04,  6.7117e-07,  2.9789e-04,\n",
      "          2.0871e-06],\n",
      "        [ 5.5056e-05,  4.0526e-06, -1.3442e-04,  1.2115e-06,  2.9807e-04,\n",
      "          2.9319e-06],\n",
      "        [ 5.4590e-05,  4.4334e-06, -1.3445e-04,  1.6470e-06,  2.9793e-04,\n",
      "          3.4494e-06],\n",
      "        [ 5.3841e-05,  5.0486e-06, -1.3407e-04,  2.1783e-06,  2.9810e-04,\n",
      "          4.2781e-06],\n",
      "        [ 5.3450e-05,  5.3833e-06, -1.3418e-04,  2.5703e-06,  2.9792e-04,\n",
      "          4.7293e-06],\n",
      "        [ 5.2601e-05,  6.3316e-06, -1.3327e-04,  2.8191e-06,  2.9872e-04,\n",
      "          5.8773e-06],\n",
      "        [ 5.2730e-05,  6.6723e-06, -1.3345e-04,  2.4802e-06,  2.9891e-04,\n",
      "          6.1291e-06],\n",
      "        [ 5.2463e-05,  6.9572e-06, -1.3363e-04,  2.7574e-06,  2.9874e-04,\n",
      "          6.4936e-06]], grad_fn=<MmBackward0>)\n",
      "[tensor([ 4.5276e-08,  2.2323e-02,  1.3453e-07,  3.1010e-04, -6.4521e-27,\n",
      "        -2.2321e-02], grad_fn=<DivBackward0>), tensor([ 4.5276e-08,  2.2323e-02,  1.3453e-07,  3.1010e-04, -6.4521e-27,\n",
      "        -2.2321e-02], grad_fn=<DivBackward0>), tensor([ 2.8459e-08,  2.2456e-02,  1.4182e-07, -7.2030e-05, -1.2895e-26,\n",
      "        -2.2199e-02], grad_fn=<DivBackward0>), tensor([-4.8013e-08,  2.2624e-02, -2.2829e-07, -2.5270e-04,  6.4521e-27,\n",
      "        -2.2016e-02], grad_fn=<DivBackward0>), tensor([-6.0839e-08,  2.2632e-02, -1.9298e-07, -1.8861e-04,  0.0000e+00,\n",
      "        -2.2008e-02], grad_fn=<DivBackward0>), tensor([ 5.2259e-08,  2.2705e-02,  1.4065e-07,  8.9623e-05,  0.0000e+00,\n",
      "        -2.1926e-02], grad_fn=<DivBackward0>), tensor([-3.9248e-08,  1.9782e-02, -1.0034e-08,  5.3008e-03,  0.0000e+00,\n",
      "        -2.3108e-02], grad_fn=<DivBackward0>), tensor([ 7.7214e-08,  1.6167e-02,  9.7751e-08,  1.3777e-02,  0.0000e+00,\n",
      "        -2.3040e-02], grad_fn=<DivBackward0>), tensor([-7.3772e-08,  1.9794e-02, -8.8388e-08,  9.7274e-03,  0.0000e+00,\n",
      "        -2.1073e-02], grad_fn=<DivBackward0>), tensor([-7.3772e-08,  1.9794e-02, -8.8388e-08,  9.7274e-03,  0.0000e+00,\n",
      "        -2.1073e-02], grad_fn=<DivBackward0>)]\n",
      "midpoints: tensor([[ 4.5276e-08,  2.2323e-02,  1.3453e-07,  3.1010e-04, -6.4521e-27,\n",
      "         -2.2321e-02],\n",
      "        [ 4.5276e-08,  2.2323e-02,  1.3453e-07,  3.1010e-04, -6.4521e-27,\n",
      "         -2.2321e-02],\n",
      "        [ 2.8459e-08,  2.2456e-02,  1.4182e-07, -7.2030e-05, -1.2895e-26,\n",
      "         -2.2199e-02],\n",
      "        [-4.8013e-08,  2.2624e-02, -2.2829e-07, -2.5270e-04,  6.4521e-27,\n",
      "         -2.2016e-02],\n",
      "        [-6.0839e-08,  2.2632e-02, -1.9298e-07, -1.8861e-04,  0.0000e+00,\n",
      "         -2.2008e-02],\n",
      "        [ 5.2259e-08,  2.2705e-02,  1.4065e-07,  8.9623e-05,  0.0000e+00,\n",
      "         -2.1926e-02],\n",
      "        [-3.9248e-08,  1.9782e-02, -1.0034e-08,  5.3008e-03,  0.0000e+00,\n",
      "         -2.3108e-02],\n",
      "        [ 7.7214e-08,  1.6167e-02,  9.7751e-08,  1.3777e-02,  0.0000e+00,\n",
      "         -2.3040e-02],\n",
      "        [-7.3772e-08,  1.9794e-02, -8.8388e-08,  9.7274e-03,  0.0000e+00,\n",
      "         -2.1073e-02],\n",
      "        [-7.3772e-08,  1.9794e-02, -8.8388e-08,  9.7274e-03,  0.0000e+00,\n",
      "         -2.1073e-02]], grad_fn=<StackBackward0>)\n",
      "\n",
      "torch.Size([10])\n",
      "\n",
      "tensor([0.0000e+00, 3.7854e-08, 3.3225e-08, 3.0511e-08, 2.6858e-08, 2.4133e-08,\n",
      "        2.1005e-08, 1.0831e-08, 5.7812e-09, 2.7048e-08],\n",
      "       grad_fn=<CatBackward0>)\n",
      "\n",
      "\n",
      "(10,)\n",
      "learned gradients: tensor([[ 5.7107e-05,  2.3347e-06, -1.3528e-04, -2.9363e-07,  2.9773e-04,\n",
      "          6.3422e-07],\n",
      "        [ 5.6338e-05,  2.9905e-06, -1.3486e-04,  2.2643e-07,  2.9796e-04,\n",
      "          1.5048e-06],\n",
      "        [ 5.5820e-05,  3.4247e-06, -1.3482e-04,  6.7117e-07,  2.9789e-04,\n",
      "          2.0871e-06],\n",
      "        [ 5.5056e-05,  4.0526e-06, -1.3442e-04,  1.2115e-06,  2.9807e-04,\n",
      "          2.9319e-06],\n",
      "        [ 5.4590e-05,  4.4334e-06, -1.3445e-04,  1.6470e-06,  2.9793e-04,\n",
      "          3.4494e-06],\n",
      "        [ 5.3841e-05,  5.0486e-06, -1.3407e-04,  2.1783e-06,  2.9810e-04,\n",
      "          4.2781e-06],\n",
      "        [ 5.3450e-05,  5.3833e-06, -1.3418e-04,  2.5703e-06,  2.9792e-04,\n",
      "          4.7293e-06],\n",
      "        [ 5.2601e-05,  6.3316e-06, -1.3327e-04,  2.8191e-06,  2.9872e-04,\n",
      "          5.8773e-06],\n",
      "        [ 5.2730e-05,  6.6723e-06, -1.3345e-04,  2.4802e-06,  2.9891e-04,\n",
      "          6.1291e-06],\n",
      "        [ 5.2463e-05,  6.9572e-06, -1.3363e-04,  2.7574e-06,  2.9874e-04,\n",
      "          6.4936e-06]], grad_fn=<MmBackward0>)\n",
      "\n",
      "\n",
      "Given gradients: tensor([[ 0.0000e+00,  0.0000e+00,  0.0000e+00,  0.0000e+00,  0.0000e+00,\n",
      "          0.0000e+00],\n",
      "        [ 1.2351e-06,  3.4900e-02,  3.9333e-06, -3.1939e-05,  1.4986e-07,\n",
      "         -3.2776e-02],\n",
      "        [ 1.6326e-06,  3.4834e-02,  7.9745e-06, -1.9901e-04, -7.9981e-08,\n",
      "         -3.6256e-02],\n",
      "        [-3.6149e-06,  3.8398e-02, -1.4777e-05, -6.2985e-04,  4.0396e-07,\n",
      "         -3.4941e-02],\n",
      "        [-3.0350e-06,  3.6475e-02, -9.6716e-06,  4.4422e-06, -1.2490e-08,\n",
      "         -3.7910e-02],\n",
      "        [ 1.7310e-06,  3.8200e-02,  5.6740e-06,  2.5676e-04,  3.3604e-07,\n",
      "         -3.4260e-02],\n",
      "        [-6.8483e-07,  2.4343e-02, -2.3019e-07,  1.5791e-02, -3.4226e-08,\n",
      "         -3.8089e-02],\n",
      "        [ 5.2693e-07,  1.8052e-02,  5.7281e-07,  1.9005e-02,  3.6355e-08,\n",
      "         -2.3261e-02],\n",
      "        [-2.8107e-07,  1.0567e-02, -3.5508e-07,  1.0587e-03, -4.8431e-09,\n",
      "         -9.5918e-03],\n",
      "        [ 0.0000e+00,  0.0000e+00,  0.0000e+00,  0.0000e+00,  0.0000e+00,\n",
      "          0.0000e+00]])\n",
      "[tensor(7.4179e-15, grad_fn=<PowBackward0>), tensor(7.1230e-16, grad_fn=<PowBackward0>), tensor(1.7315e-14, grad_fn=<PowBackward0>), tensor(3.8226e-14, grad_fn=<PowBackward0>), tensor(6.4725e-14, grad_fn=<PowBackward0>), tensor(6.5084e-14, grad_fn=<PowBackward0>), tensor(6.0198e-14, grad_fn=<PowBackward0>), tensor(1.6322e-14, grad_fn=<PowBackward0>), tensor(4.4643e-16, grad_fn=<PowBackward0>), tensor(8.9335e-14, grad_fn=<PowBackward0>)]\n"
     ]
    },
    {
     "data": {
      "image/png": "[encoded data removed]",
      "text/plain": [
       "<Figure size 1000x600 with 1 Axes>"
      ]
     },
     "metadata": {},
     "output_type": "display_data"
    }
   ],
   "source": [
    "def testModel_get_U_line_integration(X, nt):\n",
    "    _,dU = model.get_U_dU(X)\n",
    "    print(f\"dU: {dU}\")\n",
    "    midpoints = [ (X[t+1,:] - X[t-1, :]) / 2 for t in range(1,9)]\n",
    "    midpoints = [midpoints[0]] + midpoints + [midpoints[-1]]\n",
    "    print(midpoints)\n",
    "    # midpoints = torch.abs(torch.tensor(midpoints))\n",
    "    midpoints = torch.stack(midpoints)\n",
    "    print(f\"midpoints: {midpoints}\")\n",
    "\n",
    "    U = []\n",
    "    for t in range(dU.shape[0] - 1):\n",
    "        U.append(torch.sum(midpoints[t, :] * dU[t, :]))\n",
    "    U = torch.stack(U)\n",
    "    U = torch.cat((torch.tensor([0]), U), dim = 0)\n",
    "    print()\n",
    "    print(U.shape)\n",
    "    print()\n",
    "    # U = (U[1:] + U[:nt - 2]) / 2\n",
    "    # print()\n",
    "    # U = torch.cat((torch.tensor([0]), ((U[1:] + U[:nt - 2]) / 2)), dim=0)\n",
    "    print(U)\n",
    "    U = torch.tensor(list(itertools.accumulate(U)))\n",
    "\n",
    "    xx     = np.linspace(0,2,nt).reshape(-1,1)\n",
    "    U = U[:nt]\n",
    "    U_NN_min = U.min()\n",
    "    U  = U-U_NN_min\n",
    "    U = U.detach().numpy()\n",
    "\n",
    "    print()\n",
    "    print()\n",
    "    print(U.shape)\n",
    "\n",
    "    fig, ax    = plt.subplots(1,1,figsize=(5,3),dpi=200,constrained_layout=True)\n",
    "    c        = ax.plot(xx[:,0],U,'-',lw=1.5)\n",
    "    return dU\n",
    "\n",
    "print()\n",
    "alphaGradients = testModel_get_U_line_integration(X, nt)\n",
    "print(f\"learned gradients: {alphaGradients}\")\n",
    "print()\n",
    "print()\n",
    "GIVENgradients = torch.tensor(pd.read_csv('alpha1_dW.txt', header = None).values).T\n",
    "print(f\"Given gradients: {GIVENgradients}\")\n",
    "\n",
    "paths = torch.tensor(pd.read_csv('alpha1_path.txt', header = None).values)\n",
    "\n",
    "resultsGradients = getAllResidues(paths.T, alphaGradients)\n",
    "print(resultsGradients)"
   ]
  },
  {
   "cell_type": "code",
   "execution_count": 31,
   "id": "6ae68d53",
   "metadata": {},
   "outputs": [
    {
     "name": "stdout",
     "output_type": "stream",
     "text": [
      "tensor([-0.1944, -0.1944, -0.1944, -0.1944, -0.1944, -0.1944, -0.1944, -0.1944,\n",
      "        -0.1944, -0.1944], grad_fn=<ViewBackward0>)\n"
     ]
    }
   ],
   "source": []
  },
  {
   "cell_type": "code",
   "execution_count": null,
   "id": "202572d9",
   "metadata": {},
   "outputs": [],
   "source": [
    "def plot_model(model,cmap='terrain',max_V = 10,):\n",
    "    U_NN = model.get_U_line_integration(X, nt)\n",
    "    print()\n",
    "    print(f\"initial U: {U_NN}\")\n",
    "    U_NN = U_NN[:nt]\n",
    "    U_NN_min = U_NN.min()\n",
    "    U_NN  = U_NN-U_NN_min\n",
    "    print()\n",
    "    print(f\"after some changes U: {U_NN}\")\n",
    "    U_NN_np = U_NN.detach().numpy()\n",
    "    fig, ax    = plt.subplots(1,1,figsize=(5,3),dpi=200,constrained_layout=True)\n",
    "    c        = ax.plot(xx[:,0],U_NN_np,'-',lw=1.5)"
   ]
  },
  {
   "cell_type": "code",
   "execution_count": 17,
   "id": "afff1d21",
   "metadata": {},
   "outputs": [
    {
     "name": "stdout",
     "output_type": "stream",
     "text": [
      "dU: tensor([[-1.1889e-04,  1.3407e-06,  2.7276e-05, -2.8853e-06,  7.1689e-05,\n",
      "          2.8042e-06],\n",
      "        [-1.1834e-04,  1.2279e-06,  2.6129e-05, -2.6010e-06,  7.2597e-05,\n",
      "          2.5943e-06],\n",
      "        [-1.1822e-04,  9.9028e-07,  2.5357e-05, -2.4365e-06,  7.3222e-05,\n",
      "          2.2849e-06],\n",
      "        [-1.1764e-04,  8.4603e-07,  2.4304e-05, -2.1510e-06,  7.4101e-05,\n",
      "          2.0396e-06],\n",
      "        [-1.1758e-04,  5.5690e-07,  2.3610e-05, -2.0046e-06,  7.4696e-05,\n",
      "          1.6788e-06],\n",
      "        [-1.1701e-04,  3.6546e-07,  2.2492e-05, -1.7126e-06,  7.5663e-05,\n",
      "          1.3677e-06],\n",
      "        [-1.1710e-04,  3.5998e-09,  2.1723e-05, -1.5842e-06,  7.6338e-05,\n",
      "          9.1957e-07],\n",
      "        [-1.1675e-04, -3.3623e-07,  1.8368e-05, -1.0918e-06,  7.9047e-05,\n",
      "          1.9780e-07],\n",
      "        [-1.1844e-04, -1.1949e-06,  1.4800e-05, -9.6778e-07,  8.1810e-05,\n",
      "         -1.0739e-06],\n",
      "        [-1.1880e-04, -1.7091e-06,  1.3671e-05, -8.5550e-07,  8.2803e-05,\n",
      "         -1.7469e-06]], grad_fn=<MmBackward0>)\n",
      "[tensor([ 4.5276e-08,  2.2323e-02,  1.3453e-07,  3.1010e-04, -6.4521e-27,\n",
      "        -2.2321e-02], grad_fn=<DivBackward0>), tensor([ 2.8459e-08,  2.2456e-02,  1.4182e-07, -7.2030e-05, -1.2895e-26,\n",
      "        -2.2199e-02], grad_fn=<DivBackward0>), tensor([-4.8013e-08,  2.2624e-02, -2.2829e-07, -2.5270e-04,  6.4521e-27,\n",
      "        -2.2016e-02], grad_fn=<DivBackward0>), tensor([-6.0839e-08,  2.2632e-02, -1.9298e-07, -1.8861e-04,  0.0000e+00,\n",
      "        -2.2008e-02], grad_fn=<DivBackward0>), tensor([ 5.2259e-08,  2.2705e-02,  1.4065e-07,  8.9623e-05,  0.0000e+00,\n",
      "        -2.1926e-02], grad_fn=<DivBackward0>), tensor([-3.9248e-08,  1.9782e-02, -1.0034e-08,  5.3008e-03,  0.0000e+00,\n",
      "        -2.3108e-02], grad_fn=<DivBackward0>), tensor([ 7.7214e-08,  1.6167e-02,  9.7751e-08,  1.3777e-02,  0.0000e+00,\n",
      "        -2.3040e-02], grad_fn=<DivBackward0>), tensor([-7.3772e-08,  1.9794e-02, -8.8388e-08,  9.7274e-03,  0.0000e+00,\n",
      "        -2.1073e-02], grad_fn=<DivBackward0>)]\n"
     ]
    },
    {
     "ename": "ValueError",
     "evalue": "only one element tensors can be converted to Python scalars",
     "output_type": "error",
     "traceback": [
      "\u001b[0;31m---------------------------------------------------------------------------\u001b[0m",
      "\u001b[0;31mValueError\u001b[0m                                Traceback (most recent call last)",
      "Cell \u001b[0;32mIn[17], line 1\u001b[0m\n\u001b[0;32m----> 1\u001b[0m \u001b[43mplot_model\u001b[49m\u001b[43m(\u001b[49m\u001b[43mmodel\u001b[49m\u001b[43m)\u001b[49m\n",
      "Cell \u001b[0;32mIn[16], line 36\u001b[0m, in \u001b[0;36mplot_model\u001b[0;34m(model, cmap, max_V)\u001b[0m\n\u001b[1;32m     34\u001b[0m \u001b[38;5;28;01mdef\u001b[39;00m \u001b[38;5;21mplot_model\u001b[39m(model,cmap\u001b[38;5;241m=\u001b[39m\u001b[38;5;124m'\u001b[39m\u001b[38;5;124mterrain\u001b[39m\u001b[38;5;124m'\u001b[39m,max_V \u001b[38;5;241m=\u001b[39m \u001b[38;5;241m10\u001b[39m,):\n\u001b[1;32m     35\u001b[0m     xx     \u001b[38;5;241m=\u001b[39m np\u001b[38;5;241m.\u001b[39mlinspace(\u001b[38;5;241m0\u001b[39m,\u001b[38;5;241m2\u001b[39m,nt)\u001b[38;5;241m.\u001b[39mreshape(\u001b[38;5;241m-\u001b[39m\u001b[38;5;241m1\u001b[39m,\u001b[38;5;241m1\u001b[39m)\n\u001b[0;32m---> 36\u001b[0m     U_NN \u001b[38;5;241m=\u001b[39m \u001b[43mmodel\u001b[49m\u001b[38;5;241;43m.\u001b[39;49m\u001b[43mget_U_line_integration\u001b[49m\u001b[43m(\u001b[49m\u001b[43mX\u001b[49m\u001b[43m,\u001b[49m\u001b[43m \u001b[49m\u001b[43mnt\u001b[49m\u001b[43m)\u001b[49m\n\u001b[1;32m     37\u001b[0m     \u001b[38;5;28mprint\u001b[39m()\n\u001b[1;32m     38\u001b[0m     \u001b[38;5;28mprint\u001b[39m(\u001b[38;5;124mf\u001b[39m\u001b[38;5;124m\"\u001b[39m\u001b[38;5;124minitial U: \u001b[39m\u001b[38;5;132;01m{\u001b[39;00mU_NN\u001b[38;5;132;01m}\u001b[39;00m\u001b[38;5;124m\"\u001b[39m)\n",
      "Cell \u001b[0;32mIn[9], line 73\u001b[0m, in \u001b[0;36mModel.get_U_line_integration\u001b[0;34m(self, X, nt)\u001b[0m\n\u001b[1;32m     71\u001b[0m midpoints \u001b[38;5;241m=\u001b[39m [midpoints[\u001b[38;5;241m0\u001b[39m]] \u001b[38;5;241m+\u001b[39m midpoints \u001b[38;5;241m+\u001b[39m [midpoints[\u001b[38;5;241m-\u001b[39m\u001b[38;5;241m1\u001b[39m]]\n\u001b[1;32m     72\u001b[0m \u001b[38;5;66;03m# midpoints = torch.abs(torch.tensor(midpoints))\u001b[39;00m\n\u001b[0;32m---> 73\u001b[0m midpoints \u001b[38;5;241m=\u001b[39m \u001b[43mtorch\u001b[49m\u001b[38;5;241;43m.\u001b[39;49m\u001b[43mtensor\u001b[49m\u001b[43m(\u001b[49m\u001b[43mmidpoints\u001b[49m\u001b[43m)\u001b[49m\n\u001b[1;32m     74\u001b[0m \u001b[38;5;28mprint\u001b[39m(\u001b[38;5;124mf\u001b[39m\u001b[38;5;124m\"\u001b[39m\u001b[38;5;124mmidpoints: \u001b[39m\u001b[38;5;132;01m{\u001b[39;00mmidpoints\u001b[38;5;132;01m}\u001b[39;00m\u001b[38;5;124m\"\u001b[39m)\n\u001b[1;32m     76\u001b[0m U \u001b[38;5;241m=\u001b[39m []\n",
      "\u001b[0;31mValueError\u001b[0m: only one element tensors can be converted to Python scalars"
     ]
    }
   ],
   "source": [
    "plot_model(model)"
   ]
  },
  {
   "cell_type": "code",
   "execution_count": 91,
   "id": "d187bedb",
   "metadata": {},
   "outputs": [
    {
     "name": "stdout",
     "output_type": "stream",
     "text": [
      "torch.Size([10, 6])\n",
      "[tensor(6.9074e-08, grad_fn=<SumBackward0>), tensor(6.0148e-08, grad_fn=<SumBackward0>), tensor(5.2816e-08, grad_fn=<SumBackward0>), tensor(4.3344e-08, grad_fn=<SumBackward0>), tensor(3.8008e-08, grad_fn=<SumBackward0>), tensor(2.9889e-08, grad_fn=<SumBackward0>), tensor(2.6032e-08, grad_fn=<SumBackward0>), tensor(-1.0985e-08, grad_fn=<SumBackward0>), tensor(-7.3550e-09, grad_fn=<SumBackward0>)]\n",
      "tensor([ 6.9074e-08,  6.0148e-08,  5.2816e-08,  4.3344e-08,  3.8008e-08,\n",
      "         2.9889e-08,  2.6032e-08, -1.0985e-08, -7.3550e-09],\n",
      "       grad_fn=<StackBackward0>)\n",
      "tensor([0])\n",
      "\n",
      "initial U: tensor([0.0000e+00, 6.4611e-08, 1.2109e-07, 1.6917e-07, 2.0985e-07, 2.4380e-07,\n",
      "        2.7176e-07, 2.7928e-07, 2.7011e-07])\n",
      "\n",
      "after some changes U: tensor([0.0000e+00, 6.4611e-08, 1.2109e-07, 1.6917e-07, 2.0985e-07, 2.4380e-07,\n",
      "        2.7176e-07, 2.7928e-07, 2.7011e-07])\n"
     ]
    },
    {
     "data": {
      "image/png": "[encoded data removed]",
      "text/plain": [
       "<Figure size 1000x600 with 1 Axes>"
      ]
     },
     "metadata": {},
     "output_type": "display_data"
    }
   ],
   "source": [
    "# def GGGGet_U_line_integration(self, X, nt):\n",
    "#     _,dU = self.get_U_dU(X)\n",
    "#     print(f\"dU: {dU}\")\n",
    "#     midpoints = [ (X[t+1,:] - X[t-1, :]) / 2 for t in range(1,9)]\n",
    "#     print(midpoints)\n",
    "#     midpoints = [midpoints[0]] + midpoints + [midpoints[-1]]\n",
    "#     # midpoints = torch.abs(torch.tensor(midpoints))\n",
    "#     midpoints = torch.tensor(midpoints)\n",
    "#     print(f\"midpoints: {midpoints}\")\n",
    "\n",
    "#     U = []\n",
    "#     for t in range(dU.shape[0] - 1):\n",
    "#         U.append(torch.sum(midpoints[t, :] * dU[t, :]))\n",
    "#     U = torch.stack(U)\n",
    "#     U = torch.cat((torch.tensor([0]), ((U[1:] + U[:nt - 1]) / 2)), dim=0)\n",
    "#     U = torch.tensor(list(itertools.accumulate(U)))\n",
    "#     return U\n",
    "\n",
    "# def plot_model(model,cmap='terrain',max_V = 10,):\n",
    "# print(X.shape)\n",
    "\n",
    "xx     = np.linspace(0,2,nt-1).reshape(-1,1)\n",
    "\n",
    "_,dU = model.get_U_dU(X)\n",
    "# print(f\"dU: {dU}\")\n",
    "print(dU.shape)\n",
    "midpoints = [ (X[t+1,:] - X[t-1, :]) / 2 for t in range(1,9)]\n",
    "midpoints = [midpoints[0]] + midpoints + [midpoints[-1]]\n",
    "# print(midpoints)\n",
    "\n",
    "# midpoints = torch.abs(torch.tensor(midpoints))\n",
    "# midpoints = torch.tensor(midpoints)\n",
    "midpoints = torch.stack(midpoints)\n",
    "# print(f\"midpoints: {midpoints}\")\n",
    "# print(midpoints.shape)\n",
    "\n",
    "U = []\n",
    "for t in range(dU.shape[0] - 1):\n",
    "    U.append(torch.sum(midpoints[t, :] * dU[t, :]))\n",
    "print(U)\n",
    "U = torch.stack(U)\n",
    "print(U)\n",
    "print(torch.tensor([0]))\n",
    "temp = ((U[1:] + U[:nt-2]) / 2)\n",
    "U = torch.cat((torch.tensor([0]), temp), dim=0)\n",
    "# print(U)\n",
    "U = torch.tensor(list(itertools.accumulate(U)))\n",
    "U_NN = U\n",
    "\n",
    "print()\n",
    "print(f\"initial U: {U_NN}\")\n",
    "U_NN = U_NN[:nt]\n",
    "U_NN_min = U_NN.min()\n",
    "U_NN  = U_NN-U_NN_min\n",
    "print()\n",
    "print(f\"after some changes U: {U_NN}\")\n",
    "U_NN_np = U_NN.detach().numpy()\n",
    "fig, ax    = plt.subplots(1,1,figsize=(5,3),dpi=200,constrained_layout=True)\n",
    "c        = ax.plot(xx[:,0],U_NN_np,'-',lw=1.5)"
   ]
  },
  {
   "cell_type": "code",
   "execution_count": 52,
   "id": "0f4b298f",
   "metadata": {},
   "outputs": [
    {
     "ename": "AttributeError",
     "evalue": "'Model' object has no attribute 'GGGGet_U_line_integration'",
     "output_type": "error",
     "traceback": [
      "\u001b[0;31m---------------------------------------------------------------------------\u001b[0m",
      "\u001b[0;31mAttributeError\u001b[0m                            Traceback (most recent call last)",
      "Cell \u001b[0;32mIn[52], line 1\u001b[0m\n\u001b[0;32m----> 1\u001b[0m \u001b[43mplot_model\u001b[49m\u001b[43m(\u001b[49m\u001b[43mmodel\u001b[49m\u001b[43m)\u001b[49m\n",
      "Cell \u001b[0;32mIn[51], line 36\u001b[0m, in \u001b[0;36mplot_model\u001b[0;34m(model, cmap, max_V)\u001b[0m\n\u001b[1;32m     34\u001b[0m \u001b[38;5;28;01mdef\u001b[39;00m \u001b[38;5;21mplot_model\u001b[39m(model,cmap\u001b[38;5;241m=\u001b[39m\u001b[38;5;124m'\u001b[39m\u001b[38;5;124mterrain\u001b[39m\u001b[38;5;124m'\u001b[39m,max_V \u001b[38;5;241m=\u001b[39m \u001b[38;5;241m10\u001b[39m,):\n\u001b[1;32m     35\u001b[0m     xx     \u001b[38;5;241m=\u001b[39m np\u001b[38;5;241m.\u001b[39mlinspace(\u001b[38;5;241m0\u001b[39m,\u001b[38;5;241m2\u001b[39m,nt)\u001b[38;5;241m.\u001b[39mreshape(\u001b[38;5;241m-\u001b[39m\u001b[38;5;241m1\u001b[39m,\u001b[38;5;241m1\u001b[39m)\n\u001b[0;32m---> 36\u001b[0m     U_NN \u001b[38;5;241m=\u001b[39m \u001b[43mmodel\u001b[49m\u001b[38;5;241;43m.\u001b[39;49m\u001b[43mGGGGet_U_line_integration\u001b[49m(X, nt)\n\u001b[1;32m     37\u001b[0m     \u001b[38;5;28mprint\u001b[39m()\n\u001b[1;32m     38\u001b[0m     \u001b[38;5;28mprint\u001b[39m(\u001b[38;5;124mf\u001b[39m\u001b[38;5;124m\"\u001b[39m\u001b[38;5;124minitial U: \u001b[39m\u001b[38;5;132;01m{\u001b[39;00mU_NN\u001b[38;5;132;01m}\u001b[39;00m\u001b[38;5;124m\"\u001b[39m)\n",
      "File \u001b[0;32m/Library/Frameworks/Python.framework/Versions/3.12/lib/python3.12/site-packages/torch/nn/modules/module.py:1931\u001b[0m, in \u001b[0;36mModule.__getattr__\u001b[0;34m(self, name)\u001b[0m\n\u001b[1;32m   1929\u001b[0m     \u001b[38;5;28;01mif\u001b[39;00m name \u001b[38;5;129;01min\u001b[39;00m modules:\n\u001b[1;32m   1930\u001b[0m         \u001b[38;5;28;01mreturn\u001b[39;00m modules[name]\n\u001b[0;32m-> 1931\u001b[0m \u001b[38;5;28;01mraise\u001b[39;00m \u001b[38;5;167;01mAttributeError\u001b[39;00m(\n\u001b[1;32m   1932\u001b[0m     \u001b[38;5;124mf\u001b[39m\u001b[38;5;124m\"\u001b[39m\u001b[38;5;124m'\u001b[39m\u001b[38;5;132;01m{\u001b[39;00m\u001b[38;5;28mtype\u001b[39m(\u001b[38;5;28mself\u001b[39m)\u001b[38;5;241m.\u001b[39m\u001b[38;5;18m__name__\u001b[39m\u001b[38;5;132;01m}\u001b[39;00m\u001b[38;5;124m'\u001b[39m\u001b[38;5;124m object has no attribute \u001b[39m\u001b[38;5;124m'\u001b[39m\u001b[38;5;132;01m{\u001b[39;00mname\u001b[38;5;132;01m}\u001b[39;00m\u001b[38;5;124m'\u001b[39m\u001b[38;5;124m\"\u001b[39m\n\u001b[1;32m   1933\u001b[0m )\n",
      "\u001b[0;31mAttributeError\u001b[0m: 'Model' object has no attribute 'GGGGet_U_line_integration'"
     ]
    }
   ],
   "source": [
    "plot_model(model)"
   ]
  },
  {
   "cell_type": "code",
   "execution_count": 47,
   "id": "00b3093a",
   "metadata": {},
   "outputs": [],
   "source": [
    "# def get_U_line_integration(self, X, dU, dX):\n",
    "def TEST_get_U_line_integration():\n",
    "    dU = torch.tensor(pd.read_csv('alpha1_dW.txt', header = None).values).T\n",
    "    X = torch.tensor(pd.read_csv('alpha1_path.txt', header = None).values).T\n",
    "    nt = 10\n",
    "    \n",
    "    midpoints = [ (X[t+1,:] - X[t-1, :]) / 2 for t in range(1,9)]\n",
    "    midpoints = [midpoints[0]] + midpoints + [midpoints[-1]]\n",
    "    midpoints = torch.stack(midpoints)\n",
    "\n",
    "    U = []\n",
    "    for t in range(dU.shape[0]):\n",
    "        U.append(torch.sum(midpoints[t, :] * dU[t, :]))\n",
    "    U = torch.stack(U)\n",
    "    U = torch.cat((torch.tensor([0]), ((U[1:] + U[:nt - 1]) / 2)), dim=0)\n",
    "    U = torch.tensor(list(itertools.accumulate(U)))\n",
    "    return U\n"
   ]
  },
  {
   "cell_type": "code",
   "execution_count": 21,
   "id": "b984b4ed",
   "metadata": {},
   "outputs": [
    {
     "name": "stdout",
     "output_type": "stream",
     "text": [
      "[0.         0.00075533 0.00230421 0.00391682 0.00556579 0.00720496\n",
      " 0.00873692 0.01000443 0.01076004 0.01097083]\n",
      "[0.         0.00075616 0.00230639 0.00392046 0.00557131 0.00721247\n",
      " 0.00877898 0.01008863 0.01086808 0.01109424]\n"
     ]
    },
    {
     "data": {
      "image/png": "[encoded data removed]",
      "text/plain": [
       "<Figure size 2000x1000 with 1 Axes>"
      ]
     },
     "metadata": {},
     "output_type": "display_data"
    }
   ],
   "source": [
    "def plot_side_by_side_bar_chart(array1, array2):    \n",
    "    \"\"\"\n",
    "    Plots a bar chart for two 10-length datasets (PyTorch tensors, NumPy arrays, or lists),\n",
    "    where bars are placed side by side, and exact values are displayed above each bar.\n",
    "\n",
    "    Parameters:\n",
    "        array1 (torch.Tensor, np.array, or list): First dataset of length 10.\n",
    "        array2 (torch.Tensor, np.array, or list): Second dataset of length 10.\n",
    "    \"\"\"\n",
    "    # Convert PyTorch tensors to NumPy if necessary\n",
    "    if isinstance(array1, torch.Tensor):\n",
    "        array1 = array1.numpy()\n",
    "    if isinstance(array2, torch.Tensor):\n",
    "        array2 = array2.numpy().flatten()\n",
    "\n",
    "    print(array1)\n",
    "    print(array2)\n",
    "    # # Ensure inputs are NumPy arrays\n",
    "    # array1 = np.array(array1)\n",
    "    # array2 = np.array(array2)\n",
    "\n",
    "    # X-axis positions\n",
    "    x = np.arange(len(array1))\n",
    "\n",
    "    # Bar width to ensure bars are next to each other\n",
    "    bar_width = 0.4\n",
    "\n",
    "    # Create the bar plot\n",
    "    fig, ax = plt.subplots(figsize=(20, 10))\n",
    "    bars1 = ax.bar(x - bar_width/2, array1, width=bar_width, label=\"Array 1\")\n",
    "    bars2 = ax.bar(x + bar_width/2, array2, width=bar_width, label=\"Array 2\")\n",
    "\n",
    "    # Add data labels above bars\n",
    "    for bars in [bars1, bars2]:\n",
    "        for bar in bars:\n",
    "            height = bar.get_height()\n",
    "            ax.text(bar.get_x() + bar.get_width()/2, height, f'{height:.6f}', \n",
    "                    ha='center', va='bottom', fontsize=10)\n",
    "\n",
    "    # Labels and legend\n",
    "    ax.set_xlabel(\"Index\")\n",
    "    ax.set_ylabel(\"Value\")\n",
    "    ax.set_title(\"Side-by-Side Bar Chart with Data Labels\")\n",
    "    ax.set_xticks(x)  # Ensure correct x-axis labels\n",
    "    ax.legend()\n",
    "\n",
    "    # Show the plot\n",
    "    plt.show()\n",
    "\n",
    "plot_side_by_side_bar_chart(TEST_get_U_line_integration(), torch.tensor(pd.read_csv('alpha1_W.txt', header = None).values))"
   ]
  },
  {
   "cell_type": "code",
   "execution_count": 22,
   "id": "afe7ad7d",
   "metadata": {},
   "outputs": [
    {
     "data": {
      "image/png": "[encoded data removed]",
      "text/plain": [
       "<Figure size 1000x600 with 1 Axes>"
      ]
     },
     "metadata": {},
     "output_type": "display_data"
    }
   ],
   "source": [
    "def plot_compare(cmap='terrain',max_V = 10,):\n",
    "    nt=10\n",
    "    xx     = np.linspace(0,2,nt).reshape(-1,1)\n",
    "    W_compare = torch.tensor(pd.read_csv('alpha1_W.txt', header = None).values).T\n",
    "    fig, ax    = plt.subplots(1,1,figsize=(5,3),dpi=200,constrained_layout=True)\n",
    "    c        = ax.plot(xx[:,0],W_compare,'-',lw=1.5)\n",
    "plot_compare()"
   ]
  },
  {
   "cell_type": "markdown",
   "id": "839674fe",
   "metadata": {},
   "source": [
    "# Visualizing the results for different a_k(x)"
   ]
  },
  {
   "cell_type": "code",
   "execution_count": 23,
   "id": "344c6cc7",
   "metadata": {
    "code_folding": [
     0
    ]
   },
   "outputs": [],
   "source": [
    "def plot_models(models):\n",
    "    \n",
    "    xx       = np.linspace(0,2,1000).reshape(-1,1)\n",
    "    fig, ax  = plt.subplots(1,1,figsize=(4,3),dpi=200,constrained_layout=True)\n",
    "    \n",
    "    for k,model_name in enumerate(models):\n",
    "        model.load_state_dict(torch.load(model_name))\n",
    "        U_NN     = model.get_U_np(xx)\n",
    "        U_NN_min = U_NN.min()\n",
    "        U_NN     = U_NN-U_NN_min\n",
    "        c        = ax.plot(xx[:,0],U_NN,'-',lw=1.5,label=\"$a_{%d}(x)$\"%(k+1))\n",
    "    ax.legend(fontsize=10)\n",
    "    ax.set_xlabel('$x$',fontsize=10)\n",
    "    ax.set_ylabel('$U(x)$',fontsize=10)\n",
    "    ax.set_xlim([0,2])\n",
    "    ax.set_yticks([0,0.2,0.4,0.6,0.8,1,1.2])\n",
    "    ax.set_xticks([0,.5,1.,1.5,2])\n",
    "    ax.yaxis.grid(linestyle='--')\n",
    "    ax.tick_params(axis=\"both\", labelsize=10)\n",
    "    plt.show()\n",
    "# plot_models([\"savee/model_anaconda3\"])\n",
    "#plot_models([\"savee/model_a1_update\", \"savee/model_a2_update\", \"savee/model_a3_update\", \"savee/model_a4\", \"savee/model_a5_update\"])"
   ]
  },
  {
   "cell_type": "code",
   "execution_count": 24,
   "id": "0851750f",
   "metadata": {},
   "outputs": [],
   "source": [
    "# fig, ax  = plt.subplots(1,1,figsize=(4,3),dpi=200,constrained_layout=True)\n",
    "# xx       = np.linspace(0,2,1000).reshape(-1,1)\n",
    "# U_NN     = model.get_U_np(xx)\n",
    "# U_NN_min = U_NN.min()\n",
    "# U_NN     = U_NN-U_NN_min\n",
    "# c        = ax.plot(xx[:,0],U_NN,'-',lw=1.5)\n",
    "# ax.legend(fontsize=10)\n",
    "# ax.set_xlabel('$x$',fontsize=10)\n",
    "# ax.set_ylabel('$U(x)$',fontsize=10)\n",
    "# ax.set_xlim([0,2])\n",
    "# ax.set_yticks([0,0.2,0.4,0.6,0.8,1,1.2])\n",
    "# ax.set_xticks([0,.5,1.,1.5,2])\n",
    "# ax.yaxis.grid(linestyle='--')\n",
    "# ax.tick_params(axis=\"both\", labelsize=10)\n",
    "# plt.show()\n",
    "\n",
    "#torch.save(model.state_dict(), \"savee/model_99\")\n",
    "#model.state_dict()\n",
    "\n",
    "# U_NN\n",
    "\n",
    "# model\n",
    "\n",
    "# torch.load(\"/Users/annacoletti/Desktop/savee/model_a3_update.mat\")\n",
    "\n",
    "# import scipy.io as scio\n",
    "# from scipy.io import savemat\n",
    "# scio.savemat('W2_learned_DL', U_NN)"
   ]
  }
 ],
 "metadata": {
  "hide_input": false,
  "kernelspec": {
   "display_name": "Python 3",
   "language": "python",
   "name": "python3"
  },
  "language_info": {
   "codemirror_mode": {
    "name": "ipython",
    "version": 3
   },
   "file_extension": ".py",
   "mimetype": "text/x-python",
   "name": "python",
   "nbconvert_exporter": "python",
   "pygments_lexer": "ipython3",
   "version": "3.12.1"
  },
  "varInspector": {
   "cols": {
    "lenName": 16,
    "lenType": 16,
    "lenVar": 40
   },
   "kernels_config": {
    "python": {
     "delete_cmd_postfix": "",
     "delete_cmd_prefix": "del ",
     "library": "var_list.py",
     "varRefreshCmd": "print(var_dic_list())"
    },
    "r": {
     "delete_cmd_postfix": ") ",
     "delete_cmd_prefix": "rm(",
     "library": "var_list.r",
     "varRefreshCmd": "cat(var_dic_list()) "
    }
   },
   "types_to_exclude": [
    "module",
    "function",
    "builtin_function_or_method",
    "instance",
    "_Feature"
   ],
   "window_display": false
  }
 },
 "nbformat": 4,
 "nbformat_minor": 5
}
