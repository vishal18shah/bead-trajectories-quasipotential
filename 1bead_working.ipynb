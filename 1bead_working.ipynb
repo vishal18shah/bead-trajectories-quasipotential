{
 "cells": [
  {
   "cell_type": "code",
   "execution_count": 1,
   "id": "17d34f05",
   "metadata": {},
   "outputs": [
    {
     "name": "stdout",
     "output_type": "stream",
     "text": [
      "zsh:1: command not found: conda\n"
     ]
    }
   ],
   "source": [
    "#! nvidia-smi\n",
    "!conda install --yes pytorch==2.4.0"
   ]
  },
  {
   "cell_type": "code",
   "execution_count": 2,
   "id": "b280ca44",
   "metadata": {},
   "outputs": [],
   "source": [
    "import os\n",
    "def EXIT_NOTEBOOK(): os._exit(00)\n",
    "os.environ['CUDA_VISIBLE_DEVICES'] = '3'\n",
    "os.environ['TF_CPP_MIN_LOG_LEVEL'] = '3' "
   ]
  },
  {
   "cell_type": "code",
   "execution_count": 3,
   "id": "36ba82b5",
   "metadata": {},
   "outputs": [],
   "source": [
    "import numpy as np\n",
    "import matplotlib.pyplot as plt\n",
    "from tqdm.notebook import tqdm\n",
    "import random\n",
    "import torch \n",
    "from torch import nn\n",
    "import torch.nn.functional as func\n",
    "import seaborn as sns\n",
    "import matplotlib.ticker\n",
    "\n",
    "# # ps\n",
    "# import pysindy as ps\n",
    "\n",
    "# sns.set_theme()\n",
    "torch.set_default_dtype(torch.float64)\n",
    "plt.rcParams['text.usetex'] = True"
   ]
  },
  {
   "cell_type": "markdown",
   "id": "e265ae5e",
   "metadata": {},
   "source": [
    "# Set the vector field"
   ]
  },
  {
   "cell_type": "code",
   "execution_count": 4,
   "id": "fb5d2cd6",
   "metadata": {
    "code_folding": []
   },
   "outputs": [],
   "source": [
    "def get_v(x):\n",
    "    x = x[...,-1]\n",
    "    return np.stack([3*x*np.exp(-2*x**2),3*x*np.exp(-2*x**2)-5*x],axis=-1)"
   ]
  },
  {
   "cell_type": "code",
   "execution_count": 5,
   "id": "a9a3b215",
   "metadata": {},
   "outputs": [],
   "source": [
    "dim = 1"
   ]
  },
  {
   "cell_type": "markdown",
   "id": "6f339b9d",
   "metadata": {},
   "source": [
    "# Dataset for X"
   ]
  },
  {
   "cell_type": "code",
   "execution_count": 6,
   "id": "818019ae",
   "metadata": {},
   "outputs": [
    {
     "data": {
      "text/plain": [
       "(array([ 1.29891681e-04, -1.16698103e+01]),\n",
       " array([[ 1.29891681e-04, -1.16698103e+01],\n",
       "        [-7.09548695e-01,  3.12514508e+00]]))"
      ]
     },
     "execution_count": 6,
     "metadata": {},
     "output_type": "execute_result"
    }
   ],
   "source": [
    "X = np.random.uniform(-3,3,(10000,1))\n",
    "get_v(X[0]),get_v(X[:2])"
   ]
  },
  {
   "cell_type": "markdown",
   "id": "d9cbd757",
   "metadata": {},
   "source": [
    "# Set the NN model and Solver with training process"
   ]
  },
  {
   "cell_type": "code",
   "execution_count": 7,
   "id": "606412e9",
   "metadata": {
    "code_folding": [
     2,
     18,
     19,
     28,
     42,
     45
    ]
   },
   "outputs": [],
   "source": [
    "def relu2(X): return func.relu(X)**2\n",
    "def tanh(X): return func.tanh(X)\n",
    "class FCNN(nn.Module):\n",
    "    def __init__(self,input_dim=2,output_dim=1,num_hidden=2,hidden_dim=10,act=func.tanh,transform=None):\n",
    "        super().__init__()\n",
    "         \n",
    "        self.input_dim = input_dim\n",
    "        self.output_dim = output_dim\n",
    "        self.layers  = nn.ModuleList([nn.Linear(input_dim,hidden_dim)])\n",
    "        for _ in range(num_hidden-1): self.layers.append(nn.Linear(hidden_dim,hidden_dim))\n",
    "        self.act     = act\n",
    "        self.out     = nn.Linear(hidden_dim,output_dim)\n",
    "        self.transform = transform\n",
    "    def forward(self,X):\n",
    "        if self.transform is not None: X = self.transform(X)\n",
    "        for layer in self.layers: X = self.act(layer(X))\n",
    "        Y = self.out(X)\n",
    "        return Y\n",
    "class Model(nn.Module):\n",
    "    def __init__(self,dim,model_U,unit_len=int(5e3)):\n",
    "        super().__init__()\n",
    "        self.dim      = dim\n",
    "        self.model_U  = model_U\n",
    "        self.unit_len = unit_len\n",
    "        self.mu       = nn.Parameter(torch.tensor([0.]*dim),requires_grad=False)\n",
    "        self.sigma    = nn.Parameter(torch.tensor([1.]*dim),requires_grad=False)\n",
    "        self.coef_U   = nn.Parameter(torch.tensor(1.),requires_grad=False)\n",
    "        #self.mu       = nn.Parameter(torch.tensor([0.]*dim).cuda(),requires_grad=False)\n",
    "        #self.sigma    = nn.Parameter(torch.tensor([1.]*dim).cuda(),requires_grad=False)\n",
    "        #self.coef_U   = nn.Parameter(torch.tensor(1.).cuda(),requires_grad=False)\n",
    "    def get_U_harmonic(self,X): return torch.sum(X**2,axis=-1)\n",
    "    def get_U_dU(self,X): \n",
    "        I = int(np.ceil(len(X)/self.unit_len))\n",
    "        U,dU = [],[]\n",
    "        for i in range(I):\n",
    "            X_sub = X[i*self.unit_len:(i+1)*self.unit_len]\n",
    "            if not torch.is_tensor(X_sub): X_sub = torch.tensor(X_sub,requires_grad=True)#.cuda()\n",
    "            X_    = (X_sub-self.mu)/self.sigma\n",
    "            U_    = self.coef_U*(self.model_U(X_).view(-1) + self.get_U_harmonic(X_))\n",
    "            dU_   = torch.autograd.grad(U_,X_sub,torch.ones_like(U_),create_graph=True)[0] # it is X_sub!!!\n",
    "            U.append(U_)\n",
    "            dU.append(dU_)\n",
    "        U = torch.hstack(U)\n",
    "        dU = torch.vstack(dU)\n",
    "        return U,dU\n",
    "    def get_U_np(self,X): \n",
    "        U,_ = self.get_U_dU(X);\n",
    "        return U.cpu().data.numpy()\n",
    "class Solver():\n",
    "    def __init__(self,model):\n",
    "        self.model=model\n",
    "    def train_model(self,data_train,data_test,get_loss,optimizer,\n",
    "                    n_steps,batch_size,scheduler=None,n_show_loss=100,error_model=None,use_tqdm=True):\n",
    "        if use_tqdm: step_range = tqdm(range(n_steps))\n",
    "        else: step_range = range(n_steps)\n",
    "        loss_step = []\n",
    "        for i_step in step_range:\n",
    "            if i_step%n_show_loss==0:\n",
    "                loss_train,loss_test = get_loss(self.model,data_train)[:-1],\\\n",
    "                                       get_loss(self.model,data_test)[:-1]\n",
    "                \n",
    "                def show_num(x): \n",
    "                    if abs(x)<100 and abs(x)>.01: return '%0.5f'%x\n",
    "                    else: return '%0.2e'%x\n",
    "                item1 = '%2dk'%np.int_(i_step/1000)\n",
    "                item2 = 'Loss: '+' '.join([show_num(k) for k in loss_train])\n",
    "                item3 = ' '.join([show_num(k) for k in loss_test])\n",
    "                item4 = ''\n",
    "                if error_model is not None: item4 = 'E(QP): %0.4f' % (error_model(self.model))\n",
    "                print(', '.join([item1,item2,item3,item4]))\n",
    "                loss_step = loss_step + [i_step] + [k.cpu().data.numpy() for k in loss_train]\\\n",
    "                                                 + [k.cpu().data.numpy() for k in loss_train]\n",
    "            data_batch = data_train[random.sample(range(len(data_train)),\n",
    "                                                  min(batch_size,len(data_train)))]\n",
    "#             print(i_step,data_batch.shape)\n",
    "            loss = get_loss(self.model,data_batch)[-1]\n",
    "            optimizer.zero_grad()\n",
    "            loss.backward()\n",
    "            optimizer.step()\n",
    "            if scheduler is not None: scheduler.step()\n",
    "        if error_model is not None: \n",
    "            print(\"Error: %0.5f\" % (error_model(self.model)))\n",
    "        return loss_step"
   ]
  },
  {
   "cell_type": "code",
   "execution_count": 8,
   "id": "5786a635",
   "metadata": {
    "code_folding": []
   },
   "outputs": [],
   "source": [
    "model_U = FCNN(input_dim=dim,output_dim=1,num_hidden=3,hidden_dim=10,act=tanh)#.cuda()\n",
    "model   = Model(dim,model_U=model_U);#.cuda();\n",
    "SOL     = Solver(model)"
   ]
  },
  {
   "cell_type": "code",
   "execution_count": 9,
   "id": "fd4f4a11",
   "metadata": {},
   "outputs": [
    {
     "data": {
      "text/plain": [
       "(tensor([5.2689, 0.6281, 1.5311], grad_fn=<CatBackward0>),\n",
       " tensor([[ 4.6441],\n",
       "         [-1.6009],\n",
       "         [-2.4667]], grad_fn=<CatBackward0>))"
      ]
     },
     "execution_count": 9,
     "metadata": {},
     "output_type": "execute_result"
    }
   ],
   "source": [
    "model.get_U_dU(X[:3])"
   ]
  },
  {
   "cell_type": "markdown",
   "id": "6d82dfe6",
   "metadata": {},
   "source": [
    "# Set the loss function and Train the model for differen a_k(x)"
   ]
  },
  {
   "cell_type": "code",
   "execution_count": 10,
   "id": "69c4eeaf",
   "metadata": {
    "code_folding": [
     0,
     12,
     16
    ]
   },
   "outputs": [
    {
     "data": {
      "image/png": "[encoded data removed]",
      "text/plain": [
       "<Figure size 1000x600 with 1 Axes>"
      ]
     },
     "metadata": {},
     "output_type": "display_data"
    },
    {
     "data": {
      "text/plain": [
       "(tensor(171331.9423, grad_fn=<MeanBackward0>),\n",
       " tensor(171331.9423, grad_fn=<MeanBackward0>))"
      ]
     },
     "execution_count": 10,
     "metadata": {},
     "output_type": "execute_result"
    }
   ],
   "source": [
    "def plot_model(model,cmap='terrain',max_V = 10):\n",
    "    \n",
    "    xx     = np.linspace(0,2,1000).reshape(-1,1)\n",
    "    U_NN   = model.get_U_np(xx)\n",
    "    U_NN_min = U_NN.min()\n",
    "    U_NN  = U_NN-U_NN_min\n",
    "\n",
    "    fig, ax    = plt.subplots(1,1,figsize=(5,3),dpi=200,constrained_layout=True)\n",
    "    c      = ax.plot(xx[:,0],U_NN,'-',lw=1.5,)\n",
    "\n",
    "    ax.tick_params(axis=\"both\", labelsize=10)\n",
    "    plt.show()\n",
    "#def get_a(X,k=choose_id):\n",
    "#    if choose_id==1: return 2*torch.exp(-3*X**2)\n",
    "#    if choose_id==2: return 2/(1+torch.exp(20*(torch.abs(X)-0.75)))\n",
    "#    if choose_id==3: return 4/(1+torch.exp(20*(torch.abs(X)-0.75)))\n",
    "def get_loss(model,data):\n",
    "\n",
    "    X = data\n",
    "    X = torch.tensor(X,requires_grad=True)#.cuda()\n",
    "    _,dU = model.get_U_dU(X)\n",
    "\n",
    "    param = 1 #controls speed of crosslink binding force \n",
    "    c = 0.5*param \n",
    "    \n",
    "    tmp1 = torch.detach(3*X*torch.exp(-2*X**2)) #common part of v1 and v2, aka v1\n",
    "    tmp2 = torch.detach(-2*param/(1+torch.exp(20*(torch.abs(X)-0.75)))) #affinity function no.2 \n",
    "    tmp3 = torch.detach(-tmp2)\n",
    "    tmp4 = torch.detach(tmp1-5*X) #v2 which includes the ``binding\" force \n",
    "    Res = ( dU*(dU+tmp1)+tmp2 ) * (dU*(dU+tmp4)-c) - c*tmp3 #determinant \n",
    "    Res = Res**2\n",
    "    #loss = (Res[0]+Res[1]+Res[2])/3\n",
    "    loss = torch.mean( Res ) #norm of determinant -> loss function\n",
    "    \n",
    "    return loss,loss\n",
    "plot_model(model)\n",
    "get_loss(model,X[:3])"
   ]
  },
  {
   "cell_type": "code",
   "execution_count": 11,
   "id": "65d4b29e",
   "metadata": {
    "code_folding": []
   },
   "outputs": [
    {
     "name": "stdout",
     "output_type": "stream",
     "text": [
      "Parameter containing:\n",
      "tensor([0.]) Parameter containing:\n",
      "tensor([1.]) Parameter containing:\n",
      "tensor(1.)\n"
     ]
    },
    {
     "data": {
      "application/vnd.jupyter.widget-view+json": {
       "model_id": "99a49cc6e9754e98943ea769b20d0794",
       "version_major": 2,
       "version_minor": 0
      },
      "text/plain": [
       "  0%|          | 0/100001 [00:00<?, ?it/s]"
      ]
     },
     "metadata": {},
     "output_type": "display_data"
    },
    {
     "name": "stdout",
     "output_type": "stream",
     "text": [
      " 0k, Loss: 4.28e+05, 4.28e+05, \n",
      " 1k, Loss: 5.07e+02, 5.07e+02, \n",
      " 2k, Loss: 1.20e+02, 1.20e+02, \n",
      " 3k, Loss: 34.21186, 34.21186, \n",
      " 4k, Loss: 11.03651, 11.03651, \n",
      " 5k, Loss: 4.05452, 4.05452, \n",
      " 6k, Loss: 1.72058, 1.72058, \n",
      " 7k, Loss: 0.82506, 0.82506, \n",
      " 8k, Loss: 0.42998, 0.42998, \n",
      " 9k, Loss: 0.23878, 0.23878, \n",
      "10k, Loss: 0.14025, 0.14025, \n",
      "11k, Loss: 0.08820, 0.08820, \n",
      "12k, Loss: 0.05972, 0.05972, \n",
      "13k, Loss: 0.04409, 0.04409, \n",
      "14k, Loss: 0.03448, 0.03448, \n",
      "15k, Loss: 0.02781, 0.02781, \n",
      "16k, Loss: 0.02271, 0.02271, \n",
      "17k, Loss: 0.01797, 0.01797, \n",
      "18k, Loss: 0.01265, 0.01265, \n",
      "19k, Loss: 8.34e-03, 8.34e-03, \n",
      "20k, Loss: 6.02e-03, 6.02e-03, \n",
      "21k, Loss: 5.25e-03, 5.25e-03, \n",
      "22k, Loss: 5.00e-03, 5.00e-03, \n",
      "23k, Loss: 4.76e-03, 4.76e-03, \n",
      "24k, Loss: 4.31e-03, 4.31e-03, \n",
      "25k, Loss: 3.68e-03, 3.68e-03, \n",
      "26k, Loss: 2.96e-03, 2.96e-03, \n",
      "27k, Loss: 2.08e-03, 2.08e-03, \n",
      "28k, Loss: 1.24e-03, 1.24e-03, \n",
      "29k, Loss: 7.17e-04, 7.17e-04, \n",
      "30k, Loss: 2.14e-04, 2.14e-04, \n",
      "31k, Loss: 1.93e-04, 1.93e-04, \n",
      "32k, Loss: 7.98e-05, 7.98e-05, \n",
      "33k, Loss: 8.45e-05, 8.45e-05, \n",
      "34k, Loss: 7.00e-05, 7.00e-05, \n",
      "35k, Loss: 7.06e-05, 7.06e-05, \n",
      "36k, Loss: 6.33e-05, 6.33e-05, \n",
      "37k, Loss: 6.99e-05, 6.99e-05, \n",
      "38k, Loss: 5.32e-05, 5.32e-05, \n",
      "39k, Loss: 5.45e-05, 5.45e-05, \n",
      "40k, Loss: 6.39e-05, 6.39e-05, \n",
      "41k, Loss: 4.70e-05, 4.70e-05, \n",
      "42k, Loss: 3.92e-05, 3.92e-05, \n",
      "43k, Loss: 3.93e-05, 3.93e-05, \n",
      "44k, Loss: 3.75e-05, 3.75e-05, \n",
      "45k, Loss: 3.18e-05, 3.18e-05, \n",
      "46k, Loss: 3.05e-05, 3.05e-05, \n",
      "47k, Loss: 2.89e-05, 2.89e-05, \n",
      "48k, Loss: 2.58e-05, 2.58e-05, \n",
      "49k, Loss: 2.39e-05, 2.39e-05, \n",
      "50k, Loss: 2.39e-05, 2.39e-05, \n",
      "51k, Loss: 2.10e-05, 2.10e-05, \n",
      "52k, Loss: 1.94e-05, 1.94e-05, \n",
      "53k, Loss: 1.66e-05, 1.66e-05, \n",
      "54k, Loss: 1.65e-05, 1.65e-05, \n",
      "55k, Loss: 1.86e-05, 1.86e-05, \n",
      "56k, Loss: 2.72e-05, 2.72e-05, \n",
      "57k, Loss: 1.57e-05, 1.57e-05, \n",
      "58k, Loss: 1.40e-05, 1.40e-05, \n",
      "59k, Loss: 1.37e-05, 1.37e-05, \n",
      "60k, Loss: 1.34e-05, 1.34e-05, \n",
      "61k, Loss: 1.29e-05, 1.29e-05, \n",
      "62k, Loss: 1.26e-05, 1.26e-05, \n",
      "63k, Loss: 1.29e-05, 1.29e-05, \n",
      "64k, Loss: 1.58e-05, 1.58e-05, \n",
      "65k, Loss: 1.54e-05, 1.54e-05, \n",
      "66k, Loss: 1.29e-05, 1.29e-05, \n",
      "67k, Loss: 1.04e-05, 1.04e-05, \n",
      "68k, Loss: 2.21e-05, 2.21e-05, \n",
      "69k, Loss: 9.81e-06, 9.81e-06, \n",
      "70k, Loss: 8.24e-06, 8.24e-06, \n",
      "71k, Loss: 7.14e-06, 7.14e-06, \n",
      "72k, Loss: 4.11e-05, 4.11e-05, \n",
      "73k, Loss: 2.53e-04, 2.53e-04, \n",
      "74k, Loss: 6.25e-06, 6.25e-06, \n",
      "75k, Loss: 9.90e-06, 9.90e-06, \n",
      "76k, Loss: 1.12e-05, 1.12e-05, \n",
      "77k, Loss: 4.07e-06, 4.07e-06, \n",
      "78k, Loss: 5.87e-06, 5.87e-06, \n",
      "79k, Loss: 4.30e-06, 4.30e-06, \n",
      "80k, Loss: 7.46e-06, 7.46e-06, \n",
      "81k, Loss: 3.08e-06, 3.08e-06, \n",
      "82k, Loss: 3.17e-06, 3.17e-06, \n",
      "83k, Loss: 5.92e-06, 5.92e-06, \n",
      "84k, Loss: 1.01e-05, 1.01e-05, \n",
      "85k, Loss: 2.51e-06, 2.51e-06, \n",
      "86k, Loss: 1.22e-05, 1.22e-05, \n",
      "87k, Loss: 2.62e-06, 2.62e-06, \n",
      "88k, Loss: 2.63e-06, 2.63e-06, \n",
      "89k, Loss: 2.09e-06, 2.09e-06, \n",
      "90k, Loss: 2.26e-06, 2.26e-06, \n",
      "91k, Loss: 1.99e-06, 1.99e-06, \n",
      "92k, Loss: 2.95e-06, 2.95e-06, \n",
      "93k, Loss: 2.60e-06, 2.60e-06, \n",
      "94k, Loss: 1.94e-06, 1.94e-06, \n",
      "95k, Loss: 1.02e-05, 1.02e-05, \n",
      "96k, Loss: 1.92e-06, 1.92e-06, \n",
      "97k, Loss: 2.02e-06, 2.02e-06, \n",
      "98k, Loss: 2.44e-06, 2.44e-06, \n",
      "99k, Loss: 1.98e-06, 1.98e-06, \n",
      "100k, Loss: 2.99e-04, 2.99e-04, \n"
     ]
    },
    {
     "data": {
      "image/png": "[encoded data removed]",
      "text/plain": [
       "<Figure size 1000x600 with 1 Axes>"
      ]
     },
     "metadata": {},
     "output_type": "display_data"
    }
   ],
   "source": [
    "#for choose_id in [1,2,3]:\n",
    "model_U = FCNN(input_dim=dim,output_dim=1,num_hidden=3,hidden_dim=10,act=tanh)#.cuda()\n",
    "model   = Model(dim,model_U=model_U);#.cuda();\n",
    "SOL     = Solver(model)\n",
    "\n",
    "print(model.mu,model.sigma,model.coef_U)\n",
    "optimizer = torch.optim.Adam(model.parameters(), lr=torch.tensor(0.001))#.cuda())\n",
    "scheduler = None\n",
    "_loss_step = SOL.train_model(data_train=X,data_test=X,\n",
    "                                get_loss=get_loss,optimizer=optimizer,scheduler=scheduler,\n",
    "                                n_steps=int(10e4+1),batch_size=500,n_show_loss=1000,use_tqdm=True)\n",
    "torch.cuda.empty_cache()\n",
    "plot_model(model)\n",
    "#torch.save(model.state_dict(), \"savee/model_\"+str(choose_id))"
   ]
  },
  {
   "cell_type": "markdown",
   "id": "839674fe",
   "metadata": {},
   "source": [
    "# Visualizing the results for different a_k(x)"
   ]
  },
  {
   "cell_type": "code",
   "execution_count": 12,
   "id": "344c6cc7",
   "metadata": {
    "code_folding": [
     0
    ]
   },
   "outputs": [
    {
     "data": {
      "image/png": "[encoded data removed]",
      "text/plain": [
       "<Figure size 1000x600 with 1 Axes>"
      ]
     },
     "metadata": {},
     "output_type": "display_data"
    }
   ],
   "source": [
    "def plot_models(models):\n",
    "    \n",
    "    xx       = np.linspace(0,2,1000).reshape(-1,1)\n",
    "    fig, ax  = plt.subplots(1,1,figsize=(4,3),dpi=200,constrained_layout=True)\n",
    "    \n",
    "    for k,model_name in enumerate(models):\n",
    "        model.load_state_dict(torch.load(model_name))\n",
    "        U_NN     = model.get_U_np(xx)\n",
    "        U_NN_min = U_NN.min()\n",
    "        U_NN     = U_NN-U_NN_min\n",
    "        c        = ax.plot(xx[:,0],U_NN,'-',lw=1.5,label=\"$a_{%d}(x)$\"%(k+1))\n",
    "    ax.legend(fontsize=10)\n",
    "    ax.set_xlabel('$x$',fontsize=10)\n",
    "    ax.set_ylabel('$U(x)$',fontsize=10)\n",
    "    ax.set_xlim([0,2])\n",
    "    ax.set_yticks([0,0.2,0.4,0.6,0.8,1,1.2])\n",
    "    ax.set_xticks([0,.5,1.,1.5,2])\n",
    "    ax.yaxis.grid(linestyle='--')\n",
    "    ax.tick_params(axis=\"both\", labelsize=10)\n",
    "    plt.show()\n",
    "    \n",
    "plot_model(model)\n",
    "    #[\"savee/model_1\",\"savee/model_2\",\"savee/model_3\"])"
   ]
  },
  {
   "cell_type": "code",
   "execution_count": null,
   "id": "0851750f",
   "metadata": {},
   "outputs": [],
   "source": []
  }
 ],
 "metadata": {
  "hide_input": false,
  "kernelspec": {
   "display_name": "Python 3",
   "language": "python",
   "name": "python3"
  },
  "language_info": {
   "codemirror_mode": {
    "name": "ipython",
    "version": 3
   },
   "file_extension": ".py",
   "mimetype": "text/x-python",
   "name": "python",
   "nbconvert_exporter": "python",
   "pygments_lexer": "ipython3",
   "version": "3.12.1"
  },
  "varInspector": {
   "cols": {
    "lenName": 16,
    "lenType": 16,
    "lenVar": 40
   },
   "kernels_config": {
    "python": {
     "delete_cmd_postfix": "",
     "delete_cmd_prefix": "del ",
     "library": "var_list.py",
     "varRefreshCmd": "print(var_dic_list())"
    },
    "r": {
     "delete_cmd_postfix": ") ",
     "delete_cmd_prefix": "rm(",
     "library": "var_list.r",
     "varRefreshCmd": "cat(var_dic_list()) "
    }
   },
   "types_to_exclude": [
    "module",
    "function",
    "builtin_function_or_method",
    "instance",
    "_Feature"
   ],
   "window_display": false
  }
 },
 "nbformat": 4,
 "nbformat_minor": 5
}
